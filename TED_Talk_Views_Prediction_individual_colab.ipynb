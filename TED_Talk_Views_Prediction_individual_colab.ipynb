{
  "nbformat": 4,
  "nbformat_minor": 0,
  "metadata": {
    "colab": {
      "provenance": [],
      "include_colab_link": true
    },
    "kernelspec": {
      "name": "python3",
      "display_name": "Python 3"
    },
    "language_info": {
      "name": "python"
    }
  },
  "cells": [
    {
      "cell_type": "markdown",
      "metadata": {
        "id": "view-in-github",
        "colab_type": "text"
      },
      "source": [
        "<a href=\"https://colab.research.google.com/github/Tauseef-09/TED_Talk_Views_Prediction/blob/main/TED_Talk_Views_Prediction.ipynb\" target=\"_parent\"><img src=\"https://colab.research.google.com/assets/colab-badge.svg\" alt=\"Open In Colab\"/></a>"
      ]
    },
    {
      "cell_type": "code",
      "execution_count": null,
      "metadata": {
        "id": "UiTgd6WnFvyc"
      },
      "outputs": [],
      "source": [
        " \n",
        "# Importing data visualization libraries.\n",
        "import matplotlib.pyplot as plt\n",
        "%matplotlib inline\n",
        "import seaborn as sns\n",
        "\n",
        "# Importing data manipulation libraries.\n",
        "import pandas as pd\n",
        "import numpy as np\n",
        "\n",
        "# Datatime library for Date columns.\n",
        "from datetime import datetime\n",
        "import datetime as dt\n",
        "from operator import itemgetter\n",
        "\n",
        "# Importing preprocessing libraries. \n",
        "from sklearn.preprocessing import MinMaxScaler\n",
        "from sklearn.preprocessing import OneHotEncoder\n",
        "from sklearn.preprocessing import MultiLabelBinarizer\n",
        "\n",
        "# Importing various machine learning models.\n",
        "from sklearn.linear_model import LinearRegression\n",
        "from sklearn.linear_model import Lasso\n",
        "from sklearn.linear_model import Ridge\n",
        "from sklearn.linear_model import ElasticNet\n",
        "from sklearn.tree import DecisionTreeRegressor\n",
        "from sklearn.ensemble import RandomForestRegressor\n",
        "from sklearn.ensemble import GradientBoostingRegressor\n",
        "\n",
        "# Importing model selection libraries.\n",
        "from sklearn.model_selection import cross_validate\n",
        "from sklearn.model_selection import train_test_split\n",
        "from sklearn.model_selection import GridSearchCV\n",
        "from sklearn.model_selection import cross_val_score\n",
        "from sklearn.model_selection import RepeatedStratifiedKFold\n",
        "from sklearn.model_selection import RandomizedSearchCV\n",
        "\n",
        "# importing XGB regressor.\n",
        "from xgboost import XGBRegressor\n",
        "\n",
        "# Import metrics libraries for model evaluation.\n",
        "from sklearn import metrics\n",
        "from sklearn.metrics import r2_score\n",
        "from sklearn.metrics import mean_squared_error\n",
        "from sklearn.metrics import accuracy_score\n",
        "from sklearn.metrics import mean_absolute_error\n",
        "from sklearn.metrics import log_loss\n",
        "\n",
        "# Importing graphviz for visualizing decision trees.\n",
        "import graphviz\n",
        "import sklearn.tree as tree\n",
        "\n",
        "# Importing warnings library. The warnings module handles warnings in Python.\n",
        "import warnings\n",
        "warnings.filterwarnings('ignore')\n"
      ]
    },
    {
      "cell_type": "code",
      "source": [
        "# Mounting drive inorder to get the data set\n",
        "\n",
        "from google.colab import drive\n",
        "drive.mount('/content/mount')\n"
      ],
      "metadata": {
        "colab": {
          "base_uri": "https://localhost:8080/"
        },
        "id": "dBr1XU9zHr_v",
        "outputId": "95a7281d-faf4-44cf-b17b-faa5b083cd43"
      },
      "execution_count": null,
      "outputs": [
        {
          "output_type": "stream",
          "name": "stdout",
          "text": [
            "Mounted at /content/mount\n"
          ]
        }
      ]
    },
    {
      "cell_type": "code",
      "source": [
        "# Reading the required data set from drive and storing it in a variable\n",
        "\n",
        "Ted_df = pd.read_csv('/content/mount/MyDrive/mount_data/data_ted_talks.csv')\n"
      ],
      "metadata": {
        "id": "Qm6AbpuIH2Sn"
      },
      "execution_count": null,
      "outputs": []
    },
    {
      "cell_type": "code",
      "source": [
        "# Copying the data into another varible so that any changes we make wont change the data present in our original data frame.\n",
        "\n",
        "Ted_data = Ted_df.copy()\n"
      ],
      "metadata": {
        "id": "RdQ1NnjEXoGs"
      },
      "execution_count": null,
      "outputs": []
    },
    {
      "cell_type": "markdown",
      "source": [
        "---\n",
        "# Basic Observation on our Data Set \n",
        "---"
      ],
      "metadata": {
        "id": "mq0ja2yEX2NR"
      }
    },
    {
      "cell_type": "code",
      "source": [
        "# Trying to know about the shape of our data set.\n",
        "\n",
        "print(f'The number of observations in our Data set =', Ted_data.shape[0])\n",
        "print(f'The number of features in our Data set =', Ted_data.shape[1])\n"
      ],
      "metadata": {
        "colab": {
          "base_uri": "https://localhost:8080/"
        },
        "id": "awhrR-C1Z0pL",
        "outputId": "4770ae4f-7efa-48e9-f5b3-28c4fef33b7c"
      },
      "execution_count": null,
      "outputs": [
        {
          "output_type": "stream",
          "name": "stdout",
          "text": [
            "The number of observations in our Data set = 4005\n",
            "The number of features in our Data set = 19\n"
          ]
        }
      ]
    },
    {
      "cell_type": "code",
      "source": [
        "# Getting a glance of what kinda data present in our data set.\n",
        "\n",
        "Ted_data.sample(5) \n"
      ],
      "metadata": {
        "id": "RX7xHz45TFZi",
        "colab": {
          "base_uri": "https://localhost:8080/",
          "height": 652
        },
        "outputId": "a9989b9a-b7ee-4394-f6e5-d8b9376d489b"
      },
      "execution_count": null,
      "outputs": [
        {
          "output_type": "execute_result",
          "data": {
            "text/plain": [
              "      talk_id                                   title      speaker_1  \\\n",
              "3971    61611   Can you solve the sea monster riddle?  Daniel Finkel   \n",
              "762       996           7 ways games reward the brain  Tom Chatfield   \n",
              "607       786  In the Internet age, dance evolves ...        The LXD   \n",
              "3329    24399                   What causes cavities?  Mel Rosenberg   \n",
              "289       353                    How to pitch to a VC  David S. Rose   \n",
              "\n",
              "              all_speakers                 occupations  \\\n",
              "3971  {0: 'Daniel Finkel'}                         NaN   \n",
              "762   {0: 'Tom Chatfield'}    {0: ['gaming theorist']}   \n",
              "607         {0: 'The LXD'}  {0: ['dance adventurers']}   \n",
              "3329  {0: 'Mel Rosenberg'}                         NaN   \n",
              "289   {0: 'David S. Rose'}     {0: ['angel investor']}   \n",
              "\n",
              "                                         about_speakers    views  \\\n",
              "3971                                                NaN   668529   \n",
              "762   {0: \"Tom Chatfield thinks about games -- what ...  1295108   \n",
              "607   {0: 'The LXD (the Legion of Extraordinary Danc...  4000539   \n",
              "3329                                                NaN  2983258   \n",
              "289   {0: '\"The Pitch Coach\" David S. Rose is an exp...  1320693   \n",
              "\n",
              "     recorded_date published_date           event native_lang  \\\n",
              "3971    2020-04-02     2020-04-02          TED-Ed          en   \n",
              "762     2010-07-14     2010-11-01  TEDGlobal 2010          en   \n",
              "607     2010-02-02     2010-03-05         TED2010          en   \n",
              "3329    2016-10-17     2019-03-22          TED-Ed          en   \n",
              "289     2007-03-01     2008-09-19         TED2007          en   \n",
              "\n",
              "                                         available_lang  comments  duration  \\\n",
              "3971  ['ar', 'en', 'es', 'fr', 'he', 'ko', 'pt-br', ...       NaN       295   \n",
              "762   ['ar', 'bg', 'cs', 'da', 'de', 'el', 'en', 'es...     349.0       988   \n",
              "607   ['ar', 'bg', 'de', 'el', 'en', 'es', 'fa', 'fr...     237.0      1008   \n",
              "3329  ['ar', 'bg', 'cs', 'de', 'en', 'es', 'fa', 'fr...       NaN       285   \n",
              "289   ['ar', 'bg', 'de', 'en', 'es', 'fr', 'he', 'it...     107.0       879   \n",
              "\n",
              "                                                 topics  \\\n",
              "3971  ['TED-Ed', 'education', 'oceans', 'animation',...   \n",
              "762   ['culture', 'education', 'entertainment', 'gam...   \n",
              "607   ['collaboration', 'dance', 'entertainment', 'g...   \n",
              "3329  ['health', 'public health', 'healthcare', 'TED...   \n",
              "289   ['business', 'invention', 'investment', 'prese...   \n",
              "\n",
              "                                          related_talks  \\\n",
              "3971  {35897: 'Can you solve the jail break riddle?'...   \n",
              "762   {799: 'Gaming can make a better world', 361: '...   \n",
              "607   {24: 'A dance of \"Symbiosis\"', 2589: 'A visual...   \n",
              "3329  {24190: 'What causes bad breath?', 24370: 'Why...   \n",
              "289   {70: '8 secrets of success', 28: 'How to get y...   \n",
              "\n",
              "                                                    url  \\\n",
              "3971  https://www.ted.com/talks/daniel_finkel_can_yo...   \n",
              "762   https://www.ted.com/talks/tom_chatfield_7_ways...   \n",
              "607   https://www.ted.com/talks/the_lxd_in_the_inter...   \n",
              "3329  https://www.ted.com/talks/mel_rosenberg_what_c...   \n",
              "289   https://www.ted.com/talks/david_s_rose_how_to_...   \n",
              "\n",
              "                                            description  \\\n",
              "3971  According to legend, once every thousand years...   \n",
              "762   We're bringing gameplay into more aspects of o...   \n",
              "607   The LXD (the Legion of Extraordinary Dancers) ...   \n",
              "3329  When a team of archeologists recently came acr...   \n",
              "289   Thinking startup? David S. Rose's rapid-fire T...   \n",
              "\n",
              "                                             transcript  \n",
              "3971  According to legend, once every thousand years...  \n",
              "762   I love video games. I'm also slightly in awe o...  \n",
              "607   (Music) (Applause) I'm Jon M. Chu. And I'm not...  \n",
              "3329  When a team of archaeologists recently came ac...  \n",
              "289   Good morning. My name is David Rose. I am a se...  "
            ],
            "text/html": [
              "\n",
              "  <div id=\"df-06af77a1-e312-418e-acc3-2332a233f22b\">\n",
              "    <div class=\"colab-df-container\">\n",
              "      <div>\n",
              "<style scoped>\n",
              "    .dataframe tbody tr th:only-of-type {\n",
              "        vertical-align: middle;\n",
              "    }\n",
              "\n",
              "    .dataframe tbody tr th {\n",
              "        vertical-align: top;\n",
              "    }\n",
              "\n",
              "    .dataframe thead th {\n",
              "        text-align: right;\n",
              "    }\n",
              "</style>\n",
              "<table border=\"1\" class=\"dataframe\">\n",
              "  <thead>\n",
              "    <tr style=\"text-align: right;\">\n",
              "      <th></th>\n",
              "      <th>talk_id</th>\n",
              "      <th>title</th>\n",
              "      <th>speaker_1</th>\n",
              "      <th>all_speakers</th>\n",
              "      <th>occupations</th>\n",
              "      <th>about_speakers</th>\n",
              "      <th>views</th>\n",
              "      <th>recorded_date</th>\n",
              "      <th>published_date</th>\n",
              "      <th>event</th>\n",
              "      <th>native_lang</th>\n",
              "      <th>available_lang</th>\n",
              "      <th>comments</th>\n",
              "      <th>duration</th>\n",
              "      <th>topics</th>\n",
              "      <th>related_talks</th>\n",
              "      <th>url</th>\n",
              "      <th>description</th>\n",
              "      <th>transcript</th>\n",
              "    </tr>\n",
              "  </thead>\n",
              "  <tbody>\n",
              "    <tr>\n",
              "      <th>3971</th>\n",
              "      <td>61611</td>\n",
              "      <td>Can you solve the sea monster riddle?</td>\n",
              "      <td>Daniel Finkel</td>\n",
              "      <td>{0: 'Daniel Finkel'}</td>\n",
              "      <td>NaN</td>\n",
              "      <td>NaN</td>\n",
              "      <td>668529</td>\n",
              "      <td>2020-04-02</td>\n",
              "      <td>2020-04-02</td>\n",
              "      <td>TED-Ed</td>\n",
              "      <td>en</td>\n",
              "      <td>['ar', 'en', 'es', 'fr', 'he', 'ko', 'pt-br', ...</td>\n",
              "      <td>NaN</td>\n",
              "      <td>295</td>\n",
              "      <td>['TED-Ed', 'education', 'oceans', 'animation',...</td>\n",
              "      <td>{35897: 'Can you solve the jail break riddle?'...</td>\n",
              "      <td>https://www.ted.com/talks/daniel_finkel_can_yo...</td>\n",
              "      <td>According to legend, once every thousand years...</td>\n",
              "      <td>According to legend, once every thousand years...</td>\n",
              "    </tr>\n",
              "    <tr>\n",
              "      <th>762</th>\n",
              "      <td>996</td>\n",
              "      <td>7 ways games reward the brain</td>\n",
              "      <td>Tom Chatfield</td>\n",
              "      <td>{0: 'Tom Chatfield'}</td>\n",
              "      <td>{0: ['gaming theorist']}</td>\n",
              "      <td>{0: \"Tom Chatfield thinks about games -- what ...</td>\n",
              "      <td>1295108</td>\n",
              "      <td>2010-07-14</td>\n",
              "      <td>2010-11-01</td>\n",
              "      <td>TEDGlobal 2010</td>\n",
              "      <td>en</td>\n",
              "      <td>['ar', 'bg', 'cs', 'da', 'de', 'el', 'en', 'es...</td>\n",
              "      <td>349.0</td>\n",
              "      <td>988</td>\n",
              "      <td>['culture', 'education', 'entertainment', 'gam...</td>\n",
              "      <td>{799: 'Gaming can make a better world', 361: '...</td>\n",
              "      <td>https://www.ted.com/talks/tom_chatfield_7_ways...</td>\n",
              "      <td>We're bringing gameplay into more aspects of o...</td>\n",
              "      <td>I love video games. I'm also slightly in awe o...</td>\n",
              "    </tr>\n",
              "    <tr>\n",
              "      <th>607</th>\n",
              "      <td>786</td>\n",
              "      <td>In the Internet age, dance evolves ...</td>\n",
              "      <td>The LXD</td>\n",
              "      <td>{0: 'The LXD'}</td>\n",
              "      <td>{0: ['dance adventurers']}</td>\n",
              "      <td>{0: 'The LXD (the Legion of Extraordinary Danc...</td>\n",
              "      <td>4000539</td>\n",
              "      <td>2010-02-02</td>\n",
              "      <td>2010-03-05</td>\n",
              "      <td>TED2010</td>\n",
              "      <td>en</td>\n",
              "      <td>['ar', 'bg', 'de', 'el', 'en', 'es', 'fa', 'fr...</td>\n",
              "      <td>237.0</td>\n",
              "      <td>1008</td>\n",
              "      <td>['collaboration', 'dance', 'entertainment', 'g...</td>\n",
              "      <td>{24: 'A dance of \"Symbiosis\"', 2589: 'A visual...</td>\n",
              "      <td>https://www.ted.com/talks/the_lxd_in_the_inter...</td>\n",
              "      <td>The LXD (the Legion of Extraordinary Dancers) ...</td>\n",
              "      <td>(Music) (Applause) I'm Jon M. Chu. And I'm not...</td>\n",
              "    </tr>\n",
              "    <tr>\n",
              "      <th>3329</th>\n",
              "      <td>24399</td>\n",
              "      <td>What causes cavities?</td>\n",
              "      <td>Mel Rosenberg</td>\n",
              "      <td>{0: 'Mel Rosenberg'}</td>\n",
              "      <td>NaN</td>\n",
              "      <td>NaN</td>\n",
              "      <td>2983258</td>\n",
              "      <td>2016-10-17</td>\n",
              "      <td>2019-03-22</td>\n",
              "      <td>TED-Ed</td>\n",
              "      <td>en</td>\n",
              "      <td>['ar', 'bg', 'cs', 'de', 'en', 'es', 'fa', 'fr...</td>\n",
              "      <td>NaN</td>\n",
              "      <td>285</td>\n",
              "      <td>['health', 'public health', 'healthcare', 'TED...</td>\n",
              "      <td>{24190: 'What causes bad breath?', 24370: 'Why...</td>\n",
              "      <td>https://www.ted.com/talks/mel_rosenberg_what_c...</td>\n",
              "      <td>When a team of archeologists recently came acr...</td>\n",
              "      <td>When a team of archaeologists recently came ac...</td>\n",
              "    </tr>\n",
              "    <tr>\n",
              "      <th>289</th>\n",
              "      <td>353</td>\n",
              "      <td>How to pitch to a VC</td>\n",
              "      <td>David S. Rose</td>\n",
              "      <td>{0: 'David S. Rose'}</td>\n",
              "      <td>{0: ['angel investor']}</td>\n",
              "      <td>{0: '\"The Pitch Coach\" David S. Rose is an exp...</td>\n",
              "      <td>1320693</td>\n",
              "      <td>2007-03-01</td>\n",
              "      <td>2008-09-19</td>\n",
              "      <td>TED2007</td>\n",
              "      <td>en</td>\n",
              "      <td>['ar', 'bg', 'de', 'en', 'es', 'fr', 'he', 'it...</td>\n",
              "      <td>107.0</td>\n",
              "      <td>879</td>\n",
              "      <td>['business', 'invention', 'investment', 'prese...</td>\n",
              "      <td>{70: '8 secrets of success', 28: 'How to get y...</td>\n",
              "      <td>https://www.ted.com/talks/david_s_rose_how_to_...</td>\n",
              "      <td>Thinking startup? David S. Rose's rapid-fire T...</td>\n",
              "      <td>Good morning. My name is David Rose. I am a se...</td>\n",
              "    </tr>\n",
              "  </tbody>\n",
              "</table>\n",
              "</div>\n",
              "      <button class=\"colab-df-convert\" onclick=\"convertToInteractive('df-06af77a1-e312-418e-acc3-2332a233f22b')\"\n",
              "              title=\"Convert this dataframe to an interactive table.\"\n",
              "              style=\"display:none;\">\n",
              "        \n",
              "  <svg xmlns=\"http://www.w3.org/2000/svg\" height=\"24px\"viewBox=\"0 0 24 24\"\n",
              "       width=\"24px\">\n",
              "    <path d=\"M0 0h24v24H0V0z\" fill=\"none\"/>\n",
              "    <path d=\"M18.56 5.44l.94 2.06.94-2.06 2.06-.94-2.06-.94-.94-2.06-.94 2.06-2.06.94zm-11 1L8.5 8.5l.94-2.06 2.06-.94-2.06-.94L8.5 2.5l-.94 2.06-2.06.94zm10 10l.94 2.06.94-2.06 2.06-.94-2.06-.94-.94-2.06-.94 2.06-2.06.94z\"/><path d=\"M17.41 7.96l-1.37-1.37c-.4-.4-.92-.59-1.43-.59-.52 0-1.04.2-1.43.59L10.3 9.45l-7.72 7.72c-.78.78-.78 2.05 0 2.83L4 21.41c.39.39.9.59 1.41.59.51 0 1.02-.2 1.41-.59l7.78-7.78 2.81-2.81c.8-.78.8-2.07 0-2.86zM5.41 20L4 18.59l7.72-7.72 1.47 1.35L5.41 20z\"/>\n",
              "  </svg>\n",
              "      </button>\n",
              "      \n",
              "  <style>\n",
              "    .colab-df-container {\n",
              "      display:flex;\n",
              "      flex-wrap:wrap;\n",
              "      gap: 12px;\n",
              "    }\n",
              "\n",
              "    .colab-df-convert {\n",
              "      background-color: #E8F0FE;\n",
              "      border: none;\n",
              "      border-radius: 50%;\n",
              "      cursor: pointer;\n",
              "      display: none;\n",
              "      fill: #1967D2;\n",
              "      height: 32px;\n",
              "      padding: 0 0 0 0;\n",
              "      width: 32px;\n",
              "    }\n",
              "\n",
              "    .colab-df-convert:hover {\n",
              "      background-color: #E2EBFA;\n",
              "      box-shadow: 0px 1px 2px rgba(60, 64, 67, 0.3), 0px 1px 3px 1px rgba(60, 64, 67, 0.15);\n",
              "      fill: #174EA6;\n",
              "    }\n",
              "\n",
              "    [theme=dark] .colab-df-convert {\n",
              "      background-color: #3B4455;\n",
              "      fill: #D2E3FC;\n",
              "    }\n",
              "\n",
              "    [theme=dark] .colab-df-convert:hover {\n",
              "      background-color: #434B5C;\n",
              "      box-shadow: 0px 1px 3px 1px rgba(0, 0, 0, 0.15);\n",
              "      filter: drop-shadow(0px 1px 2px rgba(0, 0, 0, 0.3));\n",
              "      fill: #FFFFFF;\n",
              "    }\n",
              "  </style>\n",
              "\n",
              "      <script>\n",
              "        const buttonEl =\n",
              "          document.querySelector('#df-06af77a1-e312-418e-acc3-2332a233f22b button.colab-df-convert');\n",
              "        buttonEl.style.display =\n",
              "          google.colab.kernel.accessAllowed ? 'block' : 'none';\n",
              "\n",
              "        async function convertToInteractive(key) {\n",
              "          const element = document.querySelector('#df-06af77a1-e312-418e-acc3-2332a233f22b');\n",
              "          const dataTable =\n",
              "            await google.colab.kernel.invokeFunction('convertToInteractive',\n",
              "                                                     [key], {});\n",
              "          if (!dataTable) return;\n",
              "\n",
              "          const docLinkHtml = 'Like what you see? Visit the ' +\n",
              "            '<a target=\"_blank\" href=https://colab.research.google.com/notebooks/data_table.ipynb>data table notebook</a>'\n",
              "            + ' to learn more about interactive tables.';\n",
              "          element.innerHTML = '';\n",
              "          dataTable['output_type'] = 'display_data';\n",
              "          await google.colab.output.renderOutput(dataTable, element);\n",
              "          const docLink = document.createElement('div');\n",
              "          docLink.innerHTML = docLinkHtml;\n",
              "          element.appendChild(docLink);\n",
              "        }\n",
              "      </script>\n",
              "    </div>\n",
              "  </div>\n",
              "  "
            ]
          },
          "metadata": {},
          "execution_count": 6
        }
      ]
    },
    {
      "cell_type": "code",
      "source": [
        "\n",
        "Ted_data.info()\n"
      ],
      "metadata": {
        "colab": {
          "base_uri": "https://localhost:8080/"
        },
        "id": "SF6u4yT6S9kg",
        "outputId": "2cf2b1d2-5f2c-48d8-c354-3a35e4ddb73e"
      },
      "execution_count": null,
      "outputs": [
        {
          "output_type": "stream",
          "name": "stdout",
          "text": [
            "<class 'pandas.core.frame.DataFrame'>\n",
            "RangeIndex: 4005 entries, 0 to 4004\n",
            "Data columns (total 19 columns):\n",
            " #   Column          Non-Null Count  Dtype  \n",
            "---  ------          --------------  -----  \n",
            " 0   talk_id         4005 non-null   int64  \n",
            " 1   title           4005 non-null   object \n",
            " 2   speaker_1       4005 non-null   object \n",
            " 3   all_speakers    4001 non-null   object \n",
            " 4   occupations     3483 non-null   object \n",
            " 5   about_speakers  3502 non-null   object \n",
            " 6   views           4005 non-null   int64  \n",
            " 7   recorded_date   4004 non-null   object \n",
            " 8   published_date  4005 non-null   object \n",
            " 9   event           4005 non-null   object \n",
            " 10  native_lang     4005 non-null   object \n",
            " 11  available_lang  4005 non-null   object \n",
            " 12  comments        3350 non-null   float64\n",
            " 13  duration        4005 non-null   int64  \n",
            " 14  topics          4005 non-null   object \n",
            " 15  related_talks   4005 non-null   object \n",
            " 16  url             4005 non-null   object \n",
            " 17  description     4005 non-null   object \n",
            " 18  transcript      4005 non-null   object \n",
            "dtypes: float64(1), int64(3), object(15)\n",
            "memory usage: 594.6+ KB\n"
          ]
        }
      ]
    },
    {
      "cell_type": "code",
      "source": [
        "\n",
        "round(100*(Ted_data.isnull().sum()/len(Ted_data)), 2).sort_values(ascending=False)\n"
      ],
      "metadata": {
        "id": "-2uH7cIyS9bU",
        "colab": {
          "base_uri": "https://localhost:8080/"
        },
        "outputId": "d769f383-af1d-4f27-8bc1-3421003facf9"
      },
      "execution_count": null,
      "outputs": [
        {
          "output_type": "execute_result",
          "data": {
            "text/plain": [
              "comments          16.35\n",
              "occupations       13.03\n",
              "about_speakers    12.56\n",
              "all_speakers       0.10\n",
              "recorded_date      0.02\n",
              "talk_id            0.00\n",
              "description        0.00\n",
              "url                0.00\n",
              "related_talks      0.00\n",
              "topics             0.00\n",
              "duration           0.00\n",
              "event              0.00\n",
              "available_lang     0.00\n",
              "native_lang        0.00\n",
              "title              0.00\n",
              "published_date     0.00\n",
              "views              0.00\n",
              "speaker_1          0.00\n",
              "transcript         0.00\n",
              "dtype: float64"
            ]
          },
          "metadata": {},
          "execution_count": 8
        }
      ]
    },
    {
      "cell_type": "markdown",
      "source": [
        "* We can clearly see that null values are present in 'all_speakers', 'occupations', 'about_speakers', 'recorded_date' and 'comments' columns.\n",
        "* Most of the features are of 'object' data type."
      ],
      "metadata": {
        "id": "LMB_iQUNYcMZ"
      }
    },
    {
      "cell_type": "markdown",
      "source": [
        "---\n",
        "## Imputing the Null Values\n",
        "---"
      ],
      "metadata": {
        "id": "D3co5CByYjJN"
      }
    },
    {
      "cell_type": "code",
      "source": [
        "# Loading Necessary classes from sci-kit learn library for imputing Null Values.\n",
        "\n",
        "from sklearn.impute import SimpleImputer\n",
        "from sklearn.compose import ColumnTransformer\n"
      ],
      "metadata": {
        "id": "BIL-ddaGTBV6"
      },
      "execution_count": null,
      "outputs": []
    },
    {
      "cell_type": "code",
      "source": [
        "# The 'about_speakers' column seems to look not important for our model training so we are dropping it.\n",
        "\n",
        "Ted_data.drop(columns = ['about_speakers'], inplace = True)"
      ],
      "metadata": {
        "id": "082PLUZQTBSl"
      },
      "execution_count": null,
      "outputs": []
    },
    {
      "cell_type": "code",
      "source": [
        "# the columns to be treated of null values are stored in a variable.\n",
        "\n",
        "null_val_col = Ted_data[['all_speakers', 'occupations', 'comments']]\n",
        "\n",
        "# Different types of imputations needed for the respective columnns are coded.\n",
        "\n",
        "imputer1 = SimpleImputer(strategy='mean')\n",
        "imputer2 = SimpleImputer(strategy='constant', fill_value = '')\n",
        "imputer3 = SimpleImputer(strategy='constant', fill_value = str({0:['Other']}))\n",
        "\n",
        "# Creating Column Transformer Variable and assigning what kinda imputations to be applied on what columns.\n",
        "\n",
        "trf = ColumnTransformer([\n",
        "    ('imputing_all_speakers',imputer2,['all_speakers']),\n",
        "    ('imputing_occupations',imputer3,['occupations']),\n",
        "    ('imputing_comments',imputer1,['comments'])]\n",
        ",remainder='passthrough')\n"
      ],
      "metadata": {
        "id": "MGCik_K0TBPy"
      },
      "execution_count": null,
      "outputs": []
    },
    {
      "cell_type": "code",
      "source": [
        "# Fitting (or) Imputing the null values. \n",
        "\n",
        "data_transformed = trf.fit_transform(null_val_col)\n",
        "data_transformed\n"
      ],
      "metadata": {
        "colab": {
          "base_uri": "https://localhost:8080/"
        },
        "id": "VKUJL8ixTBNG",
        "outputId": "829ac714-5226-4b14-c601-45a3398a4e54"
      },
      "execution_count": null,
      "outputs": [
        {
          "output_type": "execute_result",
          "data": {
            "text/plain": [
              "array([[\"{0: 'Al Gore'}\", \"{0: ['climate advocate']}\", 272.0],\n",
              "       [\"{0: 'Hans Rosling'}\",\n",
              "        \"{0: ['global health expert; data visionary']}\", 628.0],\n",
              "       [\"{0: 'David Pogue'}\", \"{0: ['technology columnist']}\", 124.0],\n",
              "       ...,\n",
              "       [\"{0: 'Dick M. Carpenter II'}\", \"{0: ['law researcher']}\", 9.0],\n",
              "       [\"{0: 'Daina Ramey Berry'}\", \"{0: ['Other']}\", 161.99701492537312],\n",
              "       [\"{0: 'Cella Wright'}\", \"{0: ['Other']}\", 161.99701492537312]],\n",
              "      dtype=object)"
            ]
          },
          "metadata": {},
          "execution_count": 12
        }
      ]
    },
    {
      "cell_type": "code",
      "source": [
        "# Convering the array of null imputed columns into a Data Frame.\n",
        "\n",
        "data_t_transformed = pd.DataFrame(data_transformed,columns=['all_speakers', 'occupations', 'comments'])\n",
        "\n",
        "# Dropping the original columns which are not treated of null values.\n",
        "\n",
        "Ted_data.drop(columns = ['all_speakers', 'occupations', 'comments'], inplace = True)\n",
        "\n",
        "# Concatinating the columns.\n",
        "\n",
        "Ted_non_null_df = pd.concat([Ted_data, data_t_transformed], axis=1)\n"
      ],
      "metadata": {
        "id": "9STZXDGkTBKe"
      },
      "execution_count": null,
      "outputs": []
    },
    {
      "cell_type": "code",
      "source": [
        "# As there is only one null value in 'recorded_date' column we can simply drop it.\n",
        "\n",
        "Ted_non_null_df = Ted_non_null_df.dropna()\n",
        "Ted_non_null_df.isnull().sum()\n"
      ],
      "metadata": {
        "id": "neb5Jz_wTBH2",
        "colab": {
          "base_uri": "https://localhost:8080/"
        },
        "outputId": "8cc1f5ed-d2f9-4041-8356-eb095cfdd29c"
      },
      "execution_count": null,
      "outputs": [
        {
          "output_type": "execute_result",
          "data": {
            "text/plain": [
              "talk_id           0\n",
              "title             0\n",
              "speaker_1         0\n",
              "views             0\n",
              "recorded_date     0\n",
              "published_date    0\n",
              "event             0\n",
              "native_lang       0\n",
              "available_lang    0\n",
              "duration          0\n",
              "topics            0\n",
              "related_talks     0\n",
              "url               0\n",
              "description       0\n",
              "transcript        0\n",
              "all_speakers      0\n",
              "occupations       0\n",
              "comments          0\n",
              "dtype: int64"
            ]
          },
          "metadata": {},
          "execution_count": 14
        }
      ]
    },
    {
      "cell_type": "code",
      "source": [
        "# comments column has changed to object type lets make it to int again\n",
        "\n",
        "Ted_non_null_df['comments'] = Ted_non_null_df['comments'].astype('int64')\n"
      ],
      "metadata": {
        "id": "kVW5ADg_TBFH"
      },
      "execution_count": null,
      "outputs": []
    },
    {
      "cell_type": "code",
      "source": [
        "Ted_non_null_df.describe().apply(lambda x: x.apply('{0:.2f}'.format)).T"
      ],
      "metadata": {
        "id": "C9TYL-mBTBCP",
        "colab": {
          "base_uri": "https://localhost:8080/",
          "height": 175
        },
        "outputId": "ab5749fc-5d05-4581-8e4b-f7418e0a270d"
      },
      "execution_count": null,
      "outputs": [
        {
          "output_type": "execute_result",
          "data": {
            "text/plain": [
              "            count        mean         std    min        25%         50%  \\\n",
              "talk_id   4004.00    12421.50    17435.76   1.00    1251.75     2332.50   \n",
              "views     4004.00  2148223.29  3451629.07   0.00  881760.50  1375593.50   \n",
              "duration  4004.00      723.93      361.79  60.00     392.75      738.00   \n",
              "comments  4004.00      161.87      245.89   0.00      46.00      119.00   \n",
              "\n",
              "                 75%          max  \n",
              "talk_id     23774.00     62794.00  \n",
              "views     2133174.50  65051954.00  \n",
              "duration      973.25      3922.00  \n",
              "comments      162.00      6449.00  "
            ],
            "text/html": [
              "\n",
              "  <div id=\"df-a814455c-e0dc-4aef-bd64-3b21b5ecf41c\">\n",
              "    <div class=\"colab-df-container\">\n",
              "      <div>\n",
              "<style scoped>\n",
              "    .dataframe tbody tr th:only-of-type {\n",
              "        vertical-align: middle;\n",
              "    }\n",
              "\n",
              "    .dataframe tbody tr th {\n",
              "        vertical-align: top;\n",
              "    }\n",
              "\n",
              "    .dataframe thead th {\n",
              "        text-align: right;\n",
              "    }\n",
              "</style>\n",
              "<table border=\"1\" class=\"dataframe\">\n",
              "  <thead>\n",
              "    <tr style=\"text-align: right;\">\n",
              "      <th></th>\n",
              "      <th>count</th>\n",
              "      <th>mean</th>\n",
              "      <th>std</th>\n",
              "      <th>min</th>\n",
              "      <th>25%</th>\n",
              "      <th>50%</th>\n",
              "      <th>75%</th>\n",
              "      <th>max</th>\n",
              "    </tr>\n",
              "  </thead>\n",
              "  <tbody>\n",
              "    <tr>\n",
              "      <th>talk_id</th>\n",
              "      <td>4004.00</td>\n",
              "      <td>12421.50</td>\n",
              "      <td>17435.76</td>\n",
              "      <td>1.00</td>\n",
              "      <td>1251.75</td>\n",
              "      <td>2332.50</td>\n",
              "      <td>23774.00</td>\n",
              "      <td>62794.00</td>\n",
              "    </tr>\n",
              "    <tr>\n",
              "      <th>views</th>\n",
              "      <td>4004.00</td>\n",
              "      <td>2148223.29</td>\n",
              "      <td>3451629.07</td>\n",
              "      <td>0.00</td>\n",
              "      <td>881760.50</td>\n",
              "      <td>1375593.50</td>\n",
              "      <td>2133174.50</td>\n",
              "      <td>65051954.00</td>\n",
              "    </tr>\n",
              "    <tr>\n",
              "      <th>duration</th>\n",
              "      <td>4004.00</td>\n",
              "      <td>723.93</td>\n",
              "      <td>361.79</td>\n",
              "      <td>60.00</td>\n",
              "      <td>392.75</td>\n",
              "      <td>738.00</td>\n",
              "      <td>973.25</td>\n",
              "      <td>3922.00</td>\n",
              "    </tr>\n",
              "    <tr>\n",
              "      <th>comments</th>\n",
              "      <td>4004.00</td>\n",
              "      <td>161.87</td>\n",
              "      <td>245.89</td>\n",
              "      <td>0.00</td>\n",
              "      <td>46.00</td>\n",
              "      <td>119.00</td>\n",
              "      <td>162.00</td>\n",
              "      <td>6449.00</td>\n",
              "    </tr>\n",
              "  </tbody>\n",
              "</table>\n",
              "</div>\n",
              "      <button class=\"colab-df-convert\" onclick=\"convertToInteractive('df-a814455c-e0dc-4aef-bd64-3b21b5ecf41c')\"\n",
              "              title=\"Convert this dataframe to an interactive table.\"\n",
              "              style=\"display:none;\">\n",
              "        \n",
              "  <svg xmlns=\"http://www.w3.org/2000/svg\" height=\"24px\"viewBox=\"0 0 24 24\"\n",
              "       width=\"24px\">\n",
              "    <path d=\"M0 0h24v24H0V0z\" fill=\"none\"/>\n",
              "    <path d=\"M18.56 5.44l.94 2.06.94-2.06 2.06-.94-2.06-.94-.94-2.06-.94 2.06-2.06.94zm-11 1L8.5 8.5l.94-2.06 2.06-.94-2.06-.94L8.5 2.5l-.94 2.06-2.06.94zm10 10l.94 2.06.94-2.06 2.06-.94-2.06-.94-.94-2.06-.94 2.06-2.06.94z\"/><path d=\"M17.41 7.96l-1.37-1.37c-.4-.4-.92-.59-1.43-.59-.52 0-1.04.2-1.43.59L10.3 9.45l-7.72 7.72c-.78.78-.78 2.05 0 2.83L4 21.41c.39.39.9.59 1.41.59.51 0 1.02-.2 1.41-.59l7.78-7.78 2.81-2.81c.8-.78.8-2.07 0-2.86zM5.41 20L4 18.59l7.72-7.72 1.47 1.35L5.41 20z\"/>\n",
              "  </svg>\n",
              "      </button>\n",
              "      \n",
              "  <style>\n",
              "    .colab-df-container {\n",
              "      display:flex;\n",
              "      flex-wrap:wrap;\n",
              "      gap: 12px;\n",
              "    }\n",
              "\n",
              "    .colab-df-convert {\n",
              "      background-color: #E8F0FE;\n",
              "      border: none;\n",
              "      border-radius: 50%;\n",
              "      cursor: pointer;\n",
              "      display: none;\n",
              "      fill: #1967D2;\n",
              "      height: 32px;\n",
              "      padding: 0 0 0 0;\n",
              "      width: 32px;\n",
              "    }\n",
              "\n",
              "    .colab-df-convert:hover {\n",
              "      background-color: #E2EBFA;\n",
              "      box-shadow: 0px 1px 2px rgba(60, 64, 67, 0.3), 0px 1px 3px 1px rgba(60, 64, 67, 0.15);\n",
              "      fill: #174EA6;\n",
              "    }\n",
              "\n",
              "    [theme=dark] .colab-df-convert {\n",
              "      background-color: #3B4455;\n",
              "      fill: #D2E3FC;\n",
              "    }\n",
              "\n",
              "    [theme=dark] .colab-df-convert:hover {\n",
              "      background-color: #434B5C;\n",
              "      box-shadow: 0px 1px 3px 1px rgba(0, 0, 0, 0.15);\n",
              "      filter: drop-shadow(0px 1px 2px rgba(0, 0, 0, 0.3));\n",
              "      fill: #FFFFFF;\n",
              "    }\n",
              "  </style>\n",
              "\n",
              "      <script>\n",
              "        const buttonEl =\n",
              "          document.querySelector('#df-a814455c-e0dc-4aef-bd64-3b21b5ecf41c button.colab-df-convert');\n",
              "        buttonEl.style.display =\n",
              "          google.colab.kernel.accessAllowed ? 'block' : 'none';\n",
              "\n",
              "        async function convertToInteractive(key) {\n",
              "          const element = document.querySelector('#df-a814455c-e0dc-4aef-bd64-3b21b5ecf41c');\n",
              "          const dataTable =\n",
              "            await google.colab.kernel.invokeFunction('convertToInteractive',\n",
              "                                                     [key], {});\n",
              "          if (!dataTable) return;\n",
              "\n",
              "          const docLinkHtml = 'Like what you see? Visit the ' +\n",
              "            '<a target=\"_blank\" href=https://colab.research.google.com/notebooks/data_table.ipynb>data table notebook</a>'\n",
              "            + ' to learn more about interactive tables.';\n",
              "          element.innerHTML = '';\n",
              "          dataTable['output_type'] = 'display_data';\n",
              "          await google.colab.output.renderOutput(dataTable, element);\n",
              "          const docLink = document.createElement('div');\n",
              "          docLink.innerHTML = docLinkHtml;\n",
              "          element.appendChild(docLink);\n",
              "        }\n",
              "      </script>\n",
              "    </div>\n",
              "  </div>\n",
              "  "
            ]
          },
          "metadata": {},
          "execution_count": 16
        }
      ]
    },
    {
      "cell_type": "markdown",
      "source": [
        "* Here we can observe that there are outliers in most of numerical columns [As there is huge difference between 75% and Max Value]"
      ],
      "metadata": {
        "id": "iXBqam84Y_lE"
      }
    },
    {
      "cell_type": "markdown",
      "source": [
        "---\n",
        "## Exploring the columns of type : 'datetime'.\n",
        "---"
      ],
      "metadata": {
        "id": "HTou3CWTZDZC"
      }
    },
    {
      "cell_type": "code",
      "source": [
        "# Finding the no of days it took for a recorded Ted talk to get published.\n",
        "\n",
        "from datetime import datetime\n",
        "\n",
        "Ted_date_col = Ted_non_null_df[['recorded_date', 'published_date']]\n",
        "\n",
        "def days_num(rd, pd):\n",
        "    \n",
        "    date_format = \"%Y-%m-%d\"\n",
        "    a = datetime.strptime(rd , date_format)\n",
        "    b = datetime.strptime(pd , date_format)\n",
        "    delta = b - a\n",
        "    return delta.days\n",
        "\n",
        "Ted_non_null_df['No_of_days_to_release'] = Ted_date_col.apply(lambda x: days_num(x['recorded_date'], x['published_date']),axis=1)\n"
      ],
      "metadata": {
        "id": "Ce4WQih_TA_C"
      },
      "execution_count": null,
      "outputs": []
    },
    {
      "cell_type": "code",
      "source": [
        "Ted_non_null_df.sample(2)"
      ],
      "metadata": {
        "id": "lYW7yFgOTA8c",
        "colab": {
          "base_uri": "https://localhost:8080/",
          "height": 315
        },
        "outputId": "de3540b9-ecb2-4c97-df1d-a72cef3ef358"
      },
      "execution_count": null,
      "outputs": [
        {
          "output_type": "execute_result",
          "data": {
            "text/plain": [
              "      talk_id                                     title   speaker_1    views  \\\n",
              "2693    12650     Why we should end animal agriculture   Jacy Reese   131519   \n",
              "2642     8788  The surprising solution to ocean plastic  David Katz  1928266   \n",
              "\n",
              "     recorded_date published_date                        event native_lang  \\\n",
              "2693    2018-02-03     2018-03-14  TEDxUniversityofMississippi          en   \n",
              "2642    2017-12-06     2018-01-25                      TED@IBM          en   \n",
              "\n",
              "                                         available_lang  duration  \\\n",
              "2693                                 ['en', 'it', 'nl']       786   \n",
              "2642  ['ar', 'de', 'en', 'es', 'fa', 'fr', 'hu', 'id...       713   \n",
              "\n",
              "                                                 topics  \\\n",
              "2693  ['global issues', 'science', 'food', 'health',...   \n",
              "2642  ['plastic', 'oceans', 'pollution', 'poverty', ...   \n",
              "\n",
              "                                          related_talks  \\\n",
              "2693  {2003: 'Save the oceans, feed the world!', 960...   \n",
              "2642  {2696: 'This app makes it fun to pick up litte...   \n",
              "\n",
              "                                                    url  \\\n",
              "2693  https://www.ted.com/talks/jacy_reese_why_we_sh...   \n",
              "2642  https://www.ted.com/talks/david_katz_the_surpr...   \n",
              "\n",
              "                                            description  \\\n",
              "2693  There are over 100 billion animals in the glob...   \n",
              "2642  Can we solve the problem of ocean plastic poll...   \n",
              "\n",
              "                                             transcript       all_speakers  \\\n",
              "2693  Before we dive in, I want to ask a couple of q...  {0: 'Jacy Reese'}   \n",
              "2642  We've had it all wrong. Everybody. We've had i...  {0: 'David Katz'}   \n",
              "\n",
              "                      occupations  comments  No_of_days_to_release  \n",
              "2693               {0: ['Other']}       161                     39  \n",
              "2642  {0: ['plastics alchemist']}        58                     50  "
            ],
            "text/html": [
              "\n",
              "  <div id=\"df-f944bf97-c5ce-4609-b8f2-157451f362a8\">\n",
              "    <div class=\"colab-df-container\">\n",
              "      <div>\n",
              "<style scoped>\n",
              "    .dataframe tbody tr th:only-of-type {\n",
              "        vertical-align: middle;\n",
              "    }\n",
              "\n",
              "    .dataframe tbody tr th {\n",
              "        vertical-align: top;\n",
              "    }\n",
              "\n",
              "    .dataframe thead th {\n",
              "        text-align: right;\n",
              "    }\n",
              "</style>\n",
              "<table border=\"1\" class=\"dataframe\">\n",
              "  <thead>\n",
              "    <tr style=\"text-align: right;\">\n",
              "      <th></th>\n",
              "      <th>talk_id</th>\n",
              "      <th>title</th>\n",
              "      <th>speaker_1</th>\n",
              "      <th>views</th>\n",
              "      <th>recorded_date</th>\n",
              "      <th>published_date</th>\n",
              "      <th>event</th>\n",
              "      <th>native_lang</th>\n",
              "      <th>available_lang</th>\n",
              "      <th>duration</th>\n",
              "      <th>topics</th>\n",
              "      <th>related_talks</th>\n",
              "      <th>url</th>\n",
              "      <th>description</th>\n",
              "      <th>transcript</th>\n",
              "      <th>all_speakers</th>\n",
              "      <th>occupations</th>\n",
              "      <th>comments</th>\n",
              "      <th>No_of_days_to_release</th>\n",
              "    </tr>\n",
              "  </thead>\n",
              "  <tbody>\n",
              "    <tr>\n",
              "      <th>2693</th>\n",
              "      <td>12650</td>\n",
              "      <td>Why we should end animal agriculture</td>\n",
              "      <td>Jacy Reese</td>\n",
              "      <td>131519</td>\n",
              "      <td>2018-02-03</td>\n",
              "      <td>2018-03-14</td>\n",
              "      <td>TEDxUniversityofMississippi</td>\n",
              "      <td>en</td>\n",
              "      <td>['en', 'it', 'nl']</td>\n",
              "      <td>786</td>\n",
              "      <td>['global issues', 'science', 'food', 'health',...</td>\n",
              "      <td>{2003: 'Save the oceans, feed the world!', 960...</td>\n",
              "      <td>https://www.ted.com/talks/jacy_reese_why_we_sh...</td>\n",
              "      <td>There are over 100 billion animals in the glob...</td>\n",
              "      <td>Before we dive in, I want to ask a couple of q...</td>\n",
              "      <td>{0: 'Jacy Reese'}</td>\n",
              "      <td>{0: ['Other']}</td>\n",
              "      <td>161</td>\n",
              "      <td>39</td>\n",
              "    </tr>\n",
              "    <tr>\n",
              "      <th>2642</th>\n",
              "      <td>8788</td>\n",
              "      <td>The surprising solution to ocean plastic</td>\n",
              "      <td>David Katz</td>\n",
              "      <td>1928266</td>\n",
              "      <td>2017-12-06</td>\n",
              "      <td>2018-01-25</td>\n",
              "      <td>TED@IBM</td>\n",
              "      <td>en</td>\n",
              "      <td>['ar', 'de', 'en', 'es', 'fa', 'fr', 'hu', 'id...</td>\n",
              "      <td>713</td>\n",
              "      <td>['plastic', 'oceans', 'pollution', 'poverty', ...</td>\n",
              "      <td>{2696: 'This app makes it fun to pick up litte...</td>\n",
              "      <td>https://www.ted.com/talks/david_katz_the_surpr...</td>\n",
              "      <td>Can we solve the problem of ocean plastic poll...</td>\n",
              "      <td>We've had it all wrong. Everybody. We've had i...</td>\n",
              "      <td>{0: 'David Katz'}</td>\n",
              "      <td>{0: ['plastics alchemist']}</td>\n",
              "      <td>58</td>\n",
              "      <td>50</td>\n",
              "    </tr>\n",
              "  </tbody>\n",
              "</table>\n",
              "</div>\n",
              "      <button class=\"colab-df-convert\" onclick=\"convertToInteractive('df-f944bf97-c5ce-4609-b8f2-157451f362a8')\"\n",
              "              title=\"Convert this dataframe to an interactive table.\"\n",
              "              style=\"display:none;\">\n",
              "        \n",
              "  <svg xmlns=\"http://www.w3.org/2000/svg\" height=\"24px\"viewBox=\"0 0 24 24\"\n",
              "       width=\"24px\">\n",
              "    <path d=\"M0 0h24v24H0V0z\" fill=\"none\"/>\n",
              "    <path d=\"M18.56 5.44l.94 2.06.94-2.06 2.06-.94-2.06-.94-.94-2.06-.94 2.06-2.06.94zm-11 1L8.5 8.5l.94-2.06 2.06-.94-2.06-.94L8.5 2.5l-.94 2.06-2.06.94zm10 10l.94 2.06.94-2.06 2.06-.94-2.06-.94-.94-2.06-.94 2.06-2.06.94z\"/><path d=\"M17.41 7.96l-1.37-1.37c-.4-.4-.92-.59-1.43-.59-.52 0-1.04.2-1.43.59L10.3 9.45l-7.72 7.72c-.78.78-.78 2.05 0 2.83L4 21.41c.39.39.9.59 1.41.59.51 0 1.02-.2 1.41-.59l7.78-7.78 2.81-2.81c.8-.78.8-2.07 0-2.86zM5.41 20L4 18.59l7.72-7.72 1.47 1.35L5.41 20z\"/>\n",
              "  </svg>\n",
              "      </button>\n",
              "      \n",
              "  <style>\n",
              "    .colab-df-container {\n",
              "      display:flex;\n",
              "      flex-wrap:wrap;\n",
              "      gap: 12px;\n",
              "    }\n",
              "\n",
              "    .colab-df-convert {\n",
              "      background-color: #E8F0FE;\n",
              "      border: none;\n",
              "      border-radius: 50%;\n",
              "      cursor: pointer;\n",
              "      display: none;\n",
              "      fill: #1967D2;\n",
              "      height: 32px;\n",
              "      padding: 0 0 0 0;\n",
              "      width: 32px;\n",
              "    }\n",
              "\n",
              "    .colab-df-convert:hover {\n",
              "      background-color: #E2EBFA;\n",
              "      box-shadow: 0px 1px 2px rgba(60, 64, 67, 0.3), 0px 1px 3px 1px rgba(60, 64, 67, 0.15);\n",
              "      fill: #174EA6;\n",
              "    }\n",
              "\n",
              "    [theme=dark] .colab-df-convert {\n",
              "      background-color: #3B4455;\n",
              "      fill: #D2E3FC;\n",
              "    }\n",
              "\n",
              "    [theme=dark] .colab-df-convert:hover {\n",
              "      background-color: #434B5C;\n",
              "      box-shadow: 0px 1px 3px 1px rgba(0, 0, 0, 0.15);\n",
              "      filter: drop-shadow(0px 1px 2px rgba(0, 0, 0, 0.3));\n",
              "      fill: #FFFFFF;\n",
              "    }\n",
              "  </style>\n",
              "\n",
              "      <script>\n",
              "        const buttonEl =\n",
              "          document.querySelector('#df-f944bf97-c5ce-4609-b8f2-157451f362a8 button.colab-df-convert');\n",
              "        buttonEl.style.display =\n",
              "          google.colab.kernel.accessAllowed ? 'block' : 'none';\n",
              "\n",
              "        async function convertToInteractive(key) {\n",
              "          const element = document.querySelector('#df-f944bf97-c5ce-4609-b8f2-157451f362a8');\n",
              "          const dataTable =\n",
              "            await google.colab.kernel.invokeFunction('convertToInteractive',\n",
              "                                                     [key], {});\n",
              "          if (!dataTable) return;\n",
              "\n",
              "          const docLinkHtml = 'Like what you see? Visit the ' +\n",
              "            '<a target=\"_blank\" href=https://colab.research.google.com/notebooks/data_table.ipynb>data table notebook</a>'\n",
              "            + ' to learn more about interactive tables.';\n",
              "          element.innerHTML = '';\n",
              "          dataTable['output_type'] = 'display_data';\n",
              "          await google.colab.output.renderOutput(dataTable, element);\n",
              "          const docLink = document.createElement('div');\n",
              "          docLink.innerHTML = docLinkHtml;\n",
              "          element.appendChild(docLink);\n",
              "        }\n",
              "      </script>\n",
              "    </div>\n",
              "  </div>\n",
              "  "
            ]
          },
          "metadata": {},
          "execution_count": 18
        }
      ]
    },
    {
      "cell_type": "code",
      "source": [
        "\n",
        "Ted_non_null_df.describe().apply(lambda x: x.apply('{0:.2f}'.format)).T\n"
      ],
      "metadata": {
        "colab": {
          "base_uri": "https://localhost:8080/",
          "height": 206
        },
        "id": "U0MmR4KkTA5o",
        "outputId": "0ff68a1b-0d23-4ea3-d4d6-19f2648ee888"
      },
      "execution_count": null,
      "outputs": [
        {
          "output_type": "execute_result",
          "data": {
            "text/plain": [
              "                         count        mean         std      min        25%  \\\n",
              "talk_id                4004.00    12421.50    17435.76     1.00    1251.75   \n",
              "views                  4004.00  2148223.29  3451629.07     0.00  881760.50   \n",
              "duration               4004.00      723.93      361.79    60.00     392.75   \n",
              "comments               4004.00      161.87      245.89     0.00      46.00   \n",
              "No_of_days_to_release  4004.00      307.22      582.36  -578.00      42.00   \n",
              "\n",
              "                              50%         75%          max  \n",
              "talk_id                   2332.50    23774.00     62794.00  \n",
              "views                  1375593.50  2133174.50  65051954.00  \n",
              "duration                   738.00      973.25      3922.00  \n",
              "comments                   119.00      162.00      6449.00  \n",
              "No_of_days_to_release      104.00      229.00      8804.00  "
            ],
            "text/html": [
              "\n",
              "  <div id=\"df-b65706ed-3ad9-4328-9689-70a73cef5a19\">\n",
              "    <div class=\"colab-df-container\">\n",
              "      <div>\n",
              "<style scoped>\n",
              "    .dataframe tbody tr th:only-of-type {\n",
              "        vertical-align: middle;\n",
              "    }\n",
              "\n",
              "    .dataframe tbody tr th {\n",
              "        vertical-align: top;\n",
              "    }\n",
              "\n",
              "    .dataframe thead th {\n",
              "        text-align: right;\n",
              "    }\n",
              "</style>\n",
              "<table border=\"1\" class=\"dataframe\">\n",
              "  <thead>\n",
              "    <tr style=\"text-align: right;\">\n",
              "      <th></th>\n",
              "      <th>count</th>\n",
              "      <th>mean</th>\n",
              "      <th>std</th>\n",
              "      <th>min</th>\n",
              "      <th>25%</th>\n",
              "      <th>50%</th>\n",
              "      <th>75%</th>\n",
              "      <th>max</th>\n",
              "    </tr>\n",
              "  </thead>\n",
              "  <tbody>\n",
              "    <tr>\n",
              "      <th>talk_id</th>\n",
              "      <td>4004.00</td>\n",
              "      <td>12421.50</td>\n",
              "      <td>17435.76</td>\n",
              "      <td>1.00</td>\n",
              "      <td>1251.75</td>\n",
              "      <td>2332.50</td>\n",
              "      <td>23774.00</td>\n",
              "      <td>62794.00</td>\n",
              "    </tr>\n",
              "    <tr>\n",
              "      <th>views</th>\n",
              "      <td>4004.00</td>\n",
              "      <td>2148223.29</td>\n",
              "      <td>3451629.07</td>\n",
              "      <td>0.00</td>\n",
              "      <td>881760.50</td>\n",
              "      <td>1375593.50</td>\n",
              "      <td>2133174.50</td>\n",
              "      <td>65051954.00</td>\n",
              "    </tr>\n",
              "    <tr>\n",
              "      <th>duration</th>\n",
              "      <td>4004.00</td>\n",
              "      <td>723.93</td>\n",
              "      <td>361.79</td>\n",
              "      <td>60.00</td>\n",
              "      <td>392.75</td>\n",
              "      <td>738.00</td>\n",
              "      <td>973.25</td>\n",
              "      <td>3922.00</td>\n",
              "    </tr>\n",
              "    <tr>\n",
              "      <th>comments</th>\n",
              "      <td>4004.00</td>\n",
              "      <td>161.87</td>\n",
              "      <td>245.89</td>\n",
              "      <td>0.00</td>\n",
              "      <td>46.00</td>\n",
              "      <td>119.00</td>\n",
              "      <td>162.00</td>\n",
              "      <td>6449.00</td>\n",
              "    </tr>\n",
              "    <tr>\n",
              "      <th>No_of_days_to_release</th>\n",
              "      <td>4004.00</td>\n",
              "      <td>307.22</td>\n",
              "      <td>582.36</td>\n",
              "      <td>-578.00</td>\n",
              "      <td>42.00</td>\n",
              "      <td>104.00</td>\n",
              "      <td>229.00</td>\n",
              "      <td>8804.00</td>\n",
              "    </tr>\n",
              "  </tbody>\n",
              "</table>\n",
              "</div>\n",
              "      <button class=\"colab-df-convert\" onclick=\"convertToInteractive('df-b65706ed-3ad9-4328-9689-70a73cef5a19')\"\n",
              "              title=\"Convert this dataframe to an interactive table.\"\n",
              "              style=\"display:none;\">\n",
              "        \n",
              "  <svg xmlns=\"http://www.w3.org/2000/svg\" height=\"24px\"viewBox=\"0 0 24 24\"\n",
              "       width=\"24px\">\n",
              "    <path d=\"M0 0h24v24H0V0z\" fill=\"none\"/>\n",
              "    <path d=\"M18.56 5.44l.94 2.06.94-2.06 2.06-.94-2.06-.94-.94-2.06-.94 2.06-2.06.94zm-11 1L8.5 8.5l.94-2.06 2.06-.94-2.06-.94L8.5 2.5l-.94 2.06-2.06.94zm10 10l.94 2.06.94-2.06 2.06-.94-2.06-.94-.94-2.06-.94 2.06-2.06.94z\"/><path d=\"M17.41 7.96l-1.37-1.37c-.4-.4-.92-.59-1.43-.59-.52 0-1.04.2-1.43.59L10.3 9.45l-7.72 7.72c-.78.78-.78 2.05 0 2.83L4 21.41c.39.39.9.59 1.41.59.51 0 1.02-.2 1.41-.59l7.78-7.78 2.81-2.81c.8-.78.8-2.07 0-2.86zM5.41 20L4 18.59l7.72-7.72 1.47 1.35L5.41 20z\"/>\n",
              "  </svg>\n",
              "      </button>\n",
              "      \n",
              "  <style>\n",
              "    .colab-df-container {\n",
              "      display:flex;\n",
              "      flex-wrap:wrap;\n",
              "      gap: 12px;\n",
              "    }\n",
              "\n",
              "    .colab-df-convert {\n",
              "      background-color: #E8F0FE;\n",
              "      border: none;\n",
              "      border-radius: 50%;\n",
              "      cursor: pointer;\n",
              "      display: none;\n",
              "      fill: #1967D2;\n",
              "      height: 32px;\n",
              "      padding: 0 0 0 0;\n",
              "      width: 32px;\n",
              "    }\n",
              "\n",
              "    .colab-df-convert:hover {\n",
              "      background-color: #E2EBFA;\n",
              "      box-shadow: 0px 1px 2px rgba(60, 64, 67, 0.3), 0px 1px 3px 1px rgba(60, 64, 67, 0.15);\n",
              "      fill: #174EA6;\n",
              "    }\n",
              "\n",
              "    [theme=dark] .colab-df-convert {\n",
              "      background-color: #3B4455;\n",
              "      fill: #D2E3FC;\n",
              "    }\n",
              "\n",
              "    [theme=dark] .colab-df-convert:hover {\n",
              "      background-color: #434B5C;\n",
              "      box-shadow: 0px 1px 3px 1px rgba(0, 0, 0, 0.15);\n",
              "      filter: drop-shadow(0px 1px 2px rgba(0, 0, 0, 0.3));\n",
              "      fill: #FFFFFF;\n",
              "    }\n",
              "  </style>\n",
              "\n",
              "      <script>\n",
              "        const buttonEl =\n",
              "          document.querySelector('#df-b65706ed-3ad9-4328-9689-70a73cef5a19 button.colab-df-convert');\n",
              "        buttonEl.style.display =\n",
              "          google.colab.kernel.accessAllowed ? 'block' : 'none';\n",
              "\n",
              "        async function convertToInteractive(key) {\n",
              "          const element = document.querySelector('#df-b65706ed-3ad9-4328-9689-70a73cef5a19');\n",
              "          const dataTable =\n",
              "            await google.colab.kernel.invokeFunction('convertToInteractive',\n",
              "                                                     [key], {});\n",
              "          if (!dataTable) return;\n",
              "\n",
              "          const docLinkHtml = 'Like what you see? Visit the ' +\n",
              "            '<a target=\"_blank\" href=https://colab.research.google.com/notebooks/data_table.ipynb>data table notebook</a>'\n",
              "            + ' to learn more about interactive tables.';\n",
              "          element.innerHTML = '';\n",
              "          dataTable['output_type'] = 'display_data';\n",
              "          await google.colab.output.renderOutput(dataTable, element);\n",
              "          const docLink = document.createElement('div');\n",
              "          docLink.innerHTML = docLinkHtml;\n",
              "          element.appendChild(docLink);\n",
              "        }\n",
              "      </script>\n",
              "    </div>\n",
              "  </div>\n",
              "  "
            ]
          },
          "metadata": {},
          "execution_count": 19
        }
      ]
    },
    {
      "cell_type": "markdown",
      "source": [
        "* Here the minimum value of 'No_of_days_to_release' can't be negative as the published date will be always ahead of recorded date. So, we have to deal it."
      ],
      "metadata": {
        "id": "G2xi0P96ZREh"
      }
    },
    {
      "cell_type": "code",
      "source": [
        "# Function Which makes the negative values in 'No_of_days_to_release' column to '0'.\n",
        "\n",
        "def changing_no_of_days(a):\n",
        "    '''This function converts negitive values to 0 and returns back the same value if it is positive'''\n",
        "    if a < 0 :\n",
        "        return 0\n",
        "    else:\n",
        "        return a\n",
        "    \n",
        "Ted_non_null_df['No_of_days_to_release'] = Ted_non_null_df.apply(lambda x: changing_no_of_days(x['No_of_days_to_release']),axis=1)\n"
      ],
      "metadata": {
        "id": "ZXI2LvczTA23"
      },
      "execution_count": null,
      "outputs": []
    },
    {
      "cell_type": "code",
      "source": [
        "\n",
        "Ted_non_null_df.describe().apply(lambda x: x.apply('{0:.2f}'.format)).T\n"
      ],
      "metadata": {
        "colab": {
          "base_uri": "https://localhost:8080/",
          "height": 206
        },
        "id": "EFqvjeRWTA0H",
        "outputId": "b3d44537-5f81-4a9e-b184-5f68b07385a2"
      },
      "execution_count": null,
      "outputs": [
        {
          "output_type": "execute_result",
          "data": {
            "text/plain": [
              "                         count        mean         std    min        25%  \\\n",
              "talk_id                4004.00    12421.50    17435.76   1.00    1251.75   \n",
              "views                  4004.00  2148223.29  3451629.07   0.00  881760.50   \n",
              "duration               4004.00      723.93      361.79  60.00     392.75   \n",
              "comments               4004.00      161.87      245.89   0.00      46.00   \n",
              "No_of_days_to_release  4004.00      307.94      581.74   0.00      42.00   \n",
              "\n",
              "                              50%         75%          max  \n",
              "talk_id                   2332.50    23774.00     62794.00  \n",
              "views                  1375593.50  2133174.50  65051954.00  \n",
              "duration                   738.00      973.25      3922.00  \n",
              "comments                   119.00      162.00      6449.00  \n",
              "No_of_days_to_release      104.00      229.00      8804.00  "
            ],
            "text/html": [
              "\n",
              "  <div id=\"df-a50a6ef5-33dd-4bf4-b3ab-e2ffbe07a1e9\">\n",
              "    <div class=\"colab-df-container\">\n",
              "      <div>\n",
              "<style scoped>\n",
              "    .dataframe tbody tr th:only-of-type {\n",
              "        vertical-align: middle;\n",
              "    }\n",
              "\n",
              "    .dataframe tbody tr th {\n",
              "        vertical-align: top;\n",
              "    }\n",
              "\n",
              "    .dataframe thead th {\n",
              "        text-align: right;\n",
              "    }\n",
              "</style>\n",
              "<table border=\"1\" class=\"dataframe\">\n",
              "  <thead>\n",
              "    <tr style=\"text-align: right;\">\n",
              "      <th></th>\n",
              "      <th>count</th>\n",
              "      <th>mean</th>\n",
              "      <th>std</th>\n",
              "      <th>min</th>\n",
              "      <th>25%</th>\n",
              "      <th>50%</th>\n",
              "      <th>75%</th>\n",
              "      <th>max</th>\n",
              "    </tr>\n",
              "  </thead>\n",
              "  <tbody>\n",
              "    <tr>\n",
              "      <th>talk_id</th>\n",
              "      <td>4004.00</td>\n",
              "      <td>12421.50</td>\n",
              "      <td>17435.76</td>\n",
              "      <td>1.00</td>\n",
              "      <td>1251.75</td>\n",
              "      <td>2332.50</td>\n",
              "      <td>23774.00</td>\n",
              "      <td>62794.00</td>\n",
              "    </tr>\n",
              "    <tr>\n",
              "      <th>views</th>\n",
              "      <td>4004.00</td>\n",
              "      <td>2148223.29</td>\n",
              "      <td>3451629.07</td>\n",
              "      <td>0.00</td>\n",
              "      <td>881760.50</td>\n",
              "      <td>1375593.50</td>\n",
              "      <td>2133174.50</td>\n",
              "      <td>65051954.00</td>\n",
              "    </tr>\n",
              "    <tr>\n",
              "      <th>duration</th>\n",
              "      <td>4004.00</td>\n",
              "      <td>723.93</td>\n",
              "      <td>361.79</td>\n",
              "      <td>60.00</td>\n",
              "      <td>392.75</td>\n",
              "      <td>738.00</td>\n",
              "      <td>973.25</td>\n",
              "      <td>3922.00</td>\n",
              "    </tr>\n",
              "    <tr>\n",
              "      <th>comments</th>\n",
              "      <td>4004.00</td>\n",
              "      <td>161.87</td>\n",
              "      <td>245.89</td>\n",
              "      <td>0.00</td>\n",
              "      <td>46.00</td>\n",
              "      <td>119.00</td>\n",
              "      <td>162.00</td>\n",
              "      <td>6449.00</td>\n",
              "    </tr>\n",
              "    <tr>\n",
              "      <th>No_of_days_to_release</th>\n",
              "      <td>4004.00</td>\n",
              "      <td>307.94</td>\n",
              "      <td>581.74</td>\n",
              "      <td>0.00</td>\n",
              "      <td>42.00</td>\n",
              "      <td>104.00</td>\n",
              "      <td>229.00</td>\n",
              "      <td>8804.00</td>\n",
              "    </tr>\n",
              "  </tbody>\n",
              "</table>\n",
              "</div>\n",
              "      <button class=\"colab-df-convert\" onclick=\"convertToInteractive('df-a50a6ef5-33dd-4bf4-b3ab-e2ffbe07a1e9')\"\n",
              "              title=\"Convert this dataframe to an interactive table.\"\n",
              "              style=\"display:none;\">\n",
              "        \n",
              "  <svg xmlns=\"http://www.w3.org/2000/svg\" height=\"24px\"viewBox=\"0 0 24 24\"\n",
              "       width=\"24px\">\n",
              "    <path d=\"M0 0h24v24H0V0z\" fill=\"none\"/>\n",
              "    <path d=\"M18.56 5.44l.94 2.06.94-2.06 2.06-.94-2.06-.94-.94-2.06-.94 2.06-2.06.94zm-11 1L8.5 8.5l.94-2.06 2.06-.94-2.06-.94L8.5 2.5l-.94 2.06-2.06.94zm10 10l.94 2.06.94-2.06 2.06-.94-2.06-.94-.94-2.06-.94 2.06-2.06.94z\"/><path d=\"M17.41 7.96l-1.37-1.37c-.4-.4-.92-.59-1.43-.59-.52 0-1.04.2-1.43.59L10.3 9.45l-7.72 7.72c-.78.78-.78 2.05 0 2.83L4 21.41c.39.39.9.59 1.41.59.51 0 1.02-.2 1.41-.59l7.78-7.78 2.81-2.81c.8-.78.8-2.07 0-2.86zM5.41 20L4 18.59l7.72-7.72 1.47 1.35L5.41 20z\"/>\n",
              "  </svg>\n",
              "      </button>\n",
              "      \n",
              "  <style>\n",
              "    .colab-df-container {\n",
              "      display:flex;\n",
              "      flex-wrap:wrap;\n",
              "      gap: 12px;\n",
              "    }\n",
              "\n",
              "    .colab-df-convert {\n",
              "      background-color: #E8F0FE;\n",
              "      border: none;\n",
              "      border-radius: 50%;\n",
              "      cursor: pointer;\n",
              "      display: none;\n",
              "      fill: #1967D2;\n",
              "      height: 32px;\n",
              "      padding: 0 0 0 0;\n",
              "      width: 32px;\n",
              "    }\n",
              "\n",
              "    .colab-df-convert:hover {\n",
              "      background-color: #E2EBFA;\n",
              "      box-shadow: 0px 1px 2px rgba(60, 64, 67, 0.3), 0px 1px 3px 1px rgba(60, 64, 67, 0.15);\n",
              "      fill: #174EA6;\n",
              "    }\n",
              "\n",
              "    [theme=dark] .colab-df-convert {\n",
              "      background-color: #3B4455;\n",
              "      fill: #D2E3FC;\n",
              "    }\n",
              "\n",
              "    [theme=dark] .colab-df-convert:hover {\n",
              "      background-color: #434B5C;\n",
              "      box-shadow: 0px 1px 3px 1px rgba(0, 0, 0, 0.15);\n",
              "      filter: drop-shadow(0px 1px 2px rgba(0, 0, 0, 0.3));\n",
              "      fill: #FFFFFF;\n",
              "    }\n",
              "  </style>\n",
              "\n",
              "      <script>\n",
              "        const buttonEl =\n",
              "          document.querySelector('#df-a50a6ef5-33dd-4bf4-b3ab-e2ffbe07a1e9 button.colab-df-convert');\n",
              "        buttonEl.style.display =\n",
              "          google.colab.kernel.accessAllowed ? 'block' : 'none';\n",
              "\n",
              "        async function convertToInteractive(key) {\n",
              "          const element = document.querySelector('#df-a50a6ef5-33dd-4bf4-b3ab-e2ffbe07a1e9');\n",
              "          const dataTable =\n",
              "            await google.colab.kernel.invokeFunction('convertToInteractive',\n",
              "                                                     [key], {});\n",
              "          if (!dataTable) return;\n",
              "\n",
              "          const docLinkHtml = 'Like what you see? Visit the ' +\n",
              "            '<a target=\"_blank\" href=https://colab.research.google.com/notebooks/data_table.ipynb>data table notebook</a>'\n",
              "            + ' to learn more about interactive tables.';\n",
              "          element.innerHTML = '';\n",
              "          dataTable['output_type'] = 'display_data';\n",
              "          await google.colab.output.renderOutput(dataTable, element);\n",
              "          const docLink = document.createElement('div');\n",
              "          docLink.innerHTML = docLinkHtml;\n",
              "          element.appendChild(docLink);\n",
              "        }\n",
              "      </script>\n",
              "    </div>\n",
              "  </div>\n",
              "  "
            ]
          },
          "metadata": {},
          "execution_count": 21
        }
      ]
    },
    {
      "cell_type": "code",
      "source": [
        "# Converting the column from str to datetime.\n",
        "\n",
        "Ted_non_null_df['published_date'] = pd.to_datetime(Ted_non_null_df['published_date'])\n",
        "\n",
        "# Extracting the details in our date column.\n",
        "\n",
        "Ted_non_null_df['published_date_year'] = Ted_non_null_df['published_date'].dt.year\n",
        "Ted_non_null_df['published_date_month'] = Ted_non_null_df['published_date'].dt.month_name()\n",
        "Ted_non_null_df['published_date_month_num'] = Ted_non_null_df['published_date'].dt.month\n",
        "Ted_non_null_df['published_date_day'] = Ted_non_null_df['published_date'].dt.day\n",
        "Ted_non_null_df['published_date_day_name'] = Ted_non_null_df['published_date'].dt.day_name()\n"
      ],
      "metadata": {
        "id": "qnNydwZWTAxL"
      },
      "execution_count": null,
      "outputs": []
    },
    {
      "cell_type": "code",
      "source": [
        "Ted_non_null_df.head(2)"
      ],
      "metadata": {
        "colab": {
          "base_uri": "https://localhost:8080/",
          "height": 362
        },
        "id": "dcWoInnMTAuQ",
        "outputId": "dc98dfc6-ba16-441d-b417-f3c225241ec5"
      },
      "execution_count": null,
      "outputs": [
        {
          "output_type": "execute_result",
          "data": {
            "text/plain": [
              "   talk_id                            title     speaker_1     views  \\\n",
              "0        1      Averting the climate crisis       Al Gore   3523392   \n",
              "1       92  The best stats you've ever seen  Hans Rosling  14501685   \n",
              "\n",
              "  recorded_date published_date    event native_lang  \\\n",
              "0    2006-02-25     2006-06-27  TED2006          en   \n",
              "1    2006-02-22     2006-06-27  TED2006          en   \n",
              "\n",
              "                                      available_lang  duration  ...  \\\n",
              "0  ['ar', 'bg', 'cs', 'de', 'el', 'en', 'es', 'fa...       977  ...   \n",
              "1  ['ar', 'az', 'bg', 'bn', 'bs', 'cs', 'da', 'de...      1190  ...   \n",
              "\n",
              "                                          transcript         all_speakers  \\\n",
              "0  Thank you so much, Chris. And it's truly a gre...       {0: 'Al Gore'}   \n",
              "1  About 10 years ago, I took on the task to teac...  {0: 'Hans Rosling'}   \n",
              "\n",
              "                                     occupations comments  \\\n",
              "0                      {0: ['climate advocate']}      272   \n",
              "1  {0: ['global health expert; data visionary']}      628   \n",
              "\n",
              "  No_of_days_to_release published_date_year published_date_month  \\\n",
              "0                   122                2006                 June   \n",
              "1                   125                2006                 June   \n",
              "\n",
              "   published_date_month_num  published_date_day  published_date_day_name  \n",
              "0                         6                  27                  Tuesday  \n",
              "1                         6                  27                  Tuesday  \n",
              "\n",
              "[2 rows x 24 columns]"
            ],
            "text/html": [
              "\n",
              "  <div id=\"df-9879626c-f75e-41de-a191-c777b64a5b17\">\n",
              "    <div class=\"colab-df-container\">\n",
              "      <div>\n",
              "<style scoped>\n",
              "    .dataframe tbody tr th:only-of-type {\n",
              "        vertical-align: middle;\n",
              "    }\n",
              "\n",
              "    .dataframe tbody tr th {\n",
              "        vertical-align: top;\n",
              "    }\n",
              "\n",
              "    .dataframe thead th {\n",
              "        text-align: right;\n",
              "    }\n",
              "</style>\n",
              "<table border=\"1\" class=\"dataframe\">\n",
              "  <thead>\n",
              "    <tr style=\"text-align: right;\">\n",
              "      <th></th>\n",
              "      <th>talk_id</th>\n",
              "      <th>title</th>\n",
              "      <th>speaker_1</th>\n",
              "      <th>views</th>\n",
              "      <th>recorded_date</th>\n",
              "      <th>published_date</th>\n",
              "      <th>event</th>\n",
              "      <th>native_lang</th>\n",
              "      <th>available_lang</th>\n",
              "      <th>duration</th>\n",
              "      <th>...</th>\n",
              "      <th>transcript</th>\n",
              "      <th>all_speakers</th>\n",
              "      <th>occupations</th>\n",
              "      <th>comments</th>\n",
              "      <th>No_of_days_to_release</th>\n",
              "      <th>published_date_year</th>\n",
              "      <th>published_date_month</th>\n",
              "      <th>published_date_month_num</th>\n",
              "      <th>published_date_day</th>\n",
              "      <th>published_date_day_name</th>\n",
              "    </tr>\n",
              "  </thead>\n",
              "  <tbody>\n",
              "    <tr>\n",
              "      <th>0</th>\n",
              "      <td>1</td>\n",
              "      <td>Averting the climate crisis</td>\n",
              "      <td>Al Gore</td>\n",
              "      <td>3523392</td>\n",
              "      <td>2006-02-25</td>\n",
              "      <td>2006-06-27</td>\n",
              "      <td>TED2006</td>\n",
              "      <td>en</td>\n",
              "      <td>['ar', 'bg', 'cs', 'de', 'el', 'en', 'es', 'fa...</td>\n",
              "      <td>977</td>\n",
              "      <td>...</td>\n",
              "      <td>Thank you so much, Chris. And it's truly a gre...</td>\n",
              "      <td>{0: 'Al Gore'}</td>\n",
              "      <td>{0: ['climate advocate']}</td>\n",
              "      <td>272</td>\n",
              "      <td>122</td>\n",
              "      <td>2006</td>\n",
              "      <td>June</td>\n",
              "      <td>6</td>\n",
              "      <td>27</td>\n",
              "      <td>Tuesday</td>\n",
              "    </tr>\n",
              "    <tr>\n",
              "      <th>1</th>\n",
              "      <td>92</td>\n",
              "      <td>The best stats you've ever seen</td>\n",
              "      <td>Hans Rosling</td>\n",
              "      <td>14501685</td>\n",
              "      <td>2006-02-22</td>\n",
              "      <td>2006-06-27</td>\n",
              "      <td>TED2006</td>\n",
              "      <td>en</td>\n",
              "      <td>['ar', 'az', 'bg', 'bn', 'bs', 'cs', 'da', 'de...</td>\n",
              "      <td>1190</td>\n",
              "      <td>...</td>\n",
              "      <td>About 10 years ago, I took on the task to teac...</td>\n",
              "      <td>{0: 'Hans Rosling'}</td>\n",
              "      <td>{0: ['global health expert; data visionary']}</td>\n",
              "      <td>628</td>\n",
              "      <td>125</td>\n",
              "      <td>2006</td>\n",
              "      <td>June</td>\n",
              "      <td>6</td>\n",
              "      <td>27</td>\n",
              "      <td>Tuesday</td>\n",
              "    </tr>\n",
              "  </tbody>\n",
              "</table>\n",
              "<p>2 rows × 24 columns</p>\n",
              "</div>\n",
              "      <button class=\"colab-df-convert\" onclick=\"convertToInteractive('df-9879626c-f75e-41de-a191-c777b64a5b17')\"\n",
              "              title=\"Convert this dataframe to an interactive table.\"\n",
              "              style=\"display:none;\">\n",
              "        \n",
              "  <svg xmlns=\"http://www.w3.org/2000/svg\" height=\"24px\"viewBox=\"0 0 24 24\"\n",
              "       width=\"24px\">\n",
              "    <path d=\"M0 0h24v24H0V0z\" fill=\"none\"/>\n",
              "    <path d=\"M18.56 5.44l.94 2.06.94-2.06 2.06-.94-2.06-.94-.94-2.06-.94 2.06-2.06.94zm-11 1L8.5 8.5l.94-2.06 2.06-.94-2.06-.94L8.5 2.5l-.94 2.06-2.06.94zm10 10l.94 2.06.94-2.06 2.06-.94-2.06-.94-.94-2.06-.94 2.06-2.06.94z\"/><path d=\"M17.41 7.96l-1.37-1.37c-.4-.4-.92-.59-1.43-.59-.52 0-1.04.2-1.43.59L10.3 9.45l-7.72 7.72c-.78.78-.78 2.05 0 2.83L4 21.41c.39.39.9.59 1.41.59.51 0 1.02-.2 1.41-.59l7.78-7.78 2.81-2.81c.8-.78.8-2.07 0-2.86zM5.41 20L4 18.59l7.72-7.72 1.47 1.35L5.41 20z\"/>\n",
              "  </svg>\n",
              "      </button>\n",
              "      \n",
              "  <style>\n",
              "    .colab-df-container {\n",
              "      display:flex;\n",
              "      flex-wrap:wrap;\n",
              "      gap: 12px;\n",
              "    }\n",
              "\n",
              "    .colab-df-convert {\n",
              "      background-color: #E8F0FE;\n",
              "      border: none;\n",
              "      border-radius: 50%;\n",
              "      cursor: pointer;\n",
              "      display: none;\n",
              "      fill: #1967D2;\n",
              "      height: 32px;\n",
              "      padding: 0 0 0 0;\n",
              "      width: 32px;\n",
              "    }\n",
              "\n",
              "    .colab-df-convert:hover {\n",
              "      background-color: #E2EBFA;\n",
              "      box-shadow: 0px 1px 2px rgba(60, 64, 67, 0.3), 0px 1px 3px 1px rgba(60, 64, 67, 0.15);\n",
              "      fill: #174EA6;\n",
              "    }\n",
              "\n",
              "    [theme=dark] .colab-df-convert {\n",
              "      background-color: #3B4455;\n",
              "      fill: #D2E3FC;\n",
              "    }\n",
              "\n",
              "    [theme=dark] .colab-df-convert:hover {\n",
              "      background-color: #434B5C;\n",
              "      box-shadow: 0px 1px 3px 1px rgba(0, 0, 0, 0.15);\n",
              "      filter: drop-shadow(0px 1px 2px rgba(0, 0, 0, 0.3));\n",
              "      fill: #FFFFFF;\n",
              "    }\n",
              "  </style>\n",
              "\n",
              "      <script>\n",
              "        const buttonEl =\n",
              "          document.querySelector('#df-9879626c-f75e-41de-a191-c777b64a5b17 button.colab-df-convert');\n",
              "        buttonEl.style.display =\n",
              "          google.colab.kernel.accessAllowed ? 'block' : 'none';\n",
              "\n",
              "        async function convertToInteractive(key) {\n",
              "          const element = document.querySelector('#df-9879626c-f75e-41de-a191-c777b64a5b17');\n",
              "          const dataTable =\n",
              "            await google.colab.kernel.invokeFunction('convertToInteractive',\n",
              "                                                     [key], {});\n",
              "          if (!dataTable) return;\n",
              "\n",
              "          const docLinkHtml = 'Like what you see? Visit the ' +\n",
              "            '<a target=\"_blank\" href=https://colab.research.google.com/notebooks/data_table.ipynb>data table notebook</a>'\n",
              "            + ' to learn more about interactive tables.';\n",
              "          element.innerHTML = '';\n",
              "          dataTable['output_type'] = 'display_data';\n",
              "          await google.colab.output.renderOutput(dataTable, element);\n",
              "          const docLink = document.createElement('div');\n",
              "          docLink.innerHTML = docLinkHtml;\n",
              "          element.appendChild(docLink);\n",
              "        }\n",
              "      </script>\n",
              "    </div>\n",
              "  </div>\n",
              "  "
            ]
          },
          "metadata": {},
          "execution_count": 23
        }
      ]
    },
    {
      "cell_type": "code",
      "source": [
        "# Creating a column named 'published_date_day_num' with day names of a week.\n",
        "\n",
        "day_name = {'Monday':0 , 'Tuesday':1 , 'Wednesday':2 , 'Thursday':3 , 'Friday':4 , 'Saturday':5 , 'Sunday':6}\n",
        "Ted_non_null_df['published_date_day_num'] = Ted_non_null_df['published_date_day_name'].map(day_name)\n"
      ],
      "metadata": {
        "id": "dMAJ3kAsTArv"
      },
      "execution_count": null,
      "outputs": []
    },
    {
      "cell_type": "code",
      "source": [
        "Ted_non_null_df.head(2)"
      ],
      "metadata": {
        "id": "PkopiaCATAow",
        "colab": {
          "base_uri": "https://localhost:8080/",
          "height": 344
        },
        "outputId": "38f1d8f5-2e40-4a55-8cd1-890753657a54"
      },
      "execution_count": null,
      "outputs": [
        {
          "output_type": "execute_result",
          "data": {
            "text/plain": [
              "   talk_id                            title     speaker_1     views  \\\n",
              "0        1      Averting the climate crisis       Al Gore   3523392   \n",
              "1       92  The best stats you've ever seen  Hans Rosling  14501685   \n",
              "\n",
              "  recorded_date published_date    event native_lang  \\\n",
              "0    2006-02-25     2006-06-27  TED2006          en   \n",
              "1    2006-02-22     2006-06-27  TED2006          en   \n",
              "\n",
              "                                      available_lang  duration  ...  \\\n",
              "0  ['ar', 'bg', 'cs', 'de', 'el', 'en', 'es', 'fa...       977  ...   \n",
              "1  ['ar', 'az', 'bg', 'bn', 'bs', 'cs', 'da', 'de...      1190  ...   \n",
              "\n",
              "          all_speakers                                    occupations  \\\n",
              "0       {0: 'Al Gore'}                      {0: ['climate advocate']}   \n",
              "1  {0: 'Hans Rosling'}  {0: ['global health expert; data visionary']}   \n",
              "\n",
              "  comments No_of_days_to_release published_date_year published_date_month  \\\n",
              "0      272                   122                2006                 June   \n",
              "1      628                   125                2006                 June   \n",
              "\n",
              "  published_date_month_num  published_date_day  published_date_day_name  \\\n",
              "0                        6                  27                  Tuesday   \n",
              "1                        6                  27                  Tuesday   \n",
              "\n",
              "   published_date_day_num  \n",
              "0                       1  \n",
              "1                       1  \n",
              "\n",
              "[2 rows x 25 columns]"
            ],
            "text/html": [
              "\n",
              "  <div id=\"df-ec550ba3-ffe1-404c-b914-0ca7aa7c52c9\">\n",
              "    <div class=\"colab-df-container\">\n",
              "      <div>\n",
              "<style scoped>\n",
              "    .dataframe tbody tr th:only-of-type {\n",
              "        vertical-align: middle;\n",
              "    }\n",
              "\n",
              "    .dataframe tbody tr th {\n",
              "        vertical-align: top;\n",
              "    }\n",
              "\n",
              "    .dataframe thead th {\n",
              "        text-align: right;\n",
              "    }\n",
              "</style>\n",
              "<table border=\"1\" class=\"dataframe\">\n",
              "  <thead>\n",
              "    <tr style=\"text-align: right;\">\n",
              "      <th></th>\n",
              "      <th>talk_id</th>\n",
              "      <th>title</th>\n",
              "      <th>speaker_1</th>\n",
              "      <th>views</th>\n",
              "      <th>recorded_date</th>\n",
              "      <th>published_date</th>\n",
              "      <th>event</th>\n",
              "      <th>native_lang</th>\n",
              "      <th>available_lang</th>\n",
              "      <th>duration</th>\n",
              "      <th>...</th>\n",
              "      <th>all_speakers</th>\n",
              "      <th>occupations</th>\n",
              "      <th>comments</th>\n",
              "      <th>No_of_days_to_release</th>\n",
              "      <th>published_date_year</th>\n",
              "      <th>published_date_month</th>\n",
              "      <th>published_date_month_num</th>\n",
              "      <th>published_date_day</th>\n",
              "      <th>published_date_day_name</th>\n",
              "      <th>published_date_day_num</th>\n",
              "    </tr>\n",
              "  </thead>\n",
              "  <tbody>\n",
              "    <tr>\n",
              "      <th>0</th>\n",
              "      <td>1</td>\n",
              "      <td>Averting the climate crisis</td>\n",
              "      <td>Al Gore</td>\n",
              "      <td>3523392</td>\n",
              "      <td>2006-02-25</td>\n",
              "      <td>2006-06-27</td>\n",
              "      <td>TED2006</td>\n",
              "      <td>en</td>\n",
              "      <td>['ar', 'bg', 'cs', 'de', 'el', 'en', 'es', 'fa...</td>\n",
              "      <td>977</td>\n",
              "      <td>...</td>\n",
              "      <td>{0: 'Al Gore'}</td>\n",
              "      <td>{0: ['climate advocate']}</td>\n",
              "      <td>272</td>\n",
              "      <td>122</td>\n",
              "      <td>2006</td>\n",
              "      <td>June</td>\n",
              "      <td>6</td>\n",
              "      <td>27</td>\n",
              "      <td>Tuesday</td>\n",
              "      <td>1</td>\n",
              "    </tr>\n",
              "    <tr>\n",
              "      <th>1</th>\n",
              "      <td>92</td>\n",
              "      <td>The best stats you've ever seen</td>\n",
              "      <td>Hans Rosling</td>\n",
              "      <td>14501685</td>\n",
              "      <td>2006-02-22</td>\n",
              "      <td>2006-06-27</td>\n",
              "      <td>TED2006</td>\n",
              "      <td>en</td>\n",
              "      <td>['ar', 'az', 'bg', 'bn', 'bs', 'cs', 'da', 'de...</td>\n",
              "      <td>1190</td>\n",
              "      <td>...</td>\n",
              "      <td>{0: 'Hans Rosling'}</td>\n",
              "      <td>{0: ['global health expert; data visionary']}</td>\n",
              "      <td>628</td>\n",
              "      <td>125</td>\n",
              "      <td>2006</td>\n",
              "      <td>June</td>\n",
              "      <td>6</td>\n",
              "      <td>27</td>\n",
              "      <td>Tuesday</td>\n",
              "      <td>1</td>\n",
              "    </tr>\n",
              "  </tbody>\n",
              "</table>\n",
              "<p>2 rows × 25 columns</p>\n",
              "</div>\n",
              "      <button class=\"colab-df-convert\" onclick=\"convertToInteractive('df-ec550ba3-ffe1-404c-b914-0ca7aa7c52c9')\"\n",
              "              title=\"Convert this dataframe to an interactive table.\"\n",
              "              style=\"display:none;\">\n",
              "        \n",
              "  <svg xmlns=\"http://www.w3.org/2000/svg\" height=\"24px\"viewBox=\"0 0 24 24\"\n",
              "       width=\"24px\">\n",
              "    <path d=\"M0 0h24v24H0V0z\" fill=\"none\"/>\n",
              "    <path d=\"M18.56 5.44l.94 2.06.94-2.06 2.06-.94-2.06-.94-.94-2.06-.94 2.06-2.06.94zm-11 1L8.5 8.5l.94-2.06 2.06-.94-2.06-.94L8.5 2.5l-.94 2.06-2.06.94zm10 10l.94 2.06.94-2.06 2.06-.94-2.06-.94-.94-2.06-.94 2.06-2.06.94z\"/><path d=\"M17.41 7.96l-1.37-1.37c-.4-.4-.92-.59-1.43-.59-.52 0-1.04.2-1.43.59L10.3 9.45l-7.72 7.72c-.78.78-.78 2.05 0 2.83L4 21.41c.39.39.9.59 1.41.59.51 0 1.02-.2 1.41-.59l7.78-7.78 2.81-2.81c.8-.78.8-2.07 0-2.86zM5.41 20L4 18.59l7.72-7.72 1.47 1.35L5.41 20z\"/>\n",
              "  </svg>\n",
              "      </button>\n",
              "      \n",
              "  <style>\n",
              "    .colab-df-container {\n",
              "      display:flex;\n",
              "      flex-wrap:wrap;\n",
              "      gap: 12px;\n",
              "    }\n",
              "\n",
              "    .colab-df-convert {\n",
              "      background-color: #E8F0FE;\n",
              "      border: none;\n",
              "      border-radius: 50%;\n",
              "      cursor: pointer;\n",
              "      display: none;\n",
              "      fill: #1967D2;\n",
              "      height: 32px;\n",
              "      padding: 0 0 0 0;\n",
              "      width: 32px;\n",
              "    }\n",
              "\n",
              "    .colab-df-convert:hover {\n",
              "      background-color: #E2EBFA;\n",
              "      box-shadow: 0px 1px 2px rgba(60, 64, 67, 0.3), 0px 1px 3px 1px rgba(60, 64, 67, 0.15);\n",
              "      fill: #174EA6;\n",
              "    }\n",
              "\n",
              "    [theme=dark] .colab-df-convert {\n",
              "      background-color: #3B4455;\n",
              "      fill: #D2E3FC;\n",
              "    }\n",
              "\n",
              "    [theme=dark] .colab-df-convert:hover {\n",
              "      background-color: #434B5C;\n",
              "      box-shadow: 0px 1px 3px 1px rgba(0, 0, 0, 0.15);\n",
              "      filter: drop-shadow(0px 1px 2px rgba(0, 0, 0, 0.3));\n",
              "      fill: #FFFFFF;\n",
              "    }\n",
              "  </style>\n",
              "\n",
              "      <script>\n",
              "        const buttonEl =\n",
              "          document.querySelector('#df-ec550ba3-ffe1-404c-b914-0ca7aa7c52c9 button.colab-df-convert');\n",
              "        buttonEl.style.display =\n",
              "          google.colab.kernel.accessAllowed ? 'block' : 'none';\n",
              "\n",
              "        async function convertToInteractive(key) {\n",
              "          const element = document.querySelector('#df-ec550ba3-ffe1-404c-b914-0ca7aa7c52c9');\n",
              "          const dataTable =\n",
              "            await google.colab.kernel.invokeFunction('convertToInteractive',\n",
              "                                                     [key], {});\n",
              "          if (!dataTable) return;\n",
              "\n",
              "          const docLinkHtml = 'Like what you see? Visit the ' +\n",
              "            '<a target=\"_blank\" href=https://colab.research.google.com/notebooks/data_table.ipynb>data table notebook</a>'\n",
              "            + ' to learn more about interactive tables.';\n",
              "          element.innerHTML = '';\n",
              "          dataTable['output_type'] = 'display_data';\n",
              "          await google.colab.output.renderOutput(dataTable, element);\n",
              "          const docLink = document.createElement('div');\n",
              "          docLink.innerHTML = docLinkHtml;\n",
              "          element.appendChild(docLink);\n",
              "        }\n",
              "      </script>\n",
              "    </div>\n",
              "  </div>\n",
              "  "
            ]
          },
          "metadata": {},
          "execution_count": 25
        }
      ]
    },
    {
      "cell_type": "code",
      "source": [
        "Ted_non_null_df.drop(columns = ['recorded_date', 'published_date'], inplace = True)"
      ],
      "metadata": {
        "id": "_9TSJJTqTAlr"
      },
      "execution_count": null,
      "outputs": []
    },
    {
      "cell_type": "code",
      "source": [
        "\n",
        "l_plot_data = Ted_non_null_df.groupby('published_date_year')['views'].sum().reset_index()\n",
        "sns.set(rc = {'figure.figsize':(15, 9)})\n",
        "sns.lineplot(l_plot_data['published_date_year'], l_plot_data['views'])\n"
      ],
      "metadata": {
        "colab": {
          "base_uri": "https://localhost:8080/",
          "height": 585
        },
        "id": "k_9ZuzDxTAjJ",
        "outputId": "c9cf845e-0357-458a-9d6d-7c6810d21d2b"
      },
      "execution_count": null,
      "outputs": [
        {
          "output_type": "execute_result",
          "data": {
            "text/plain": [
              "<matplotlib.axes._subplots.AxesSubplot at 0x7fd8f47a16d0>"
            ]
          },
          "metadata": {},
          "execution_count": 27
        },
        {
          "output_type": "display_data",
          "data": {
            "text/plain": [
              "<Figure size 1080x648 with 1 Axes>"
            ],
            "image/png": "[encoded data removed]"
          },
          "metadata": {}
        }
      ]
    },
    {
      "cell_type": "code",
      "source": [
        "\n",
        "sns.set(rc = {'figure.figsize':(15, 9)})\n",
        "sns.heatmap(Ted_non_null_df.pivot_table(values = 'views', index = 'published_date_year', columns = 'published_date_month_num'))\n"
      ],
      "metadata": {
        "id": "ArU9WfQ7TAgA",
        "colab": {
          "base_uri": "https://localhost:8080/",
          "height": 585
        },
        "outputId": "ba373a10-2181-4a90-e299-89c93686fe03"
      },
      "execution_count": null,
      "outputs": [
        {
          "output_type": "execute_result",
          "data": {
            "text/plain": [
              "<matplotlib.axes._subplots.AxesSubplot at 0x7fd8f456ad30>"
            ]
          },
          "metadata": {},
          "execution_count": 28
        },
        {
          "output_type": "display_data",
          "data": {
            "text/plain": [
              "<Figure size 1080x648 with 2 Axes>"
            ],
            "image/png": "[encoded data removed]"
          },
          "metadata": {}
        }
      ]
    },
    {
      "cell_type": "markdown",
      "source": [
        "* Here the clear reason behind the sudden drop of views in 2020 is we have data only till April month of 2020."
      ],
      "metadata": {
        "id": "-j9m1THeZy-s"
      }
    },
    {
      "cell_type": "markdown",
      "source": [
        "---\n",
        "## Exploring the Occupations Column\n",
        "---"
      ],
      "metadata": {
        "id": "0wyp17NEZ46-"
      }
    },
    {
      "cell_type": "code",
      "source": [
        "\n",
        "Ted_non_null_df['occupations'] = Ted_non_null_df.apply(lambda row: eval(row['occupations']), axis=1) \n"
      ],
      "metadata": {
        "id": "DhwJrjsgTAdE"
      },
      "execution_count": null,
      "outputs": []
    },
    {
      "cell_type": "code",
      "source": [
        "# Extracting the occupation from Occupations dictionary.\n",
        "\n",
        "for index, row in Ted_non_null_df.iterrows():\n",
        "    occup_list=list(row['occupations'].values())[0][0]\n",
        "    Ted_non_null_df.loc[index,'occupation'] = str(occup_list)\n",
        " "
      ],
      "metadata": {
        "id": "9yEApgAWTAZ-"
      },
      "execution_count": null,
      "outputs": []
    },
    {
      "cell_type": "code",
      "source": [
        "Ted_non_null_df.sample(2)"
      ],
      "metadata": {
        "colab": {
          "base_uri": "https://localhost:8080/",
          "height": 344
        },
        "id": "N_ir8Bb4TAXe",
        "outputId": "9d41915e-e9f5-4a54-c7e7-80e112256b30"
      },
      "execution_count": null,
      "outputs": [
        {
          "output_type": "execute_result",
          "data": {
            "text/plain": [
              "      talk_id                                              title  \\\n",
              "2920    21039  How I went from child refugee to international...   \n",
              "2268     2622  Islamophobia killed my brother. Let's end the ...   \n",
              "\n",
              "            speaker_1    views           event native_lang  \\\n",
              "2920      Halima Aden  1517851  TEDxKakumaCamp          en   \n",
              "2268  Suzanne Barakat  1972477   TEDWomen 2016          en   \n",
              "\n",
              "                                         available_lang  duration  \\\n",
              "2920  ['ar', 'cs', 'de', 'en', 'es', 'fa', 'fr', 'hu...       478   \n",
              "2268  ['ar', 'de', 'el', 'en', 'es', 'eu', 'fa', 'fr...       888   \n",
              "\n",
              "                                                 topics  \\\n",
              "2920  ['global issues', 'fashion', 'refugees', 'TEDx...   \n",
              "2268  ['activism', 'family', 'community', 'death', '...   \n",
              "\n",
              "                                          related_talks  ...  \\\n",
              "2920  {2110: \"Let's help refugees thrive, not just s...  ...   \n",
              "2268  {2262: 'What does my headscarf mean to you?', ...  ...   \n",
              "\n",
              "             occupations comments No_of_days_to_release published_date_year  \\\n",
              "2920      {0: ['model']}       12                    82                2018   \n",
              "2268  {0: ['physician']}      146                    10                2016   \n",
              "\n",
              "     published_date_month  published_date_month_num  published_date_day  \\\n",
              "2920               August                         8                  30   \n",
              "2268             November                        11                   7   \n",
              "\n",
              "      published_date_day_name published_date_day_num  occupation  \n",
              "2920                 Thursday                      3       model  \n",
              "2268                   Monday                      0   physician  \n",
              "\n",
              "[2 rows x 24 columns]"
            ],
            "text/html": [
              "\n",
              "  <div id=\"df-6be71d07-0dd0-4915-bf8d-f5a5f7fb550a\">\n",
              "    <div class=\"colab-df-container\">\n",
              "      <div>\n",
              "<style scoped>\n",
              "    .dataframe tbody tr th:only-of-type {\n",
              "        vertical-align: middle;\n",
              "    }\n",
              "\n",
              "    .dataframe tbody tr th {\n",
              "        vertical-align: top;\n",
              "    }\n",
              "\n",
              "    .dataframe thead th {\n",
              "        text-align: right;\n",
              "    }\n",
              "</style>\n",
              "<table border=\"1\" class=\"dataframe\">\n",
              "  <thead>\n",
              "    <tr style=\"text-align: right;\">\n",
              "      <th></th>\n",
              "      <th>talk_id</th>\n",
              "      <th>title</th>\n",
              "      <th>speaker_1</th>\n",
              "      <th>views</th>\n",
              "      <th>event</th>\n",
              "      <th>native_lang</th>\n",
              "      <th>available_lang</th>\n",
              "      <th>duration</th>\n",
              "      <th>topics</th>\n",
              "      <th>related_talks</th>\n",
              "      <th>...</th>\n",
              "      <th>occupations</th>\n",
              "      <th>comments</th>\n",
              "      <th>No_of_days_to_release</th>\n",
              "      <th>published_date_year</th>\n",
              "      <th>published_date_month</th>\n",
              "      <th>published_date_month_num</th>\n",
              "      <th>published_date_day</th>\n",
              "      <th>published_date_day_name</th>\n",
              "      <th>published_date_day_num</th>\n",
              "      <th>occupation</th>\n",
              "    </tr>\n",
              "  </thead>\n",
              "  <tbody>\n",
              "    <tr>\n",
              "      <th>2920</th>\n",
              "      <td>21039</td>\n",
              "      <td>How I went from child refugee to international...</td>\n",
              "      <td>Halima Aden</td>\n",
              "      <td>1517851</td>\n",
              "      <td>TEDxKakumaCamp</td>\n",
              "      <td>en</td>\n",
              "      <td>['ar', 'cs', 'de', 'en', 'es', 'fa', 'fr', 'hu...</td>\n",
              "      <td>478</td>\n",
              "      <td>['global issues', 'fashion', 'refugees', 'TEDx...</td>\n",
              "      <td>{2110: \"Let's help refugees thrive, not just s...</td>\n",
              "      <td>...</td>\n",
              "      <td>{0: ['model']}</td>\n",
              "      <td>12</td>\n",
              "      <td>82</td>\n",
              "      <td>2018</td>\n",
              "      <td>August</td>\n",
              "      <td>8</td>\n",
              "      <td>30</td>\n",
              "      <td>Thursday</td>\n",
              "      <td>3</td>\n",
              "      <td>model</td>\n",
              "    </tr>\n",
              "    <tr>\n",
              "      <th>2268</th>\n",
              "      <td>2622</td>\n",
              "      <td>Islamophobia killed my brother. Let's end the ...</td>\n",
              "      <td>Suzanne Barakat</td>\n",
              "      <td>1972477</td>\n",
              "      <td>TEDWomen 2016</td>\n",
              "      <td>en</td>\n",
              "      <td>['ar', 'de', 'el', 'en', 'es', 'eu', 'fa', 'fr...</td>\n",
              "      <td>888</td>\n",
              "      <td>['activism', 'family', 'community', 'death', '...</td>\n",
              "      <td>{2262: 'What does my headscarf mean to you?', ...</td>\n",
              "      <td>...</td>\n",
              "      <td>{0: ['physician']}</td>\n",
              "      <td>146</td>\n",
              "      <td>10</td>\n",
              "      <td>2016</td>\n",
              "      <td>November</td>\n",
              "      <td>11</td>\n",
              "      <td>7</td>\n",
              "      <td>Monday</td>\n",
              "      <td>0</td>\n",
              "      <td>physician</td>\n",
              "    </tr>\n",
              "  </tbody>\n",
              "</table>\n",
              "<p>2 rows × 24 columns</p>\n",
              "</div>\n",
              "      <button class=\"colab-df-convert\" onclick=\"convertToInteractive('df-6be71d07-0dd0-4915-bf8d-f5a5f7fb550a')\"\n",
              "              title=\"Convert this dataframe to an interactive table.\"\n",
              "              style=\"display:none;\">\n",
              "        \n",
              "  <svg xmlns=\"http://www.w3.org/2000/svg\" height=\"24px\"viewBox=\"0 0 24 24\"\n",
              "       width=\"24px\">\n",
              "    <path d=\"M0 0h24v24H0V0z\" fill=\"none\"/>\n",
              "    <path d=\"M18.56 5.44l.94 2.06.94-2.06 2.06-.94-2.06-.94-.94-2.06-.94 2.06-2.06.94zm-11 1L8.5 8.5l.94-2.06 2.06-.94-2.06-.94L8.5 2.5l-.94 2.06-2.06.94zm10 10l.94 2.06.94-2.06 2.06-.94-2.06-.94-.94-2.06-.94 2.06-2.06.94z\"/><path d=\"M17.41 7.96l-1.37-1.37c-.4-.4-.92-.59-1.43-.59-.52 0-1.04.2-1.43.59L10.3 9.45l-7.72 7.72c-.78.78-.78 2.05 0 2.83L4 21.41c.39.39.9.59 1.41.59.51 0 1.02-.2 1.41-.59l7.78-7.78 2.81-2.81c.8-.78.8-2.07 0-2.86zM5.41 20L4 18.59l7.72-7.72 1.47 1.35L5.41 20z\"/>\n",
              "  </svg>\n",
              "      </button>\n",
              "      \n",
              "  <style>\n",
              "    .colab-df-container {\n",
              "      display:flex;\n",
              "      flex-wrap:wrap;\n",
              "      gap: 12px;\n",
              "    }\n",
              "\n",
              "    .colab-df-convert {\n",
              "      background-color: #E8F0FE;\n",
              "      border: none;\n",
              "      border-radius: 50%;\n",
              "      cursor: pointer;\n",
              "      display: none;\n",
              "      fill: #1967D2;\n",
              "      height: 32px;\n",
              "      padding: 0 0 0 0;\n",
              "      width: 32px;\n",
              "    }\n",
              "\n",
              "    .colab-df-convert:hover {\n",
              "      background-color: #E2EBFA;\n",
              "      box-shadow: 0px 1px 2px rgba(60, 64, 67, 0.3), 0px 1px 3px 1px rgba(60, 64, 67, 0.15);\n",
              "      fill: #174EA6;\n",
              "    }\n",
              "\n",
              "    [theme=dark] .colab-df-convert {\n",
              "      background-color: #3B4455;\n",
              "      fill: #D2E3FC;\n",
              "    }\n",
              "\n",
              "    [theme=dark] .colab-df-convert:hover {\n",
              "      background-color: #434B5C;\n",
              "      box-shadow: 0px 1px 3px 1px rgba(0, 0, 0, 0.15);\n",
              "      filter: drop-shadow(0px 1px 2px rgba(0, 0, 0, 0.3));\n",
              "      fill: #FFFFFF;\n",
              "    }\n",
              "  </style>\n",
              "\n",
              "      <script>\n",
              "        const buttonEl =\n",
              "          document.querySelector('#df-6be71d07-0dd0-4915-bf8d-f5a5f7fb550a button.colab-df-convert');\n",
              "        buttonEl.style.display =\n",
              "          google.colab.kernel.accessAllowed ? 'block' : 'none';\n",
              "\n",
              "        async function convertToInteractive(key) {\n",
              "          const element = document.querySelector('#df-6be71d07-0dd0-4915-bf8d-f5a5f7fb550a');\n",
              "          const dataTable =\n",
              "            await google.colab.kernel.invokeFunction('convertToInteractive',\n",
              "                                                     [key], {});\n",
              "          if (!dataTable) return;\n",
              "\n",
              "          const docLinkHtml = 'Like what you see? Visit the ' +\n",
              "            '<a target=\"_blank\" href=https://colab.research.google.com/notebooks/data_table.ipynb>data table notebook</a>'\n",
              "            + ' to learn more about interactive tables.';\n",
              "          element.innerHTML = '';\n",
              "          dataTable['output_type'] = 'display_data';\n",
              "          await google.colab.output.renderOutput(dataTable, element);\n",
              "          const docLink = document.createElement('div');\n",
              "          docLink.innerHTML = docLinkHtml;\n",
              "          element.appendChild(docLink);\n",
              "        }\n",
              "      </script>\n",
              "    </div>\n",
              "  </div>\n",
              "  "
            ]
          },
          "metadata": {},
          "execution_count": 31
        }
      ]
    },
    {
      "cell_type": "code",
      "source": [
        "# Dropping the old occupations column.\n",
        "\n",
        "Ted_non_null_df.drop(columns = ['occupations'], inplace = True)\n"
      ],
      "metadata": {
        "id": "Xf9YmbfdTAUu"
      },
      "execution_count": null,
      "outputs": []
    },
    {
      "cell_type": "markdown",
      "source": [
        "---\n",
        "## Applying Mean Encoding to the columns having high cardinality\n",
        "---"
      ],
      "metadata": {
        "id": "TcKRk4ZraFPY"
      }
    },
    {
      "cell_type": "code",
      "source": [
        "# Finding the number of unique types of values present in the following columns.\n",
        "\n",
        "print(f'The no of Unique columns in speaker_1 column:',Ted_non_null_df['speaker_1'].nunique())\n",
        "print(f'The no of Unique columns in event column:',Ted_non_null_df['event'].nunique())\n",
        "print(f'The no of Unique columns in occupation column:',Ted_non_null_df['occupation'].nunique())\n"
      ],
      "metadata": {
        "colab": {
          "base_uri": "https://localhost:8080/"
        },
        "id": "v4TXnj0eTASB",
        "outputId": "6f1ccf1b-5e6d-4ca7-ab1a-6bd8e0e948c3"
      },
      "execution_count": null,
      "outputs": [
        {
          "output_type": "stream",
          "name": "stdout",
          "text": [
            "The no of Unique columns in speaker_1 column: 3273\n",
            "The no of Unique columns in event column: 458\n",
            "The no of Unique columns in occupation column: 1552\n"
          ]
        }
      ]
    },
    {
      "cell_type": "markdown",
      "source": [
        "* Clearly these columns have high cardinality"
      ],
      "metadata": {
        "id": "71j8HFLaaKWn"
      }
    },
    {
      "cell_type": "code",
      "source": [
        "# Applying Mean Encoding \n",
        "\n",
        "col_for_me = ['speaker_1', 'event', 'occupation']\n",
        "\n",
        "for co in col_for_me:\n",
        "    mean_encoding = Ted_non_null_df.groupby(co)['views'].mean().to_dict()\n",
        "    Ted_non_null_df[co + '_avg_views']=Ted_non_null_df[co].map(mean_encoding)\n",
        "   "
      ],
      "metadata": {
        "id": "mCTsFApsTAPm"
      },
      "execution_count": null,
      "outputs": []
    },
    {
      "cell_type": "code",
      "source": [
        "Ted_non_null_df.sample(2)"
      ],
      "metadata": {
        "colab": {
          "base_uri": "https://localhost:8080/",
          "height": 327
        },
        "id": "wgX1JYdOaOkV",
        "outputId": "5b6f190d-179a-4abb-d71a-18f4f0f6df71"
      },
      "execution_count": null,
      "outputs": [
        {
          "output_type": "execute_result",
          "data": {
            "text/plain": [
              "      talk_id                                              title  \\\n",
              "2533     2891  How Africa can use its traditional knowledge t...   \n",
              "2           7                                   Simplicity sells   \n",
              "\n",
              "                 speaker_1    views           event native_lang  \\\n",
              "2533  Chika Ezeanya-Esiobu  1250828  TEDGlobal 2017          en   \n",
              "2              David Pogue  1920832         TED2006          en   \n",
              "\n",
              "                                         available_lang  duration  \\\n",
              "2533  ['ar', 'de', 'en', 'es', 'fa', 'fr', 'hu', 'ja...       849   \n",
              "2     ['ar', 'bg', 'de', 'el', 'en', 'es', 'fa', 'fr...      1286   \n",
              "\n",
              "                                                 topics  \\\n",
              "2533  ['agriculture', 'Africa', 'creativity', 'cultu...   \n",
              "2     ['computers', 'entertainment', 'interface desi...   \n",
              "\n",
              "                                          related_talks  ...  \\\n",
              "2533  {2881: 'Why Africa must become a center of kno...  ...   \n",
              "2     {1725: '10 top time-saving tech tips', 2274: '...  ...   \n",
              "\n",
              "     published_date_year published_date_month published_date_month_num  \\\n",
              "2533                2017              October                       10   \n",
              "2                   2006                 June                        6   \n",
              "\n",
              "     published_date_day  published_date_day_name  published_date_day_num  \\\n",
              "2533                  9                   Monday                       0   \n",
              "2                    27                  Tuesday                       1   \n",
              "\n",
              "                       occupation speaker_1_avg_views  event_avg_views  \\\n",
              "2533  indigenous knowledge expert          1250828.00     1.116784e+06   \n",
              "2            technology columnist          2156189.75     3.876291e+06   \n",
              "\n",
              "      occupation_avg_views  \n",
              "2533            1250828.00  \n",
              "2               2156189.75  \n",
              "\n",
              "[2 rows x 26 columns]"
            ],
            "text/html": [
              "\n",
              "  <div id=\"df-bb5524c6-acf1-497a-b0e4-d37839981d90\">\n",
              "    <div class=\"colab-df-container\">\n",
              "      <div>\n",
              "<style scoped>\n",
              "    .dataframe tbody tr th:only-of-type {\n",
              "        vertical-align: middle;\n",
              "    }\n",
              "\n",
              "    .dataframe tbody tr th {\n",
              "        vertical-align: top;\n",
              "    }\n",
              "\n",
              "    .dataframe thead th {\n",
              "        text-align: right;\n",
              "    }\n",
              "</style>\n",
              "<table border=\"1\" class=\"dataframe\">\n",
              "  <thead>\n",
              "    <tr style=\"text-align: right;\">\n",
              "      <th></th>\n",
              "      <th>talk_id</th>\n",
              "      <th>title</th>\n",
              "      <th>speaker_1</th>\n",
              "      <th>views</th>\n",
              "      <th>event</th>\n",
              "      <th>native_lang</th>\n",
              "      <th>available_lang</th>\n",
              "      <th>duration</th>\n",
              "      <th>topics</th>\n",
              "      <th>related_talks</th>\n",
              "      <th>...</th>\n",
              "      <th>published_date_year</th>\n",
              "      <th>published_date_month</th>\n",
              "      <th>published_date_month_num</th>\n",
              "      <th>published_date_day</th>\n",
              "      <th>published_date_day_name</th>\n",
              "      <th>published_date_day_num</th>\n",
              "      <th>occupation</th>\n",
              "      <th>speaker_1_avg_views</th>\n",
              "      <th>event_avg_views</th>\n",
              "      <th>occupation_avg_views</th>\n",
              "    </tr>\n",
              "  </thead>\n",
              "  <tbody>\n",
              "    <tr>\n",
              "      <th>2533</th>\n",
              "      <td>2891</td>\n",
              "      <td>How Africa can use its traditional knowledge t...</td>\n",
              "      <td>Chika Ezeanya-Esiobu</td>\n",
              "      <td>1250828</td>\n",
              "      <td>TEDGlobal 2017</td>\n",
              "      <td>en</td>\n",
              "      <td>['ar', 'de', 'en', 'es', 'fa', 'fr', 'hu', 'ja...</td>\n",
              "      <td>849</td>\n",
              "      <td>['agriculture', 'Africa', 'creativity', 'cultu...</td>\n",
              "      <td>{2881: 'Why Africa must become a center of kno...</td>\n",
              "      <td>...</td>\n",
              "      <td>2017</td>\n",
              "      <td>October</td>\n",
              "      <td>10</td>\n",
              "      <td>9</td>\n",
              "      <td>Monday</td>\n",
              "      <td>0</td>\n",
              "      <td>indigenous knowledge expert</td>\n",
              "      <td>1250828.00</td>\n",
              "      <td>1.116784e+06</td>\n",
              "      <td>1250828.00</td>\n",
              "    </tr>\n",
              "    <tr>\n",
              "      <th>2</th>\n",
              "      <td>7</td>\n",
              "      <td>Simplicity sells</td>\n",
              "      <td>David Pogue</td>\n",
              "      <td>1920832</td>\n",
              "      <td>TED2006</td>\n",
              "      <td>en</td>\n",
              "      <td>['ar', 'bg', 'de', 'el', 'en', 'es', 'fa', 'fr...</td>\n",
              "      <td>1286</td>\n",
              "      <td>['computers', 'entertainment', 'interface desi...</td>\n",
              "      <td>{1725: '10 top time-saving tech tips', 2274: '...</td>\n",
              "      <td>...</td>\n",
              "      <td>2006</td>\n",
              "      <td>June</td>\n",
              "      <td>6</td>\n",
              "      <td>27</td>\n",
              "      <td>Tuesday</td>\n",
              "      <td>1</td>\n",
              "      <td>technology columnist</td>\n",
              "      <td>2156189.75</td>\n",
              "      <td>3.876291e+06</td>\n",
              "      <td>2156189.75</td>\n",
              "    </tr>\n",
              "  </tbody>\n",
              "</table>\n",
              "<p>2 rows × 26 columns</p>\n",
              "</div>\n",
              "      <button class=\"colab-df-convert\" onclick=\"convertToInteractive('df-bb5524c6-acf1-497a-b0e4-d37839981d90')\"\n",
              "              title=\"Convert this dataframe to an interactive table.\"\n",
              "              style=\"display:none;\">\n",
              "        \n",
              "  <svg xmlns=\"http://www.w3.org/2000/svg\" height=\"24px\"viewBox=\"0 0 24 24\"\n",
              "       width=\"24px\">\n",
              "    <path d=\"M0 0h24v24H0V0z\" fill=\"none\"/>\n",
              "    <path d=\"M18.56 5.44l.94 2.06.94-2.06 2.06-.94-2.06-.94-.94-2.06-.94 2.06-2.06.94zm-11 1L8.5 8.5l.94-2.06 2.06-.94-2.06-.94L8.5 2.5l-.94 2.06-2.06.94zm10 10l.94 2.06.94-2.06 2.06-.94-2.06-.94-.94-2.06-.94 2.06-2.06.94z\"/><path d=\"M17.41 7.96l-1.37-1.37c-.4-.4-.92-.59-1.43-.59-.52 0-1.04.2-1.43.59L10.3 9.45l-7.72 7.72c-.78.78-.78 2.05 0 2.83L4 21.41c.39.39.9.59 1.41.59.51 0 1.02-.2 1.41-.59l7.78-7.78 2.81-2.81c.8-.78.8-2.07 0-2.86zM5.41 20L4 18.59l7.72-7.72 1.47 1.35L5.41 20z\"/>\n",
              "  </svg>\n",
              "      </button>\n",
              "      \n",
              "  <style>\n",
              "    .colab-df-container {\n",
              "      display:flex;\n",
              "      flex-wrap:wrap;\n",
              "      gap: 12px;\n",
              "    }\n",
              "\n",
              "    .colab-df-convert {\n",
              "      background-color: #E8F0FE;\n",
              "      border: none;\n",
              "      border-radius: 50%;\n",
              "      cursor: pointer;\n",
              "      display: none;\n",
              "      fill: #1967D2;\n",
              "      height: 32px;\n",
              "      padding: 0 0 0 0;\n",
              "      width: 32px;\n",
              "    }\n",
              "\n",
              "    .colab-df-convert:hover {\n",
              "      background-color: #E2EBFA;\n",
              "      box-shadow: 0px 1px 2px rgba(60, 64, 67, 0.3), 0px 1px 3px 1px rgba(60, 64, 67, 0.15);\n",
              "      fill: #174EA6;\n",
              "    }\n",
              "\n",
              "    [theme=dark] .colab-df-convert {\n",
              "      background-color: #3B4455;\n",
              "      fill: #D2E3FC;\n",
              "    }\n",
              "\n",
              "    [theme=dark] .colab-df-convert:hover {\n",
              "      background-color: #434B5C;\n",
              "      box-shadow: 0px 1px 3px 1px rgba(0, 0, 0, 0.15);\n",
              "      filter: drop-shadow(0px 1px 2px rgba(0, 0, 0, 0.3));\n",
              "      fill: #FFFFFF;\n",
              "    }\n",
              "  </style>\n",
              "\n",
              "      <script>\n",
              "        const buttonEl =\n",
              "          document.querySelector('#df-bb5524c6-acf1-497a-b0e4-d37839981d90 button.colab-df-convert');\n",
              "        buttonEl.style.display =\n",
              "          google.colab.kernel.accessAllowed ? 'block' : 'none';\n",
              "\n",
              "        async function convertToInteractive(key) {\n",
              "          const element = document.querySelector('#df-bb5524c6-acf1-497a-b0e4-d37839981d90');\n",
              "          const dataTable =\n",
              "            await google.colab.kernel.invokeFunction('convertToInteractive',\n",
              "                                                     [key], {});\n",
              "          if (!dataTable) return;\n",
              "\n",
              "          const docLinkHtml = 'Like what you see? Visit the ' +\n",
              "            '<a target=\"_blank\" href=https://colab.research.google.com/notebooks/data_table.ipynb>data table notebook</a>'\n",
              "            + ' to learn more about interactive tables.';\n",
              "          element.innerHTML = '';\n",
              "          dataTable['output_type'] = 'display_data';\n",
              "          await google.colab.output.renderOutput(dataTable, element);\n",
              "          const docLink = document.createElement('div');\n",
              "          docLink.innerHTML = docLinkHtml;\n",
              "          element.appendChild(docLink);\n",
              "        }\n",
              "      </script>\n",
              "    </div>\n",
              "  </div>\n",
              "  "
            ]
          },
          "metadata": {},
          "execution_count": 35
        }
      ]
    },
    {
      "cell_type": "code",
      "source": [
        "# Dropping the old columns.\n",
        "\n",
        "Ted_non_null_df.drop(columns = ['speaker_1', 'event', 'occupation'], inplace = True)\n"
      ],
      "metadata": {
        "id": "K8BvnihSaQ2f"
      },
      "execution_count": null,
      "outputs": []
    },
    {
      "cell_type": "markdown",
      "source": [
        "---\n",
        "## Exploring 'available_lang' column\n",
        "---"
      ],
      "metadata": {
        "id": "xZ9eT-NtaUQh"
      }
    },
    {
      "cell_type": "code",
      "source": [
        "# Finding the length of the each observation of 'available_lang' column.\n",
        "\n",
        "Ted_non_null_df['available_lang'] = Ted_non_null_df.apply(lambda row: eval(row['available_lang']), axis=1)\n",
        "Ted_non_null_df['num_of_available_lang'] = Ted_non_null_df.apply(lambda x: len(x['available_lang']), axis=1)\n"
      ],
      "metadata": {
        "id": "I5hx0fYUaSlY"
      },
      "execution_count": null,
      "outputs": []
    },
    {
      "cell_type": "code",
      "source": [
        "Ted_non_null_df.sample(2)"
      ],
      "metadata": {
        "colab": {
          "base_uri": "https://localhost:8080/",
          "height": 327
        },
        "id": "qtM1h2e0TANT",
        "outputId": "4689ea22-4b28-4b12-91b2-e64ee6fe58de"
      },
      "execution_count": null,
      "outputs": [
        {
          "output_type": "execute_result",
          "data": {
            "text/plain": [
              "      talk_id                                              title    views  \\\n",
              "3872    52270  How online marketplaces can help local economi...  1274651   \n",
              "1354     1638  What we learned from teetering on the fiscal c...   813058   \n",
              "\n",
              "     native_lang                                     available_lang  duration  \\\n",
              "3872          en  [ar, en, ja, ko, nl, pt, pt-br, ro, tr, uk, zh...       747   \n",
              "1354          en  [ar, bg, de, el, en, es, fr, he, hu, it, ja, k...      1188   \n",
              "\n",
              "                                                 topics  \\\n",
              "3872  ['global development', 'business', 'work', 'ec...   \n",
              "1354         ['economics', 'global issues', 'politics']   \n",
              "\n",
              "                                          related_talks  \\\n",
              "3872  {48545: 'The dirty secret of capitalism -- and...   \n",
              "1354  {525: 'How ideas trump crises', 1119: 'The ant...   \n",
              "\n",
              "                                                    url  \\\n",
              "3872  https://www.ted.com/talks/amane_dannouni_how_o...   \n",
              "1354  https://www.ted.com/talks/adam_davidson_what_w...   \n",
              "\n",
              "                                            description  ...  \\\n",
              "3872  The growth of online marketplaces like Uber, A...  ...   \n",
              "1354  At the end of 2012, the US political system wa...  ...   \n",
              "\n",
              "     published_date_year published_date_month  published_date_month_num  \\\n",
              "3872                2020             February                         2   \n",
              "1354                2012             December                        12   \n",
              "\n",
              "      published_date_day  published_date_day_name published_date_day_num  \\\n",
              "3872                  11                  Tuesday                      1   \n",
              "1354                  20                 Thursday                      3   \n",
              "\n",
              "      speaker_1_avg_views  event_avg_views occupation_avg_views  \\\n",
              "3872            1274651.0        1232052.8         1.274651e+06   \n",
              "1354             813058.0        1079231.0         2.261175e+06   \n",
              "\n",
              "      num_of_available_lang  \n",
              "3872                     12  \n",
              "1354                     20  \n",
              "\n",
              "[2 rows x 24 columns]"
            ],
            "text/html": [
              "\n",
              "  <div id=\"df-d5a48bc5-4413-49b7-b98b-a70f810b6b29\">\n",
              "    <div class=\"colab-df-container\">\n",
              "      <div>\n",
              "<style scoped>\n",
              "    .dataframe tbody tr th:only-of-type {\n",
              "        vertical-align: middle;\n",
              "    }\n",
              "\n",
              "    .dataframe tbody tr th {\n",
              "        vertical-align: top;\n",
              "    }\n",
              "\n",
              "    .dataframe thead th {\n",
              "        text-align: right;\n",
              "    }\n",
              "</style>\n",
              "<table border=\"1\" class=\"dataframe\">\n",
              "  <thead>\n",
              "    <tr style=\"text-align: right;\">\n",
              "      <th></th>\n",
              "      <th>talk_id</th>\n",
              "      <th>title</th>\n",
              "      <th>views</th>\n",
              "      <th>native_lang</th>\n",
              "      <th>available_lang</th>\n",
              "      <th>duration</th>\n",
              "      <th>topics</th>\n",
              "      <th>related_talks</th>\n",
              "      <th>url</th>\n",
              "      <th>description</th>\n",
              "      <th>...</th>\n",
              "      <th>published_date_year</th>\n",
              "      <th>published_date_month</th>\n",
              "      <th>published_date_month_num</th>\n",
              "      <th>published_date_day</th>\n",
              "      <th>published_date_day_name</th>\n",
              "      <th>published_date_day_num</th>\n",
              "      <th>speaker_1_avg_views</th>\n",
              "      <th>event_avg_views</th>\n",
              "      <th>occupation_avg_views</th>\n",
              "      <th>num_of_available_lang</th>\n",
              "    </tr>\n",
              "  </thead>\n",
              "  <tbody>\n",
              "    <tr>\n",
              "      <th>3872</th>\n",
              "      <td>52270</td>\n",
              "      <td>How online marketplaces can help local economi...</td>\n",
              "      <td>1274651</td>\n",
              "      <td>en</td>\n",
              "      <td>[ar, en, ja, ko, nl, pt, pt-br, ro, tr, uk, zh...</td>\n",
              "      <td>747</td>\n",
              "      <td>['global development', 'business', 'work', 'ec...</td>\n",
              "      <td>{48545: 'The dirty secret of capitalism -- and...</td>\n",
              "      <td>https://www.ted.com/talks/amane_dannouni_how_o...</td>\n",
              "      <td>The growth of online marketplaces like Uber, A...</td>\n",
              "      <td>...</td>\n",
              "      <td>2020</td>\n",
              "      <td>February</td>\n",
              "      <td>2</td>\n",
              "      <td>11</td>\n",
              "      <td>Tuesday</td>\n",
              "      <td>1</td>\n",
              "      <td>1274651.0</td>\n",
              "      <td>1232052.8</td>\n",
              "      <td>1.274651e+06</td>\n",
              "      <td>12</td>\n",
              "    </tr>\n",
              "    <tr>\n",
              "      <th>1354</th>\n",
              "      <td>1638</td>\n",
              "      <td>What we learned from teetering on the fiscal c...</td>\n",
              "      <td>813058</td>\n",
              "      <td>en</td>\n",
              "      <td>[ar, bg, de, el, en, es, fr, he, hu, it, ja, k...</td>\n",
              "      <td>1188</td>\n",
              "      <td>['economics', 'global issues', 'politics']</td>\n",
              "      <td>{525: 'How ideas trump crises', 1119: 'The ant...</td>\n",
              "      <td>https://www.ted.com/talks/adam_davidson_what_w...</td>\n",
              "      <td>At the end of 2012, the US political system wa...</td>\n",
              "      <td>...</td>\n",
              "      <td>2012</td>\n",
              "      <td>December</td>\n",
              "      <td>12</td>\n",
              "      <td>20</td>\n",
              "      <td>Thursday</td>\n",
              "      <td>3</td>\n",
              "      <td>813058.0</td>\n",
              "      <td>1079231.0</td>\n",
              "      <td>2.261175e+06</td>\n",
              "      <td>20</td>\n",
              "    </tr>\n",
              "  </tbody>\n",
              "</table>\n",
              "<p>2 rows × 24 columns</p>\n",
              "</div>\n",
              "      <button class=\"colab-df-convert\" onclick=\"convertToInteractive('df-d5a48bc5-4413-49b7-b98b-a70f810b6b29')\"\n",
              "              title=\"Convert this dataframe to an interactive table.\"\n",
              "              style=\"display:none;\">\n",
              "        \n",
              "  <svg xmlns=\"http://www.w3.org/2000/svg\" height=\"24px\"viewBox=\"0 0 24 24\"\n",
              "       width=\"24px\">\n",
              "    <path d=\"M0 0h24v24H0V0z\" fill=\"none\"/>\n",
              "    <path d=\"M18.56 5.44l.94 2.06.94-2.06 2.06-.94-2.06-.94-.94-2.06-.94 2.06-2.06.94zm-11 1L8.5 8.5l.94-2.06 2.06-.94-2.06-.94L8.5 2.5l-.94 2.06-2.06.94zm10 10l.94 2.06.94-2.06 2.06-.94-2.06-.94-.94-2.06-.94 2.06-2.06.94z\"/><path d=\"M17.41 7.96l-1.37-1.37c-.4-.4-.92-.59-1.43-.59-.52 0-1.04.2-1.43.59L10.3 9.45l-7.72 7.72c-.78.78-.78 2.05 0 2.83L4 21.41c.39.39.9.59 1.41.59.51 0 1.02-.2 1.41-.59l7.78-7.78 2.81-2.81c.8-.78.8-2.07 0-2.86zM5.41 20L4 18.59l7.72-7.72 1.47 1.35L5.41 20z\"/>\n",
              "  </svg>\n",
              "      </button>\n",
              "      \n",
              "  <style>\n",
              "    .colab-df-container {\n",
              "      display:flex;\n",
              "      flex-wrap:wrap;\n",
              "      gap: 12px;\n",
              "    }\n",
              "\n",
              "    .colab-df-convert {\n",
              "      background-color: #E8F0FE;\n",
              "      border: none;\n",
              "      border-radius: 50%;\n",
              "      cursor: pointer;\n",
              "      display: none;\n",
              "      fill: #1967D2;\n",
              "      height: 32px;\n",
              "      padding: 0 0 0 0;\n",
              "      width: 32px;\n",
              "    }\n",
              "\n",
              "    .colab-df-convert:hover {\n",
              "      background-color: #E2EBFA;\n",
              "      box-shadow: 0px 1px 2px rgba(60, 64, 67, 0.3), 0px 1px 3px 1px rgba(60, 64, 67, 0.15);\n",
              "      fill: #174EA6;\n",
              "    }\n",
              "\n",
              "    [theme=dark] .colab-df-convert {\n",
              "      background-color: #3B4455;\n",
              "      fill: #D2E3FC;\n",
              "    }\n",
              "\n",
              "    [theme=dark] .colab-df-convert:hover {\n",
              "      background-color: #434B5C;\n",
              "      box-shadow: 0px 1px 3px 1px rgba(0, 0, 0, 0.15);\n",
              "      filter: drop-shadow(0px 1px 2px rgba(0, 0, 0, 0.3));\n",
              "      fill: #FFFFFF;\n",
              "    }\n",
              "  </style>\n",
              "\n",
              "      <script>\n",
              "        const buttonEl =\n",
              "          document.querySelector('#df-d5a48bc5-4413-49b7-b98b-a70f810b6b29 button.colab-df-convert');\n",
              "        buttonEl.style.display =\n",
              "          google.colab.kernel.accessAllowed ? 'block' : 'none';\n",
              "\n",
              "        async function convertToInteractive(key) {\n",
              "          const element = document.querySelector('#df-d5a48bc5-4413-49b7-b98b-a70f810b6b29');\n",
              "          const dataTable =\n",
              "            await google.colab.kernel.invokeFunction('convertToInteractive',\n",
              "                                                     [key], {});\n",
              "          if (!dataTable) return;\n",
              "\n",
              "          const docLinkHtml = 'Like what you see? Visit the ' +\n",
              "            '<a target=\"_blank\" href=https://colab.research.google.com/notebooks/data_table.ipynb>data table notebook</a>'\n",
              "            + ' to learn more about interactive tables.';\n",
              "          element.innerHTML = '';\n",
              "          dataTable['output_type'] = 'display_data';\n",
              "          await google.colab.output.renderOutput(dataTable, element);\n",
              "          const docLink = document.createElement('div');\n",
              "          docLink.innerHTML = docLinkHtml;\n",
              "          element.appendChild(docLink);\n",
              "        }\n",
              "      </script>\n",
              "    </div>\n",
              "  </div>\n",
              "  "
            ]
          },
          "metadata": {},
          "execution_count": 38
        }
      ]
    },
    {
      "cell_type": "code",
      "source": [
        "# Dropping the old column\n",
        "\n",
        "Ted_non_null_df.drop(columns = ['available_lang'], inplace = True)\n"
      ],
      "metadata": {
        "id": "SnsksDmITAKu"
      },
      "execution_count": null,
      "outputs": []
    },
    {
      "cell_type": "markdown",
      "source": [
        "---\n",
        "## Exploring 'topics' column\n",
        "---"
      ],
      "metadata": {
        "id": "ofLC0XICaeOC"
      }
    },
    {
      "cell_type": "code",
      "source": [
        "# Finding the length of the no of topics in each observation of 'topics' column.\n",
        "\n",
        "Ted_non_null_df['topics'] = Ted_non_null_df.apply(lambda row: eval(row['topics']), axis=1) \n",
        "Ted_non_null_df['num_of_topics'] = Ted_non_null_df.apply(lambda x: len(x['topics']), axis=1)\n"
      ],
      "metadata": {
        "id": "R-4Y6D6uaix5"
      },
      "execution_count": null,
      "outputs": []
    },
    {
      "cell_type": "code",
      "source": [
        "Ted_non_null_df.sample(2)"
      ],
      "metadata": {
        "colab": {
          "base_uri": "https://localhost:8080/",
          "height": 362
        },
        "id": "UkhG2R0valTR",
        "outputId": "5c333030-94af-4618-a89a-56dd47e517c6"
      },
      "execution_count": null,
      "outputs": [
        {
          "output_type": "execute_result",
          "data": {
            "text/plain": [
              "      talk_id                             title    views native_lang  \\\n",
              "1432     1718  Txtng is killing language. JK!!!  2873417          en   \n",
              "365       437                      Genomics 101   456698          en   \n",
              "\n",
              "      duration                                             topics  \\\n",
              "1432       828         [culture, language, sociology, technology]   \n",
              "365       1286  [biology, entrepreneur, food, genetics, scienc...   \n",
              "\n",
              "                                          related_talks  \\\n",
              "1432  {161: 'The joy of lexicography', 164: 'What ou...   \n",
              "365   {227: 'On the verge of creating synthetic life...   \n",
              "\n",
              "                                                    url  \\\n",
              "1432  https://www.ted.com/talks/john_mcwhorter_txtng...   \n",
              "365   https://www.ted.com/talks/barry_schuler_genomi...   \n",
              "\n",
              "                                            description  \\\n",
              "1432  Does texting mean the death of good writing sk...   \n",
              "365   What is genomics? How will it affect our lives...   \n",
              "\n",
              "                                             transcript  ...  \\\n",
              "1432  We always hear that texting is a scourge. The ...  ...   \n",
              "365   What's happening in genomics, and how this rev...  ...   \n",
              "\n",
              "     published_date_month  published_date_month_num  published_date_day  \\\n",
              "1432                April                         4                  22   \n",
              "365               January                         1                  22   \n",
              "\n",
              "      published_date_day_name published_date_day_num  speaker_1_avg_views  \\\n",
              "1432                   Monday                      0           2627587.75   \n",
              "365                  Thursday                      3            456698.00   \n",
              "\n",
              "      event_avg_views occupation_avg_views  num_of_available_lang  \\\n",
              "1432     3.012900e+06            2555674.4                     32   \n",
              "365      1.242964e+06            2020640.0                     21   \n",
              "\n",
              "      num_of_topics  \n",
              "1432              4  \n",
              "365               6  \n",
              "\n",
              "[2 rows x 24 columns]"
            ],
            "text/html": [
              "\n",
              "  <div id=\"df-16bc1fba-af75-4e14-9d71-4fe8493aaff0\">\n",
              "    <div class=\"colab-df-container\">\n",
              "      <div>\n",
              "<style scoped>\n",
              "    .dataframe tbody tr th:only-of-type {\n",
              "        vertical-align: middle;\n",
              "    }\n",
              "\n",
              "    .dataframe tbody tr th {\n",
              "        vertical-align: top;\n",
              "    }\n",
              "\n",
              "    .dataframe thead th {\n",
              "        text-align: right;\n",
              "    }\n",
              "</style>\n",
              "<table border=\"1\" class=\"dataframe\">\n",
              "  <thead>\n",
              "    <tr style=\"text-align: right;\">\n",
              "      <th></th>\n",
              "      <th>talk_id</th>\n",
              "      <th>title</th>\n",
              "      <th>views</th>\n",
              "      <th>native_lang</th>\n",
              "      <th>duration</th>\n",
              "      <th>topics</th>\n",
              "      <th>related_talks</th>\n",
              "      <th>url</th>\n",
              "      <th>description</th>\n",
              "      <th>transcript</th>\n",
              "      <th>...</th>\n",
              "      <th>published_date_month</th>\n",
              "      <th>published_date_month_num</th>\n",
              "      <th>published_date_day</th>\n",
              "      <th>published_date_day_name</th>\n",
              "      <th>published_date_day_num</th>\n",
              "      <th>speaker_1_avg_views</th>\n",
              "      <th>event_avg_views</th>\n",
              "      <th>occupation_avg_views</th>\n",
              "      <th>num_of_available_lang</th>\n",
              "      <th>num_of_topics</th>\n",
              "    </tr>\n",
              "  </thead>\n",
              "  <tbody>\n",
              "    <tr>\n",
              "      <th>1432</th>\n",
              "      <td>1718</td>\n",
              "      <td>Txtng is killing language. JK!!!</td>\n",
              "      <td>2873417</td>\n",
              "      <td>en</td>\n",
              "      <td>828</td>\n",
              "      <td>[culture, language, sociology, technology]</td>\n",
              "      <td>{161: 'The joy of lexicography', 164: 'What ou...</td>\n",
              "      <td>https://www.ted.com/talks/john_mcwhorter_txtng...</td>\n",
              "      <td>Does texting mean the death of good writing sk...</td>\n",
              "      <td>We always hear that texting is a scourge. The ...</td>\n",
              "      <td>...</td>\n",
              "      <td>April</td>\n",
              "      <td>4</td>\n",
              "      <td>22</td>\n",
              "      <td>Monday</td>\n",
              "      <td>0</td>\n",
              "      <td>2627587.75</td>\n",
              "      <td>3.012900e+06</td>\n",
              "      <td>2555674.4</td>\n",
              "      <td>32</td>\n",
              "      <td>4</td>\n",
              "    </tr>\n",
              "    <tr>\n",
              "      <th>365</th>\n",
              "      <td>437</td>\n",
              "      <td>Genomics 101</td>\n",
              "      <td>456698</td>\n",
              "      <td>en</td>\n",
              "      <td>1286</td>\n",
              "      <td>[biology, entrepreneur, food, genetics, scienc...</td>\n",
              "      <td>{227: 'On the verge of creating synthetic life...</td>\n",
              "      <td>https://www.ted.com/talks/barry_schuler_genomi...</td>\n",
              "      <td>What is genomics? How will it affect our lives...</td>\n",
              "      <td>What's happening in genomics, and how this rev...</td>\n",
              "      <td>...</td>\n",
              "      <td>January</td>\n",
              "      <td>1</td>\n",
              "      <td>22</td>\n",
              "      <td>Thursday</td>\n",
              "      <td>3</td>\n",
              "      <td>456698.00</td>\n",
              "      <td>1.242964e+06</td>\n",
              "      <td>2020640.0</td>\n",
              "      <td>21</td>\n",
              "      <td>6</td>\n",
              "    </tr>\n",
              "  </tbody>\n",
              "</table>\n",
              "<p>2 rows × 24 columns</p>\n",
              "</div>\n",
              "      <button class=\"colab-df-convert\" onclick=\"convertToInteractive('df-16bc1fba-af75-4e14-9d71-4fe8493aaff0')\"\n",
              "              title=\"Convert this dataframe to an interactive table.\"\n",
              "              style=\"display:none;\">\n",
              "        \n",
              "  <svg xmlns=\"http://www.w3.org/2000/svg\" height=\"24px\"viewBox=\"0 0 24 24\"\n",
              "       width=\"24px\">\n",
              "    <path d=\"M0 0h24v24H0V0z\" fill=\"none\"/>\n",
              "    <path d=\"M18.56 5.44l.94 2.06.94-2.06 2.06-.94-2.06-.94-.94-2.06-.94 2.06-2.06.94zm-11 1L8.5 8.5l.94-2.06 2.06-.94-2.06-.94L8.5 2.5l-.94 2.06-2.06.94zm10 10l.94 2.06.94-2.06 2.06-.94-2.06-.94-.94-2.06-.94 2.06-2.06.94z\"/><path d=\"M17.41 7.96l-1.37-1.37c-.4-.4-.92-.59-1.43-.59-.52 0-1.04.2-1.43.59L10.3 9.45l-7.72 7.72c-.78.78-.78 2.05 0 2.83L4 21.41c.39.39.9.59 1.41.59.51 0 1.02-.2 1.41-.59l7.78-7.78 2.81-2.81c.8-.78.8-2.07 0-2.86zM5.41 20L4 18.59l7.72-7.72 1.47 1.35L5.41 20z\"/>\n",
              "  </svg>\n",
              "      </button>\n",
              "      \n",
              "  <style>\n",
              "    .colab-df-container {\n",
              "      display:flex;\n",
              "      flex-wrap:wrap;\n",
              "      gap: 12px;\n",
              "    }\n",
              "\n",
              "    .colab-df-convert {\n",
              "      background-color: #E8F0FE;\n",
              "      border: none;\n",
              "      border-radius: 50%;\n",
              "      cursor: pointer;\n",
              "      display: none;\n",
              "      fill: #1967D2;\n",
              "      height: 32px;\n",
              "      padding: 0 0 0 0;\n",
              "      width: 32px;\n",
              "    }\n",
              "\n",
              "    .colab-df-convert:hover {\n",
              "      background-color: #E2EBFA;\n",
              "      box-shadow: 0px 1px 2px rgba(60, 64, 67, 0.3), 0px 1px 3px 1px rgba(60, 64, 67, 0.15);\n",
              "      fill: #174EA6;\n",
              "    }\n",
              "\n",
              "    [theme=dark] .colab-df-convert {\n",
              "      background-color: #3B4455;\n",
              "      fill: #D2E3FC;\n",
              "    }\n",
              "\n",
              "    [theme=dark] .colab-df-convert:hover {\n",
              "      background-color: #434B5C;\n",
              "      box-shadow: 0px 1px 3px 1px rgba(0, 0, 0, 0.15);\n",
              "      filter: drop-shadow(0px 1px 2px rgba(0, 0, 0, 0.3));\n",
              "      fill: #FFFFFF;\n",
              "    }\n",
              "  </style>\n",
              "\n",
              "      <script>\n",
              "        const buttonEl =\n",
              "          document.querySelector('#df-16bc1fba-af75-4e14-9d71-4fe8493aaff0 button.colab-df-convert');\n",
              "        buttonEl.style.display =\n",
              "          google.colab.kernel.accessAllowed ? 'block' : 'none';\n",
              "\n",
              "        async function convertToInteractive(key) {\n",
              "          const element = document.querySelector('#df-16bc1fba-af75-4e14-9d71-4fe8493aaff0');\n",
              "          const dataTable =\n",
              "            await google.colab.kernel.invokeFunction('convertToInteractive',\n",
              "                                                     [key], {});\n",
              "          if (!dataTable) return;\n",
              "\n",
              "          const docLinkHtml = 'Like what you see? Visit the ' +\n",
              "            '<a target=\"_blank\" href=https://colab.research.google.com/notebooks/data_table.ipynb>data table notebook</a>'\n",
              "            + ' to learn more about interactive tables.';\n",
              "          element.innerHTML = '';\n",
              "          dataTable['output_type'] = 'display_data';\n",
              "          await google.colab.output.renderOutput(dataTable, element);\n",
              "          const docLink = document.createElement('div');\n",
              "          docLink.innerHTML = docLinkHtml;\n",
              "          element.appendChild(docLink);\n",
              "        }\n",
              "      </script>\n",
              "    </div>\n",
              "  </div>\n",
              "  "
            ]
          },
          "metadata": {},
          "execution_count": 41
        }
      ]
    },
    {
      "cell_type": "code",
      "source": [
        "# Dropping the old column\n",
        "\n",
        "Ted_non_null_df.drop(columns = ['topics'], inplace = True)\n"
      ],
      "metadata": {
        "id": "WLPB8UWxTAFg"
      },
      "execution_count": null,
      "outputs": []
    },
    {
      "cell_type": "markdown",
      "source": [
        "---\n",
        "# EDA on columns"
      ],
      "metadata": {
        "id": "KyIx_pKoas6I"
      }
    },
    {
      "cell_type": "markdown",
      "source": [
        "## Exploring 'title' column "
      ],
      "metadata": {
        "id": "vDho9JVIas3L"
      }
    },
    {
      "cell_type": "markdown",
      "source": [
        "## Exploring 'native_lang' column "
      ],
      "metadata": {
        "id": "tvC_gcpyas0Y"
      }
    },
    {
      "cell_type": "markdown",
      "source": [
        "## Exploring 'related_talks' column "
      ],
      "metadata": {
        "id": "KXATxRccasxf"
      }
    },
    {
      "cell_type": "code",
      "source": [
        "# Dropping the unnecessary columns in our Data set.\n",
        "\n",
        "Ted_non_null_df.drop(columns = ['talk_id', 'title', 'native_lang', 'related_talks', 'url', 'description', 'transcript', 'all_speakers'], inplace = True)\n"
      ],
      "metadata": {
        "id": "yJyexqa6TAC7"
      },
      "execution_count": null,
      "outputs": []
    },
    {
      "cell_type": "code",
      "source": [
        "Ted_non_null_df.head(2)"
      ],
      "metadata": {
        "colab": {
          "base_uri": "https://localhost:8080/",
          "height": 176
        },
        "id": "VwmsqLC8S_9x",
        "outputId": "3deba377-9a6c-462a-850d-84bf78fbeda2"
      },
      "execution_count": null,
      "outputs": [
        {
          "output_type": "execute_result",
          "data": {
            "text/plain": [
              "      views  duration  comments  No_of_days_to_release  published_date_year  \\\n",
              "0   3523392       977       272                    122                 2006   \n",
              "1  14501685      1190       628                    125                 2006   \n",
              "\n",
              "  published_date_month  published_date_month_num  published_date_day  \\\n",
              "0                 June                         6                  27   \n",
              "1                 June                         6                  27   \n",
              "\n",
              "  published_date_day_name  published_date_day_num  speaker_1_avg_views  \\\n",
              "0                 Tuesday                       1           2190599.25   \n",
              "1                 Tuesday                       1           3987156.10   \n",
              "\n",
              "   event_avg_views  occupation_avg_views  num_of_available_lang  num_of_topics  \n",
              "0     3.876291e+06             1879936.5                     43              9  \n",
              "1     3.876291e+06             3987156.1                     49             11  "
            ],
            "text/html": [
              "\n",
              "  <div id=\"df-526e9a30-9bcf-44cf-8d7e-ac1804b9f7ad\">\n",
              "    <div class=\"colab-df-container\">\n",
              "      <div>\n",
              "<style scoped>\n",
              "    .dataframe tbody tr th:only-of-type {\n",
              "        vertical-align: middle;\n",
              "    }\n",
              "\n",
              "    .dataframe tbody tr th {\n",
              "        vertical-align: top;\n",
              "    }\n",
              "\n",
              "    .dataframe thead th {\n",
              "        text-align: right;\n",
              "    }\n",
              "</style>\n",
              "<table border=\"1\" class=\"dataframe\">\n",
              "  <thead>\n",
              "    <tr style=\"text-align: right;\">\n",
              "      <th></th>\n",
              "      <th>views</th>\n",
              "      <th>duration</th>\n",
              "      <th>comments</th>\n",
              "      <th>No_of_days_to_release</th>\n",
              "      <th>published_date_year</th>\n",
              "      <th>published_date_month</th>\n",
              "      <th>published_date_month_num</th>\n",
              "      <th>published_date_day</th>\n",
              "      <th>published_date_day_name</th>\n",
              "      <th>published_date_day_num</th>\n",
              "      <th>speaker_1_avg_views</th>\n",
              "      <th>event_avg_views</th>\n",
              "      <th>occupation_avg_views</th>\n",
              "      <th>num_of_available_lang</th>\n",
              "      <th>num_of_topics</th>\n",
              "    </tr>\n",
              "  </thead>\n",
              "  <tbody>\n",
              "    <tr>\n",
              "      <th>0</th>\n",
              "      <td>3523392</td>\n",
              "      <td>977</td>\n",
              "      <td>272</td>\n",
              "      <td>122</td>\n",
              "      <td>2006</td>\n",
              "      <td>June</td>\n",
              "      <td>6</td>\n",
              "      <td>27</td>\n",
              "      <td>Tuesday</td>\n",
              "      <td>1</td>\n",
              "      <td>2190599.25</td>\n",
              "      <td>3.876291e+06</td>\n",
              "      <td>1879936.5</td>\n",
              "      <td>43</td>\n",
              "      <td>9</td>\n",
              "    </tr>\n",
              "    <tr>\n",
              "      <th>1</th>\n",
              "      <td>14501685</td>\n",
              "      <td>1190</td>\n",
              "      <td>628</td>\n",
              "      <td>125</td>\n",
              "      <td>2006</td>\n",
              "      <td>June</td>\n",
              "      <td>6</td>\n",
              "      <td>27</td>\n",
              "      <td>Tuesday</td>\n",
              "      <td>1</td>\n",
              "      <td>3987156.10</td>\n",
              "      <td>3.876291e+06</td>\n",
              "      <td>3987156.1</td>\n",
              "      <td>49</td>\n",
              "      <td>11</td>\n",
              "    </tr>\n",
              "  </tbody>\n",
              "</table>\n",
              "</div>\n",
              "      <button class=\"colab-df-convert\" onclick=\"convertToInteractive('df-526e9a30-9bcf-44cf-8d7e-ac1804b9f7ad')\"\n",
              "              title=\"Convert this dataframe to an interactive table.\"\n",
              "              style=\"display:none;\">\n",
              "        \n",
              "  <svg xmlns=\"http://www.w3.org/2000/svg\" height=\"24px\"viewBox=\"0 0 24 24\"\n",
              "       width=\"24px\">\n",
              "    <path d=\"M0 0h24v24H0V0z\" fill=\"none\"/>\n",
              "    <path d=\"M18.56 5.44l.94 2.06.94-2.06 2.06-.94-2.06-.94-.94-2.06-.94 2.06-2.06.94zm-11 1L8.5 8.5l.94-2.06 2.06-.94-2.06-.94L8.5 2.5l-.94 2.06-2.06.94zm10 10l.94 2.06.94-2.06 2.06-.94-2.06-.94-.94-2.06-.94 2.06-2.06.94z\"/><path d=\"M17.41 7.96l-1.37-1.37c-.4-.4-.92-.59-1.43-.59-.52 0-1.04.2-1.43.59L10.3 9.45l-7.72 7.72c-.78.78-.78 2.05 0 2.83L4 21.41c.39.39.9.59 1.41.59.51 0 1.02-.2 1.41-.59l7.78-7.78 2.81-2.81c.8-.78.8-2.07 0-2.86zM5.41 20L4 18.59l7.72-7.72 1.47 1.35L5.41 20z\"/>\n",
              "  </svg>\n",
              "      </button>\n",
              "      \n",
              "  <style>\n",
              "    .colab-df-container {\n",
              "      display:flex;\n",
              "      flex-wrap:wrap;\n",
              "      gap: 12px;\n",
              "    }\n",
              "\n",
              "    .colab-df-convert {\n",
              "      background-color: #E8F0FE;\n",
              "      border: none;\n",
              "      border-radius: 50%;\n",
              "      cursor: pointer;\n",
              "      display: none;\n",
              "      fill: #1967D2;\n",
              "      height: 32px;\n",
              "      padding: 0 0 0 0;\n",
              "      width: 32px;\n",
              "    }\n",
              "\n",
              "    .colab-df-convert:hover {\n",
              "      background-color: #E2EBFA;\n",
              "      box-shadow: 0px 1px 2px rgba(60, 64, 67, 0.3), 0px 1px 3px 1px rgba(60, 64, 67, 0.15);\n",
              "      fill: #174EA6;\n",
              "    }\n",
              "\n",
              "    [theme=dark] .colab-df-convert {\n",
              "      background-color: #3B4455;\n",
              "      fill: #D2E3FC;\n",
              "    }\n",
              "\n",
              "    [theme=dark] .colab-df-convert:hover {\n",
              "      background-color: #434B5C;\n",
              "      box-shadow: 0px 1px 3px 1px rgba(0, 0, 0, 0.15);\n",
              "      filter: drop-shadow(0px 1px 2px rgba(0, 0, 0, 0.3));\n",
              "      fill: #FFFFFF;\n",
              "    }\n",
              "  </style>\n",
              "\n",
              "      <script>\n",
              "        const buttonEl =\n",
              "          document.querySelector('#df-526e9a30-9bcf-44cf-8d7e-ac1804b9f7ad button.colab-df-convert');\n",
              "        buttonEl.style.display =\n",
              "          google.colab.kernel.accessAllowed ? 'block' : 'none';\n",
              "\n",
              "        async function convertToInteractive(key) {\n",
              "          const element = document.querySelector('#df-526e9a30-9bcf-44cf-8d7e-ac1804b9f7ad');\n",
              "          const dataTable =\n",
              "            await google.colab.kernel.invokeFunction('convertToInteractive',\n",
              "                                                     [key], {});\n",
              "          if (!dataTable) return;\n",
              "\n",
              "          const docLinkHtml = 'Like what you see? Visit the ' +\n",
              "            '<a target=\"_blank\" href=https://colab.research.google.com/notebooks/data_table.ipynb>data table notebook</a>'\n",
              "            + ' to learn more about interactive tables.';\n",
              "          element.innerHTML = '';\n",
              "          dataTable['output_type'] = 'display_data';\n",
              "          await google.colab.output.renderOutput(dataTable, element);\n",
              "          const docLink = document.createElement('div');\n",
              "          docLink.innerHTML = docLinkHtml;\n",
              "          element.appendChild(docLink);\n",
              "        }\n",
              "      </script>\n",
              "    </div>\n",
              "  </div>\n",
              "  "
            ]
          },
          "metadata": {},
          "execution_count": 44
        }
      ]
    },
    {
      "cell_type": "code",
      "source": [
        "\n",
        "Ted_non_null_df.describe().apply(lambda x: x.apply('{0:.2f}'.format)).T\n"
      ],
      "metadata": {
        "id": "7o0MhoqeS_7I",
        "colab": {
          "base_uri": "https://localhost:8080/",
          "height": 457
        },
        "outputId": "8be26ade-66d3-44e9-dbe5-594edcc53563"
      },
      "execution_count": null,
      "outputs": [
        {
          "output_type": "execute_result",
          "data": {
            "text/plain": [
              "                            count        mean         std       min  \\\n",
              "views                     4004.00  2148223.29  3451629.07      0.00   \n",
              "duration                  4004.00      723.93      361.79     60.00   \n",
              "comments                  4004.00      161.87      245.89      0.00   \n",
              "No_of_days_to_release     4004.00      307.94      581.74      0.00   \n",
              "published_date_year       4004.00     2014.60        3.99   2006.00   \n",
              "published_date_month_num  4004.00        6.13        3.47      1.00   \n",
              "published_date_day        4004.00       15.21        8.61      1.00   \n",
              "published_date_day_num    4004.00        2.11        1.50      0.00   \n",
              "speaker_1_avg_views       4004.00  2148223.29  3054227.10      0.00   \n",
              "event_avg_views           4004.00  2148223.29  1427572.78  15700.00   \n",
              "occupation_avg_views      4004.00  2148223.29  2107509.12      0.00   \n",
              "num_of_available_lang     4004.00       25.31        9.04      1.00   \n",
              "num_of_topics             4004.00        7.92        3.90      1.00   \n",
              "\n",
              "                                 25%         50%         75%          max  \n",
              "views                      881760.50  1375593.50  2133174.50  65051954.00  \n",
              "duration                      392.75      738.00      973.25      3922.00  \n",
              "comments                       46.00      119.00      162.00      6449.00  \n",
              "No_of_days_to_release          42.00      104.00      229.00      8804.00  \n",
              "published_date_year          2011.00     2015.00     2018.00      2020.00  \n",
              "published_date_month_num        3.00        6.00        9.00        12.00  \n",
              "published_date_day              8.00       15.00       22.00        31.00  \n",
              "published_date_day_num          1.00        2.00        3.00         6.00  \n",
              "speaker_1_avg_views        940637.75  1432610.50  2216223.50  57074270.00  \n",
              "event_avg_views           1614619.97  2059996.01  2480349.49  49730580.00  \n",
              "occupation_avg_views      1275914.25  1783531.00  2261174.84  30642988.50  \n",
              "num_of_available_lang          20.00       25.00       31.00        73.00  \n",
              "num_of_topics                   5.00        7.00       10.00        33.00  "
            ],
            "text/html": [
              "\n",
              "  <div id=\"df-69f20a38-c8d2-462e-ac27-801c518564c5\">\n",
              "    <div class=\"colab-df-container\">\n",
              "      <div>\n",
              "<style scoped>\n",
              "    .dataframe tbody tr th:only-of-type {\n",
              "        vertical-align: middle;\n",
              "    }\n",
              "\n",
              "    .dataframe tbody tr th {\n",
              "        vertical-align: top;\n",
              "    }\n",
              "\n",
              "    .dataframe thead th {\n",
              "        text-align: right;\n",
              "    }\n",
              "</style>\n",
              "<table border=\"1\" class=\"dataframe\">\n",
              "  <thead>\n",
              "    <tr style=\"text-align: right;\">\n",
              "      <th></th>\n",
              "      <th>count</th>\n",
              "      <th>mean</th>\n",
              "      <th>std</th>\n",
              "      <th>min</th>\n",
              "      <th>25%</th>\n",
              "      <th>50%</th>\n",
              "      <th>75%</th>\n",
              "      <th>max</th>\n",
              "    </tr>\n",
              "  </thead>\n",
              "  <tbody>\n",
              "    <tr>\n",
              "      <th>views</th>\n",
              "      <td>4004.00</td>\n",
              "      <td>2148223.29</td>\n",
              "      <td>3451629.07</td>\n",
              "      <td>0.00</td>\n",
              "      <td>881760.50</td>\n",
              "      <td>1375593.50</td>\n",
              "      <td>2133174.50</td>\n",
              "      <td>65051954.00</td>\n",
              "    </tr>\n",
              "    <tr>\n",
              "      <th>duration</th>\n",
              "      <td>4004.00</td>\n",
              "      <td>723.93</td>\n",
              "      <td>361.79</td>\n",
              "      <td>60.00</td>\n",
              "      <td>392.75</td>\n",
              "      <td>738.00</td>\n",
              "      <td>973.25</td>\n",
              "      <td>3922.00</td>\n",
              "    </tr>\n",
              "    <tr>\n",
              "      <th>comments</th>\n",
              "      <td>4004.00</td>\n",
              "      <td>161.87</td>\n",
              "      <td>245.89</td>\n",
              "      <td>0.00</td>\n",
              "      <td>46.00</td>\n",
              "      <td>119.00</td>\n",
              "      <td>162.00</td>\n",
              "      <td>6449.00</td>\n",
              "    </tr>\n",
              "    <tr>\n",
              "      <th>No_of_days_to_release</th>\n",
              "      <td>4004.00</td>\n",
              "      <td>307.94</td>\n",
              "      <td>581.74</td>\n",
              "      <td>0.00</td>\n",
              "      <td>42.00</td>\n",
              "      <td>104.00</td>\n",
              "      <td>229.00</td>\n",
              "      <td>8804.00</td>\n",
              "    </tr>\n",
              "    <tr>\n",
              "      <th>published_date_year</th>\n",
              "      <td>4004.00</td>\n",
              "      <td>2014.60</td>\n",
              "      <td>3.99</td>\n",
              "      <td>2006.00</td>\n",
              "      <td>2011.00</td>\n",
              "      <td>2015.00</td>\n",
              "      <td>2018.00</td>\n",
              "      <td>2020.00</td>\n",
              "    </tr>\n",
              "    <tr>\n",
              "      <th>published_date_month_num</th>\n",
              "      <td>4004.00</td>\n",
              "      <td>6.13</td>\n",
              "      <td>3.47</td>\n",
              "      <td>1.00</td>\n",
              "      <td>3.00</td>\n",
              "      <td>6.00</td>\n",
              "      <td>9.00</td>\n",
              "      <td>12.00</td>\n",
              "    </tr>\n",
              "    <tr>\n",
              "      <th>published_date_day</th>\n",
              "      <td>4004.00</td>\n",
              "      <td>15.21</td>\n",
              "      <td>8.61</td>\n",
              "      <td>1.00</td>\n",
              "      <td>8.00</td>\n",
              "      <td>15.00</td>\n",
              "      <td>22.00</td>\n",
              "      <td>31.00</td>\n",
              "    </tr>\n",
              "    <tr>\n",
              "      <th>published_date_day_num</th>\n",
              "      <td>4004.00</td>\n",
              "      <td>2.11</td>\n",
              "      <td>1.50</td>\n",
              "      <td>0.00</td>\n",
              "      <td>1.00</td>\n",
              "      <td>2.00</td>\n",
              "      <td>3.00</td>\n",
              "      <td>6.00</td>\n",
              "    </tr>\n",
              "    <tr>\n",
              "      <th>speaker_1_avg_views</th>\n",
              "      <td>4004.00</td>\n",
              "      <td>2148223.29</td>\n",
              "      <td>3054227.10</td>\n",
              "      <td>0.00</td>\n",
              "      <td>940637.75</td>\n",
              "      <td>1432610.50</td>\n",
              "      <td>2216223.50</td>\n",
              "      <td>57074270.00</td>\n",
              "    </tr>\n",
              "    <tr>\n",
              "      <th>event_avg_views</th>\n",
              "      <td>4004.00</td>\n",
              "      <td>2148223.29</td>\n",
              "      <td>1427572.78</td>\n",
              "      <td>15700.00</td>\n",
              "      <td>1614619.97</td>\n",
              "      <td>2059996.01</td>\n",
              "      <td>2480349.49</td>\n",
              "      <td>49730580.00</td>\n",
              "    </tr>\n",
              "    <tr>\n",
              "      <th>occupation_avg_views</th>\n",
              "      <td>4004.00</td>\n",
              "      <td>2148223.29</td>\n",
              "      <td>2107509.12</td>\n",
              "      <td>0.00</td>\n",
              "      <td>1275914.25</td>\n",
              "      <td>1783531.00</td>\n",
              "      <td>2261174.84</td>\n",
              "      <td>30642988.50</td>\n",
              "    </tr>\n",
              "    <tr>\n",
              "      <th>num_of_available_lang</th>\n",
              "      <td>4004.00</td>\n",
              "      <td>25.31</td>\n",
              "      <td>9.04</td>\n",
              "      <td>1.00</td>\n",
              "      <td>20.00</td>\n",
              "      <td>25.00</td>\n",
              "      <td>31.00</td>\n",
              "      <td>73.00</td>\n",
              "    </tr>\n",
              "    <tr>\n",
              "      <th>num_of_topics</th>\n",
              "      <td>4004.00</td>\n",
              "      <td>7.92</td>\n",
              "      <td>3.90</td>\n",
              "      <td>1.00</td>\n",
              "      <td>5.00</td>\n",
              "      <td>7.00</td>\n",
              "      <td>10.00</td>\n",
              "      <td>33.00</td>\n",
              "    </tr>\n",
              "  </tbody>\n",
              "</table>\n",
              "</div>\n",
              "      <button class=\"colab-df-convert\" onclick=\"convertToInteractive('df-69f20a38-c8d2-462e-ac27-801c518564c5')\"\n",
              "              title=\"Convert this dataframe to an interactive table.\"\n",
              "              style=\"display:none;\">\n",
              "        \n",
              "  <svg xmlns=\"http://www.w3.org/2000/svg\" height=\"24px\"viewBox=\"0 0 24 24\"\n",
              "       width=\"24px\">\n",
              "    <path d=\"M0 0h24v24H0V0z\" fill=\"none\"/>\n",
              "    <path d=\"M18.56 5.44l.94 2.06.94-2.06 2.06-.94-2.06-.94-.94-2.06-.94 2.06-2.06.94zm-11 1L8.5 8.5l.94-2.06 2.06-.94-2.06-.94L8.5 2.5l-.94 2.06-2.06.94zm10 10l.94 2.06.94-2.06 2.06-.94-2.06-.94-.94-2.06-.94 2.06-2.06.94z\"/><path d=\"M17.41 7.96l-1.37-1.37c-.4-.4-.92-.59-1.43-.59-.52 0-1.04.2-1.43.59L10.3 9.45l-7.72 7.72c-.78.78-.78 2.05 0 2.83L4 21.41c.39.39.9.59 1.41.59.51 0 1.02-.2 1.41-.59l7.78-7.78 2.81-2.81c.8-.78.8-2.07 0-2.86zM5.41 20L4 18.59l7.72-7.72 1.47 1.35L5.41 20z\"/>\n",
              "  </svg>\n",
              "      </button>\n",
              "      \n",
              "  <style>\n",
              "    .colab-df-container {\n",
              "      display:flex;\n",
              "      flex-wrap:wrap;\n",
              "      gap: 12px;\n",
              "    }\n",
              "\n",
              "    .colab-df-convert {\n",
              "      background-color: #E8F0FE;\n",
              "      border: none;\n",
              "      border-radius: 50%;\n",
              "      cursor: pointer;\n",
              "      display: none;\n",
              "      fill: #1967D2;\n",
              "      height: 32px;\n",
              "      padding: 0 0 0 0;\n",
              "      width: 32px;\n",
              "    }\n",
              "\n",
              "    .colab-df-convert:hover {\n",
              "      background-color: #E2EBFA;\n",
              "      box-shadow: 0px 1px 2px rgba(60, 64, 67, 0.3), 0px 1px 3px 1px rgba(60, 64, 67, 0.15);\n",
              "      fill: #174EA6;\n",
              "    }\n",
              "\n",
              "    [theme=dark] .colab-df-convert {\n",
              "      background-color: #3B4455;\n",
              "      fill: #D2E3FC;\n",
              "    }\n",
              "\n",
              "    [theme=dark] .colab-df-convert:hover {\n",
              "      background-color: #434B5C;\n",
              "      box-shadow: 0px 1px 3px 1px rgba(0, 0, 0, 0.15);\n",
              "      filter: drop-shadow(0px 1px 2px rgba(0, 0, 0, 0.3));\n",
              "      fill: #FFFFFF;\n",
              "    }\n",
              "  </style>\n",
              "\n",
              "      <script>\n",
              "        const buttonEl =\n",
              "          document.querySelector('#df-69f20a38-c8d2-462e-ac27-801c518564c5 button.colab-df-convert');\n",
              "        buttonEl.style.display =\n",
              "          google.colab.kernel.accessAllowed ? 'block' : 'none';\n",
              "\n",
              "        async function convertToInteractive(key) {\n",
              "          const element = document.querySelector('#df-69f20a38-c8d2-462e-ac27-801c518564c5');\n",
              "          const dataTable =\n",
              "            await google.colab.kernel.invokeFunction('convertToInteractive',\n",
              "                                                     [key], {});\n",
              "          if (!dataTable) return;\n",
              "\n",
              "          const docLinkHtml = 'Like what you see? Visit the ' +\n",
              "            '<a target=\"_blank\" href=https://colab.research.google.com/notebooks/data_table.ipynb>data table notebook</a>'\n",
              "            + ' to learn more about interactive tables.';\n",
              "          element.innerHTML = '';\n",
              "          dataTable['output_type'] = 'display_data';\n",
              "          await google.colab.output.renderOutput(dataTable, element);\n",
              "          const docLink = document.createElement('div');\n",
              "          docLink.innerHTML = docLinkHtml;\n",
              "          element.appendChild(docLink);\n",
              "        }\n",
              "      </script>\n",
              "    </div>\n",
              "  </div>\n",
              "  "
            ]
          },
          "metadata": {},
          "execution_count": 45
        }
      ]
    },
    {
      "cell_type": "markdown",
      "source": [
        "---\n",
        "## Dealing with Outliers\n",
        "---"
      ],
      "metadata": {
        "id": "rCWAsOcNbCHg"
      }
    },
    {
      "cell_type": "code",
      "source": [
        "col_to_do = ['views', 'duration', 'comments', 'No_of_days_to_release', 'speaker_1_avg_views', 'event_avg_views', 'occupation_avg_views', 'num_of_available_lang', 'num_of_topics']"
      ],
      "metadata": {
        "id": "XDGvYQxRS_4o"
      },
      "execution_count": null,
      "outputs": []
    },
    {
      "cell_type": "code",
      "source": [
        "for co in col_to_do:\n",
        "    \n",
        "    plt.figure(figsize=(6,3))\n",
        "    sns.boxplot(Ted_non_null_df[co])\n",
        "    plt.show()"
      ],
      "metadata": {
        "colab": {
          "base_uri": "https://localhost:8080/",
          "height": 1000
        },
        "id": "TJZgEIYGS_1w",
        "outputId": "10c4f66a-be20-4fb8-f607-af8781ecc7aa"
      },
      "execution_count": null,
      "outputs": [
        {
          "output_type": "display_data",
          "data": {
            "text/plain": [
              "<Figure size 432x216 with 1 Axes>"
            ],
            "image/png": "[encoded data removed]"
          },
          "metadata": {}
        },
        {
          "output_type": "display_data",
          "data": {
            "text/plain": [
              "<Figure size 432x216 with 1 Axes>"
            ],
            "image/png": "[encoded data removed]"
          },
          "metadata": {}
        },
        {
          "output_type": "display_data",
          "data": {
            "text/plain": [
              "<Figure size 432x216 with 1 Axes>"
            ],
            "image/png": "[encoded data removed]"
          },
          "metadata": {}
        },
        {
          "output_type": "display_data",
          "data": {
            "text/plain": [
              "<Figure size 432x216 with 1 Axes>"
            ],
            "image/png": "[encoded data removed]"
          },
          "metadata": {}
        },
        {
          "output_type": "display_data",
          "data": {
            "text/plain": [
              "<Figure size 432x216 with 1 Axes>"
            ],
            "image/png": "[encoded data removed]"
          },
          "metadata": {}
        },
        {
          "output_type": "display_data",
          "data": {
            "text/plain": [
              "<Figure size 432x216 with 1 Axes>"
            ],
            "image/png": "[encoded data removed]"
          },
          "metadata": {}
        },
        {
          "output_type": "display_data",
          "data": {
            "text/plain": [
              "<Figure size 432x216 with 1 Axes>"
            ],
            "image/png": "[encoded data removed]"
          },
          "metadata": {}
        },
        {
          "output_type": "display_data",
          "data": {
            "text/plain": [
              "<Figure size 432x216 with 1 Axes>"
            ],
            "image/png": "[encoded data removed]"
          },
          "metadata": {}
        },
        {
          "output_type": "display_data",
          "data": {
            "text/plain": [
              "<Figure size 432x216 with 1 Axes>"
            ],
            "image/png": "[encoded data removed]"
          },
          "metadata": {}
        }
      ]
    },
    {
      "cell_type": "code",
      "source": [
        "for co in col_to_do:\n",
        "    \n",
        "    percentile25 = Ted_non_null_df[co].quantile(0.25)\n",
        "    percentile75 = Ted_non_null_df[co].quantile(0.75)\n",
        "\n",
        "    iqr = percentile75 - percentile25\n",
        "\n",
        "    upper_limit = percentile75 + 1.5 * iqr\n",
        "    lower_limit = percentile25 - 1.5 * iqr\n",
        "\n",
        "    Ted_non_null_df[co] = np.where(\n",
        "        Ted_non_null_df[co] > upper_limit,\n",
        "        upper_limit,\n",
        "        np.where(\n",
        "            Ted_non_null_df[co] < lower_limit,\n",
        "            lower_limit,\n",
        "            Ted_non_null_df[co]\n",
        "        )\n",
        "    )\n",
        "\n",
        "    plt.figure(figsize=(6,3))\n",
        "    sns.boxplot(Ted_non_null_df[co])\n",
        "    plt.show()"
      ],
      "metadata": {
        "id": "B0gCa5wbS_wM",
        "colab": {
          "base_uri": "https://localhost:8080/",
          "height": 1000
        },
        "outputId": "ff9017c4-8712-4d36-a3aa-6757a802ab4c"
      },
      "execution_count": null,
      "outputs": [
        {
          "output_type": "display_data",
          "data": {
            "text/plain": [
              "<Figure size 432x216 with 1 Axes>"
            ],
            "image/png": "[encoded data removed]"
          },
          "metadata": {}
        },
        {
          "output_type": "display_data",
          "data": {
            "text/plain": [
              "<Figure size 432x216 with 1 Axes>"
            ],
            "image/png": "[encoded data removed]"
          },
          "metadata": {}
        },
        {
          "output_type": "display_data",
          "data": {
            "text/plain": [
              "<Figure size 432x216 with 1 Axes>"
            ],
            "image/png": "[encoded data removed]"
          },
          "metadata": {}
        },
        {
          "output_type": "display_data",
          "data": {
            "text/plain": [
              "<Figure size 432x216 with 1 Axes>"
            ],
            "image/png": "[encoded data removed]"
          },
          "metadata": {}
        },
        {
          "output_type": "display_data",
          "data": {
            "text/plain": [
              "<Figure size 432x216 with 1 Axes>"
            ],
            "image/png": "[encoded data removed]"
          },
          "metadata": {}
        },
        {
          "output_type": "display_data",
          "data": {
            "text/plain": [
              "<Figure size 432x216 with 1 Axes>"
            ],
            "image/png": "[encoded data removed]"
          },
          "metadata": {}
        },
        {
          "output_type": "display_data",
          "data": {
            "text/plain": [
              "<Figure size 432x216 with 1 Axes>"
            ],
            "image/png": "[encoded data removed]"
          },
          "metadata": {}
        },
        {
          "output_type": "display_data",
          "data": {
            "text/plain": [
              "<Figure size 432x216 with 1 Axes>"
            ],
            "image/png": "[encoded data removed]"
          },
          "metadata": {}
        },
        {
          "output_type": "display_data",
          "data": {
            "text/plain": [
              "<Figure size 432x216 with 1 Axes>"
            ],
            "image/png": "[encoded data removed]"
          },
          "metadata": {}
        }
      ]
    },
    {
      "cell_type": "code",
      "source": [
        "Ted_non_null_df.sample(5)"
      ],
      "metadata": {
        "colab": {
          "base_uri": "https://localhost:8080/",
          "height": 270
        },
        "id": "-8QbJPf1S_mo",
        "outputId": "6329022f-52dc-42e0-d975-b905c96f5ba6"
      },
      "execution_count": null,
      "outputs": [
        {
          "output_type": "execute_result",
          "data": {
            "text/plain": [
              "          views  duration  comments  No_of_days_to_release  \\\n",
              "3915  1074082.0     272.0     161.0                  509.5   \n",
              "3727  1614148.0     991.0      24.0                  173.0   \n",
              "3449  1444428.0     196.0     161.0                    0.0   \n",
              "2981  4010295.5     709.0      78.0                  181.0   \n",
              "2611  1073074.0     497.0      22.0                  114.0   \n",
              "\n",
              "      published_date_year published_date_month  published_date_month_num  \\\n",
              "3915                 2020             February                         2   \n",
              "3727                 2019             November                        11   \n",
              "3449                 2019                April                         4   \n",
              "2981                 2018              October                        10   \n",
              "2611                 2017             December                        12   \n",
              "\n",
              "      published_date_day published_date_day_name  published_date_day_num  \\\n",
              "3915                  28                  Friday                       4   \n",
              "3727                  12                 Tuesday                       1   \n",
              "3449                  25                Thursday                       3   \n",
              "2981                   8                  Monday                       0   \n",
              "2611                  19                 Tuesday                       1   \n",
              "\n",
              "      speaker_1_avg_views  event_avg_views  occupation_avg_views  \\\n",
              "3915          1074082.000     2.059996e+06          2.074486e+06   \n",
              "3727          1614148.000     2.905740e+06          1.614148e+06   \n",
              "3449          1445220.000     2.059996e+06          2.074486e+06   \n",
              "2981          4129602.125     2.045275e+06          3.739066e+06   \n",
              "2611          1073074.000     1.116784e+06          1.073074e+06   \n",
              "\n",
              "      num_of_available_lang  num_of_topics  \n",
              "3915                   21.0            7.0  \n",
              "3727                    9.0           12.0  \n",
              "3449                   16.0            5.0  \n",
              "2981                   22.0            6.0  \n",
              "2611                   20.0            5.0  "
            ],
            "text/html": [
              "\n",
              "  <div id=\"df-e76a90e3-f736-4b36-ac1b-6c0a9b054f6f\">\n",
              "    <div class=\"colab-df-container\">\n",
              "      <div>\n",
              "<style scoped>\n",
              "    .dataframe tbody tr th:only-of-type {\n",
              "        vertical-align: middle;\n",
              "    }\n",
              "\n",
              "    .dataframe tbody tr th {\n",
              "        vertical-align: top;\n",
              "    }\n",
              "\n",
              "    .dataframe thead th {\n",
              "        text-align: right;\n",
              "    }\n",
              "</style>\n",
              "<table border=\"1\" class=\"dataframe\">\n",
              "  <thead>\n",
              "    <tr style=\"text-align: right;\">\n",
              "      <th></th>\n",
              "      <th>views</th>\n",
              "      <th>duration</th>\n",
              "      <th>comments</th>\n",
              "      <th>No_of_days_to_release</th>\n",
              "      <th>published_date_year</th>\n",
              "      <th>published_date_month</th>\n",
              "      <th>published_date_month_num</th>\n",
              "      <th>published_date_day</th>\n",
              "      <th>published_date_day_name</th>\n",
              "      <th>published_date_day_num</th>\n",
              "      <th>speaker_1_avg_views</th>\n",
              "      <th>event_avg_views</th>\n",
              "      <th>occupation_avg_views</th>\n",
              "      <th>num_of_available_lang</th>\n",
              "      <th>num_of_topics</th>\n",
              "    </tr>\n",
              "  </thead>\n",
              "  <tbody>\n",
              "    <tr>\n",
              "      <th>3915</th>\n",
              "      <td>1074082.0</td>\n",
              "      <td>272.0</td>\n",
              "      <td>161.0</td>\n",
              "      <td>509.5</td>\n",
              "      <td>2020</td>\n",
              "      <td>February</td>\n",
              "      <td>2</td>\n",
              "      <td>28</td>\n",
              "      <td>Friday</td>\n",
              "      <td>4</td>\n",
              "      <td>1074082.000</td>\n",
              "      <td>2.059996e+06</td>\n",
              "      <td>2.074486e+06</td>\n",
              "      <td>21.0</td>\n",
              "      <td>7.0</td>\n",
              "    </tr>\n",
              "    <tr>\n",
              "      <th>3727</th>\n",
              "      <td>1614148.0</td>\n",
              "      <td>991.0</td>\n",
              "      <td>24.0</td>\n",
              "      <td>173.0</td>\n",
              "      <td>2019</td>\n",
              "      <td>November</td>\n",
              "      <td>11</td>\n",
              "      <td>12</td>\n",
              "      <td>Tuesday</td>\n",
              "      <td>1</td>\n",
              "      <td>1614148.000</td>\n",
              "      <td>2.905740e+06</td>\n",
              "      <td>1.614148e+06</td>\n",
              "      <td>9.0</td>\n",
              "      <td>12.0</td>\n",
              "    </tr>\n",
              "    <tr>\n",
              "      <th>3449</th>\n",
              "      <td>1444428.0</td>\n",
              "      <td>196.0</td>\n",
              "      <td>161.0</td>\n",
              "      <td>0.0</td>\n",
              "      <td>2019</td>\n",
              "      <td>April</td>\n",
              "      <td>4</td>\n",
              "      <td>25</td>\n",
              "      <td>Thursday</td>\n",
              "      <td>3</td>\n",
              "      <td>1445220.000</td>\n",
              "      <td>2.059996e+06</td>\n",
              "      <td>2.074486e+06</td>\n",
              "      <td>16.0</td>\n",
              "      <td>5.0</td>\n",
              "    </tr>\n",
              "    <tr>\n",
              "      <th>2981</th>\n",
              "      <td>4010295.5</td>\n",
              "      <td>709.0</td>\n",
              "      <td>78.0</td>\n",
              "      <td>181.0</td>\n",
              "      <td>2018</td>\n",
              "      <td>October</td>\n",
              "      <td>10</td>\n",
              "      <td>8</td>\n",
              "      <td>Monday</td>\n",
              "      <td>0</td>\n",
              "      <td>4129602.125</td>\n",
              "      <td>2.045275e+06</td>\n",
              "      <td>3.739066e+06</td>\n",
              "      <td>22.0</td>\n",
              "      <td>6.0</td>\n",
              "    </tr>\n",
              "    <tr>\n",
              "      <th>2611</th>\n",
              "      <td>1073074.0</td>\n",
              "      <td>497.0</td>\n",
              "      <td>22.0</td>\n",
              "      <td>114.0</td>\n",
              "      <td>2017</td>\n",
              "      <td>December</td>\n",
              "      <td>12</td>\n",
              "      <td>19</td>\n",
              "      <td>Tuesday</td>\n",
              "      <td>1</td>\n",
              "      <td>1073074.000</td>\n",
              "      <td>1.116784e+06</td>\n",
              "      <td>1.073074e+06</td>\n",
              "      <td>20.0</td>\n",
              "      <td>5.0</td>\n",
              "    </tr>\n",
              "  </tbody>\n",
              "</table>\n",
              "</div>\n",
              "      <button class=\"colab-df-convert\" onclick=\"convertToInteractive('df-e76a90e3-f736-4b36-ac1b-6c0a9b054f6f')\"\n",
              "              title=\"Convert this dataframe to an interactive table.\"\n",
              "              style=\"display:none;\">\n",
              "        \n",
              "  <svg xmlns=\"http://www.w3.org/2000/svg\" height=\"24px\"viewBox=\"0 0 24 24\"\n",
              "       width=\"24px\">\n",
              "    <path d=\"M0 0h24v24H0V0z\" fill=\"none\"/>\n",
              "    <path d=\"M18.56 5.44l.94 2.06.94-2.06 2.06-.94-2.06-.94-.94-2.06-.94 2.06-2.06.94zm-11 1L8.5 8.5l.94-2.06 2.06-.94-2.06-.94L8.5 2.5l-.94 2.06-2.06.94zm10 10l.94 2.06.94-2.06 2.06-.94-2.06-.94-.94-2.06-.94 2.06-2.06.94z\"/><path d=\"M17.41 7.96l-1.37-1.37c-.4-.4-.92-.59-1.43-.59-.52 0-1.04.2-1.43.59L10.3 9.45l-7.72 7.72c-.78.78-.78 2.05 0 2.83L4 21.41c.39.39.9.59 1.41.59.51 0 1.02-.2 1.41-.59l7.78-7.78 2.81-2.81c.8-.78.8-2.07 0-2.86zM5.41 20L4 18.59l7.72-7.72 1.47 1.35L5.41 20z\"/>\n",
              "  </svg>\n",
              "      </button>\n",
              "      \n",
              "  <style>\n",
              "    .colab-df-container {\n",
              "      display:flex;\n",
              "      flex-wrap:wrap;\n",
              "      gap: 12px;\n",
              "    }\n",
              "\n",
              "    .colab-df-convert {\n",
              "      background-color: #E8F0FE;\n",
              "      border: none;\n",
              "      border-radius: 50%;\n",
              "      cursor: pointer;\n",
              "      display: none;\n",
              "      fill: #1967D2;\n",
              "      height: 32px;\n",
              "      padding: 0 0 0 0;\n",
              "      width: 32px;\n",
              "    }\n",
              "\n",
              "    .colab-df-convert:hover {\n",
              "      background-color: #E2EBFA;\n",
              "      box-shadow: 0px 1px 2px rgba(60, 64, 67, 0.3), 0px 1px 3px 1px rgba(60, 64, 67, 0.15);\n",
              "      fill: #174EA6;\n",
              "    }\n",
              "\n",
              "    [theme=dark] .colab-df-convert {\n",
              "      background-color: #3B4455;\n",
              "      fill: #D2E3FC;\n",
              "    }\n",
              "\n",
              "    [theme=dark] .colab-df-convert:hover {\n",
              "      background-color: #434B5C;\n",
              "      box-shadow: 0px 1px 3px 1px rgba(0, 0, 0, 0.15);\n",
              "      filter: drop-shadow(0px 1px 2px rgba(0, 0, 0, 0.3));\n",
              "      fill: #FFFFFF;\n",
              "    }\n",
              "  </style>\n",
              "\n",
              "      <script>\n",
              "        const buttonEl =\n",
              "          document.querySelector('#df-e76a90e3-f736-4b36-ac1b-6c0a9b054f6f button.colab-df-convert');\n",
              "        buttonEl.style.display =\n",
              "          google.colab.kernel.accessAllowed ? 'block' : 'none';\n",
              "\n",
              "        async function convertToInteractive(key) {\n",
              "          const element = document.querySelector('#df-e76a90e3-f736-4b36-ac1b-6c0a9b054f6f');\n",
              "          const dataTable =\n",
              "            await google.colab.kernel.invokeFunction('convertToInteractive',\n",
              "                                                     [key], {});\n",
              "          if (!dataTable) return;\n",
              "\n",
              "          const docLinkHtml = 'Like what you see? Visit the ' +\n",
              "            '<a target=\"_blank\" href=https://colab.research.google.com/notebooks/data_table.ipynb>data table notebook</a>'\n",
              "            + ' to learn more about interactive tables.';\n",
              "          element.innerHTML = '';\n",
              "          dataTable['output_type'] = 'display_data';\n",
              "          await google.colab.output.renderOutput(dataTable, element);\n",
              "          const docLink = document.createElement('div');\n",
              "          docLink.innerHTML = docLinkHtml;\n",
              "          element.appendChild(docLink);\n",
              "        }\n",
              "      </script>\n",
              "    </div>\n",
              "  </div>\n",
              "  "
            ]
          },
          "metadata": {},
          "execution_count": 49
        }
      ]
    },
    {
      "cell_type": "code",
      "source": [
        "Ted_non_null_df.drop(columns = ['published_date_month_num', 'published_date_day', 'published_date_day_num'], inplace = True)"
      ],
      "metadata": {
        "id": "OoIgJXRlS9YJ"
      },
      "execution_count": null,
      "outputs": []
    },
    {
      "cell_type": "markdown",
      "source": [
        "---\n",
        "## Applying One-Hot-Encoding on string categorical columns\n",
        "---"
      ],
      "metadata": {
        "id": "LTRnfdTnbTgf"
      }
    },
    {
      "cell_type": "code",
      "source": [
        "\n",
        "y = Ted_non_null_df['views']\n",
        "X = Ted_non_null_df.drop(columns='views')\n"
      ],
      "metadata": {
        "id": "tCZbhhZ_V0zW"
      },
      "execution_count": null,
      "outputs": []
    },
    {
      "cell_type": "code",
      "source": [
        "\n",
        "X = pd.get_dummies(X, drop_first= True)\n",
        "X.shape\n"
      ],
      "metadata": {
        "colab": {
          "base_uri": "https://localhost:8080/"
        },
        "id": "nVnD3clUV0w8",
        "outputId": "933bf7ad-d0d9-40cd-d308-21a68e3a67b8"
      },
      "execution_count": null,
      "outputs": [
        {
          "output_type": "execute_result",
          "data": {
            "text/plain": [
              "(4004, 26)"
            ]
          },
          "metadata": {},
          "execution_count": 52
        }
      ]
    },
    {
      "cell_type": "code",
      "source": [
        "X.sample(5)"
      ],
      "metadata": {
        "id": "p0BvTUFiV0vG",
        "colab": {
          "base_uri": "https://localhost:8080/",
          "height": 300
        },
        "outputId": "b64c24dd-d948-43d8-c210-6c0f7dc98f05"
      },
      "execution_count": null,
      "outputs": [
        {
          "output_type": "execute_result",
          "data": {
            "text/plain": [
              "      duration  comments  No_of_days_to_release  published_date_year  \\\n",
              "1067     563.0     112.0                   62.0                 2012   \n",
              "3741     406.0      16.0                  191.0                 2019   \n",
              "3038     833.0      35.0                  280.0                 2018   \n",
              "1053     522.0     173.0                   67.0                 2012   \n",
              "2538    1318.0     141.0                   23.0                 2017   \n",
              "\n",
              "      speaker_1_avg_views  event_avg_views  occupation_avg_views  \\\n",
              "1067            1539023.0     1.332935e+06          1.807321e+06   \n",
              "3741            1526169.0     1.648645e+06          1.526169e+06   \n",
              "3038            1687937.0     1.687937e+06          1.484934e+06   \n",
              "1053            1835229.2     9.580604e+05          3.578280e+06   \n",
              "2538            3598281.5     2.206106e+06          3.739066e+06   \n",
              "\n",
              "      num_of_available_lang  num_of_topics  published_date_month_August  ...  \\\n",
              "1067                   36.0            8.0                            0  ...   \n",
              "3741                   29.0            7.0                            0  ...   \n",
              "3038                   16.0            7.0                            0  ...   \n",
              "1053                   40.0            6.0                            0  ...   \n",
              "2538                   25.0           12.0                            0  ...   \n",
              "\n",
              "      published_date_month_May  published_date_month_November  \\\n",
              "1067                         0                              0   \n",
              "3741                         0                              1   \n",
              "3038                         0                              1   \n",
              "1053                         0                              0   \n",
              "2538                         0                              0   \n",
              "\n",
              "      published_date_month_October  published_date_month_September  \\\n",
              "1067                             0                               0   \n",
              "3741                             0                               0   \n",
              "3038                             0                               0   \n",
              "1053                             0                               0   \n",
              "2538                             1                               0   \n",
              "\n",
              "      published_date_day_name_Monday  published_date_day_name_Saturday  \\\n",
              "1067                               0                                 0   \n",
              "3741                               0                                 0   \n",
              "3038                               0                                 0   \n",
              "1053                               0                                 0   \n",
              "2538                               0                                 0   \n",
              "\n",
              "      published_date_day_name_Sunday  published_date_day_name_Thursday  \\\n",
              "1067                               0                                 0   \n",
              "3741                               0                                 1   \n",
              "3038                               0                                 1   \n",
              "1053                               0                                 0   \n",
              "2538                               0                                 0   \n",
              "\n",
              "      published_date_day_name_Tuesday  published_date_day_name_Wednesday  \n",
              "1067                                0                                  1  \n",
              "3741                                0                                  0  \n",
              "3038                                0                                  0  \n",
              "1053                                1                                  0  \n",
              "2538                                0                                  0  \n",
              "\n",
              "[5 rows x 26 columns]"
            ],
            "text/html": [
              "\n",
              "  <div id=\"df-013beeb1-8dab-4f0d-b6c5-fa8de33f2397\">\n",
              "    <div class=\"colab-df-container\">\n",
              "      <div>\n",
              "<style scoped>\n",
              "    .dataframe tbody tr th:only-of-type {\n",
              "        vertical-align: middle;\n",
              "    }\n",
              "\n",
              "    .dataframe tbody tr th {\n",
              "        vertical-align: top;\n",
              "    }\n",
              "\n",
              "    .dataframe thead th {\n",
              "        text-align: right;\n",
              "    }\n",
              "</style>\n",
              "<table border=\"1\" class=\"dataframe\">\n",
              "  <thead>\n",
              "    <tr style=\"text-align: right;\">\n",
              "      <th></th>\n",
              "      <th>duration</th>\n",
              "      <th>comments</th>\n",
              "      <th>No_of_days_to_release</th>\n",
              "      <th>published_date_year</th>\n",
              "      <th>speaker_1_avg_views</th>\n",
              "      <th>event_avg_views</th>\n",
              "      <th>occupation_avg_views</th>\n",
              "      <th>num_of_available_lang</th>\n",
              "      <th>num_of_topics</th>\n",
              "      <th>published_date_month_August</th>\n",
              "      <th>...</th>\n",
              "      <th>published_date_month_May</th>\n",
              "      <th>published_date_month_November</th>\n",
              "      <th>published_date_month_October</th>\n",
              "      <th>published_date_month_September</th>\n",
              "      <th>published_date_day_name_Monday</th>\n",
              "      <th>published_date_day_name_Saturday</th>\n",
              "      <th>published_date_day_name_Sunday</th>\n",
              "      <th>published_date_day_name_Thursday</th>\n",
              "      <th>published_date_day_name_Tuesday</th>\n",
              "      <th>published_date_day_name_Wednesday</th>\n",
              "    </tr>\n",
              "  </thead>\n",
              "  <tbody>\n",
              "    <tr>\n",
              "      <th>1067</th>\n",
              "      <td>563.0</td>\n",
              "      <td>112.0</td>\n",
              "      <td>62.0</td>\n",
              "      <td>2012</td>\n",
              "      <td>1539023.0</td>\n",
              "      <td>1.332935e+06</td>\n",
              "      <td>1.807321e+06</td>\n",
              "      <td>36.0</td>\n",
              "      <td>8.0</td>\n",
              "      <td>0</td>\n",
              "      <td>...</td>\n",
              "      <td>0</td>\n",
              "      <td>0</td>\n",
              "      <td>0</td>\n",
              "      <td>0</td>\n",
              "      <td>0</td>\n",
              "      <td>0</td>\n",
              "      <td>0</td>\n",
              "      <td>0</td>\n",
              "      <td>0</td>\n",
              "      <td>1</td>\n",
              "    </tr>\n",
              "    <tr>\n",
              "      <th>3741</th>\n",
              "      <td>406.0</td>\n",
              "      <td>16.0</td>\n",
              "      <td>191.0</td>\n",
              "      <td>2019</td>\n",
              "      <td>1526169.0</td>\n",
              "      <td>1.648645e+06</td>\n",
              "      <td>1.526169e+06</td>\n",
              "      <td>29.0</td>\n",
              "      <td>7.0</td>\n",
              "      <td>0</td>\n",
              "      <td>...</td>\n",
              "      <td>0</td>\n",
              "      <td>1</td>\n",
              "      <td>0</td>\n",
              "      <td>0</td>\n",
              "      <td>0</td>\n",
              "      <td>0</td>\n",
              "      <td>0</td>\n",
              "      <td>1</td>\n",
              "      <td>0</td>\n",
              "      <td>0</td>\n",
              "    </tr>\n",
              "    <tr>\n",
              "      <th>3038</th>\n",
              "      <td>833.0</td>\n",
              "      <td>35.0</td>\n",
              "      <td>280.0</td>\n",
              "      <td>2018</td>\n",
              "      <td>1687937.0</td>\n",
              "      <td>1.687937e+06</td>\n",
              "      <td>1.484934e+06</td>\n",
              "      <td>16.0</td>\n",
              "      <td>7.0</td>\n",
              "      <td>0</td>\n",
              "      <td>...</td>\n",
              "      <td>0</td>\n",
              "      <td>1</td>\n",
              "      <td>0</td>\n",
              "      <td>0</td>\n",
              "      <td>0</td>\n",
              "      <td>0</td>\n",
              "      <td>0</td>\n",
              "      <td>1</td>\n",
              "      <td>0</td>\n",
              "      <td>0</td>\n",
              "    </tr>\n",
              "    <tr>\n",
              "      <th>1053</th>\n",
              "      <td>522.0</td>\n",
              "      <td>173.0</td>\n",
              "      <td>67.0</td>\n",
              "      <td>2012</td>\n",
              "      <td>1835229.2</td>\n",
              "      <td>9.580604e+05</td>\n",
              "      <td>3.578280e+06</td>\n",
              "      <td>40.0</td>\n",
              "      <td>6.0</td>\n",
              "      <td>0</td>\n",
              "      <td>...</td>\n",
              "      <td>0</td>\n",
              "      <td>0</td>\n",
              "      <td>0</td>\n",
              "      <td>0</td>\n",
              "      <td>0</td>\n",
              "      <td>0</td>\n",
              "      <td>0</td>\n",
              "      <td>0</td>\n",
              "      <td>1</td>\n",
              "      <td>0</td>\n",
              "    </tr>\n",
              "    <tr>\n",
              "      <th>2538</th>\n",
              "      <td>1318.0</td>\n",
              "      <td>141.0</td>\n",
              "      <td>23.0</td>\n",
              "      <td>2017</td>\n",
              "      <td>3598281.5</td>\n",
              "      <td>2.206106e+06</td>\n",
              "      <td>3.739066e+06</td>\n",
              "      <td>25.0</td>\n",
              "      <td>12.0</td>\n",
              "      <td>0</td>\n",
              "      <td>...</td>\n",
              "      <td>0</td>\n",
              "      <td>0</td>\n",
              "      <td>1</td>\n",
              "      <td>0</td>\n",
              "      <td>0</td>\n",
              "      <td>0</td>\n",
              "      <td>0</td>\n",
              "      <td>0</td>\n",
              "      <td>0</td>\n",
              "      <td>0</td>\n",
              "    </tr>\n",
              "  </tbody>\n",
              "</table>\n",
              "<p>5 rows × 26 columns</p>\n",
              "</div>\n",
              "      <button class=\"colab-df-convert\" onclick=\"convertToInteractive('df-013beeb1-8dab-4f0d-b6c5-fa8de33f2397')\"\n",
              "              title=\"Convert this dataframe to an interactive table.\"\n",
              "              style=\"display:none;\">\n",
              "        \n",
              "  <svg xmlns=\"http://www.w3.org/2000/svg\" height=\"24px\"viewBox=\"0 0 24 24\"\n",
              "       width=\"24px\">\n",
              "    <path d=\"M0 0h24v24H0V0z\" fill=\"none\"/>\n",
              "    <path d=\"M18.56 5.44l.94 2.06.94-2.06 2.06-.94-2.06-.94-.94-2.06-.94 2.06-2.06.94zm-11 1L8.5 8.5l.94-2.06 2.06-.94-2.06-.94L8.5 2.5l-.94 2.06-2.06.94zm10 10l.94 2.06.94-2.06 2.06-.94-2.06-.94-.94-2.06-.94 2.06-2.06.94z\"/><path d=\"M17.41 7.96l-1.37-1.37c-.4-.4-.92-.59-1.43-.59-.52 0-1.04.2-1.43.59L10.3 9.45l-7.72 7.72c-.78.78-.78 2.05 0 2.83L4 21.41c.39.39.9.59 1.41.59.51 0 1.02-.2 1.41-.59l7.78-7.78 2.81-2.81c.8-.78.8-2.07 0-2.86zM5.41 20L4 18.59l7.72-7.72 1.47 1.35L5.41 20z\"/>\n",
              "  </svg>\n",
              "      </button>\n",
              "      \n",
              "  <style>\n",
              "    .colab-df-container {\n",
              "      display:flex;\n",
              "      flex-wrap:wrap;\n",
              "      gap: 12px;\n",
              "    }\n",
              "\n",
              "    .colab-df-convert {\n",
              "      background-color: #E8F0FE;\n",
              "      border: none;\n",
              "      border-radius: 50%;\n",
              "      cursor: pointer;\n",
              "      display: none;\n",
              "      fill: #1967D2;\n",
              "      height: 32px;\n",
              "      padding: 0 0 0 0;\n",
              "      width: 32px;\n",
              "    }\n",
              "\n",
              "    .colab-df-convert:hover {\n",
              "      background-color: #E2EBFA;\n",
              "      box-shadow: 0px 1px 2px rgba(60, 64, 67, 0.3), 0px 1px 3px 1px rgba(60, 64, 67, 0.15);\n",
              "      fill: #174EA6;\n",
              "    }\n",
              "\n",
              "    [theme=dark] .colab-df-convert {\n",
              "      background-color: #3B4455;\n",
              "      fill: #D2E3FC;\n",
              "    }\n",
              "\n",
              "    [theme=dark] .colab-df-convert:hover {\n",
              "      background-color: #434B5C;\n",
              "      box-shadow: 0px 1px 3px 1px rgba(0, 0, 0, 0.15);\n",
              "      filter: drop-shadow(0px 1px 2px rgba(0, 0, 0, 0.3));\n",
              "      fill: #FFFFFF;\n",
              "    }\n",
              "  </style>\n",
              "\n",
              "      <script>\n",
              "        const buttonEl =\n",
              "          document.querySelector('#df-013beeb1-8dab-4f0d-b6c5-fa8de33f2397 button.colab-df-convert');\n",
              "        buttonEl.style.display =\n",
              "          google.colab.kernel.accessAllowed ? 'block' : 'none';\n",
              "\n",
              "        async function convertToInteractive(key) {\n",
              "          const element = document.querySelector('#df-013beeb1-8dab-4f0d-b6c5-fa8de33f2397');\n",
              "          const dataTable =\n",
              "            await google.colab.kernel.invokeFunction('convertToInteractive',\n",
              "                                                     [key], {});\n",
              "          if (!dataTable) return;\n",
              "\n",
              "          const docLinkHtml = 'Like what you see? Visit the ' +\n",
              "            '<a target=\"_blank\" href=https://colab.research.google.com/notebooks/data_table.ipynb>data table notebook</a>'\n",
              "            + ' to learn more about interactive tables.';\n",
              "          element.innerHTML = '';\n",
              "          dataTable['output_type'] = 'display_data';\n",
              "          await google.colab.output.renderOutput(dataTable, element);\n",
              "          const docLink = document.createElement('div');\n",
              "          docLink.innerHTML = docLinkHtml;\n",
              "          element.appendChild(docLink);\n",
              "        }\n",
              "      </script>\n",
              "    </div>\n",
              "  </div>\n",
              "  "
            ]
          },
          "metadata": {},
          "execution_count": 53
        }
      ]
    },
    {
      "cell_type": "markdown",
      "source": [
        "---\n",
        "# Feature Selection\n",
        "---"
      ],
      "metadata": {
        "id": "8k3ms-a0bejt"
      }
    },
    {
      "cell_type": "code",
      "source": [
        "from sklearn.feature_selection import SelectKBest\n",
        "from sklearn.feature_selection import f_regression"
      ],
      "metadata": {
        "id": "OdQFPqS8V0sa"
      },
      "execution_count": null,
      "outputs": []
    },
    {
      "cell_type": "code",
      "source": [
        "f_scores = f_regression(X, y)\n",
        "p_values= pd.Series(f_scores[1],index= X.columns)\n",
        "p_values.plot(kind='barh',color='aqua',figsize=(15,9))\n",
        "plt.title('P-VALUES')\n",
        "plt.show()"
      ],
      "metadata": {
        "id": "QNYTTJlGV0p8",
        "colab": {
          "base_uri": "https://localhost:8080/",
          "height": 556
        },
        "outputId": "b6d45da1-a61b-4928-e333-ce6d5f6ef4cb"
      },
      "execution_count": null,
      "outputs": [
        {
          "output_type": "display_data",
          "data": {
            "text/plain": [
              "<Figure size 1080x648 with 1 Axes>"
            ],
            "image/png": "[encoded data removed]"
          },
          "metadata": {}
        }
      ]
    },
    {
      "cell_type": "code",
      "source": [
        "\n",
        "selected_features = np.where(p_values<0.005)[0]\n",
        "X=X.iloc[0:,selected_features]\n"
      ],
      "metadata": {
        "id": "mH0fHGFiV0no"
      },
      "execution_count": null,
      "outputs": []
    },
    {
      "cell_type": "markdown",
      "source": [
        "---\n",
        "## Checking for Multicollinearity between features"
      ],
      "metadata": {
        "id": "CJhwQwF4bn_6"
      }
    },
    {
      "cell_type": "code",
      "source": [
        "\n",
        "from statsmodels.stats.outliers_influence import variance_inflation_factor\n"
      ],
      "metadata": {
        "id": "qIrqxOFdV0lQ"
      },
      "execution_count": null,
      "outputs": []
    },
    {
      "cell_type": "code",
      "source": [
        "# Function to caluclate VIF values of features.\n",
        "\n",
        "def vif_calc(X):\n",
        "    \n",
        "    vif = pd.DataFrame()\n",
        "    vif[\"variables\"] = X.columns\n",
        "    vif[\"VIF\"] = [variance_inflation_factor(X.values, i) for i in range(X.shape[1])]\n",
        " \n",
        "    return(vif)\n"
      ],
      "metadata": {
        "id": "I-F18MBgV0i9"
      },
      "execution_count": null,
      "outputs": []
    },
    {
      "cell_type": "code",
      "source": [
        "vif_calc(X)"
      ],
      "metadata": {
        "colab": {
          "base_uri": "https://localhost:8080/",
          "height": 332
        },
        "id": "w64m5x8rV0gf",
        "outputId": "f4131b66-8e9b-4932-b421-77fa1cb63298"
      },
      "execution_count": null,
      "outputs": [
        {
          "output_type": "execute_result",
          "data": {
            "text/plain": [
              "                          variables        VIF\n",
              "0                          duration   4.291308\n",
              "1                          comments   3.933046\n",
              "2               speaker_1_avg_views   6.344266\n",
              "3                   event_avg_views   9.088316\n",
              "4              occupation_avg_views   8.249010\n",
              "5             num_of_available_lang  10.476311\n",
              "6        published_date_month_March   1.114580\n",
              "7  published_date_day_name_Saturday   1.021061\n",
              "8    published_date_day_name_Sunday   1.030508"
            ],
            "text/html": [
              "\n",
              "  <div id=\"df-595c1d2d-4d9f-4297-b7db-72cba0e6286f\">\n",
              "    <div class=\"colab-df-container\">\n",
              "      <div>\n",
              "<style scoped>\n",
              "    .dataframe tbody tr th:only-of-type {\n",
              "        vertical-align: middle;\n",
              "    }\n",
              "\n",
              "    .dataframe tbody tr th {\n",
              "        vertical-align: top;\n",
              "    }\n",
              "\n",
              "    .dataframe thead th {\n",
              "        text-align: right;\n",
              "    }\n",
              "</style>\n",
              "<table border=\"1\" class=\"dataframe\">\n",
              "  <thead>\n",
              "    <tr style=\"text-align: right;\">\n",
              "      <th></th>\n",
              "      <th>variables</th>\n",
              "      <th>VIF</th>\n",
              "    </tr>\n",
              "  </thead>\n",
              "  <tbody>\n",
              "    <tr>\n",
              "      <th>0</th>\n",
              "      <td>duration</td>\n",
              "      <td>4.291308</td>\n",
              "    </tr>\n",
              "    <tr>\n",
              "      <th>1</th>\n",
              "      <td>comments</td>\n",
              "      <td>3.933046</td>\n",
              "    </tr>\n",
              "    <tr>\n",
              "      <th>2</th>\n",
              "      <td>speaker_1_avg_views</td>\n",
              "      <td>6.344266</td>\n",
              "    </tr>\n",
              "    <tr>\n",
              "      <th>3</th>\n",
              "      <td>event_avg_views</td>\n",
              "      <td>9.088316</td>\n",
              "    </tr>\n",
              "    <tr>\n",
              "      <th>4</th>\n",
              "      <td>occupation_avg_views</td>\n",
              "      <td>8.249010</td>\n",
              "    </tr>\n",
              "    <tr>\n",
              "      <th>5</th>\n",
              "      <td>num_of_available_lang</td>\n",
              "      <td>10.476311</td>\n",
              "    </tr>\n",
              "    <tr>\n",
              "      <th>6</th>\n",
              "      <td>published_date_month_March</td>\n",
              "      <td>1.114580</td>\n",
              "    </tr>\n",
              "    <tr>\n",
              "      <th>7</th>\n",
              "      <td>published_date_day_name_Saturday</td>\n",
              "      <td>1.021061</td>\n",
              "    </tr>\n",
              "    <tr>\n",
              "      <th>8</th>\n",
              "      <td>published_date_day_name_Sunday</td>\n",
              "      <td>1.030508</td>\n",
              "    </tr>\n",
              "  </tbody>\n",
              "</table>\n",
              "</div>\n",
              "      <button class=\"colab-df-convert\" onclick=\"convertToInteractive('df-595c1d2d-4d9f-4297-b7db-72cba0e6286f')\"\n",
              "              title=\"Convert this dataframe to an interactive table.\"\n",
              "              style=\"display:none;\">\n",
              "        \n",
              "  <svg xmlns=\"http://www.w3.org/2000/svg\" height=\"24px\"viewBox=\"0 0 24 24\"\n",
              "       width=\"24px\">\n",
              "    <path d=\"M0 0h24v24H0V0z\" fill=\"none\"/>\n",
              "    <path d=\"M18.56 5.44l.94 2.06.94-2.06 2.06-.94-2.06-.94-.94-2.06-.94 2.06-2.06.94zm-11 1L8.5 8.5l.94-2.06 2.06-.94-2.06-.94L8.5 2.5l-.94 2.06-2.06.94zm10 10l.94 2.06.94-2.06 2.06-.94-2.06-.94-.94-2.06-.94 2.06-2.06.94z\"/><path d=\"M17.41 7.96l-1.37-1.37c-.4-.4-.92-.59-1.43-.59-.52 0-1.04.2-1.43.59L10.3 9.45l-7.72 7.72c-.78.78-.78 2.05 0 2.83L4 21.41c.39.39.9.59 1.41.59.51 0 1.02-.2 1.41-.59l7.78-7.78 2.81-2.81c.8-.78.8-2.07 0-2.86zM5.41 20L4 18.59l7.72-7.72 1.47 1.35L5.41 20z\"/>\n",
              "  </svg>\n",
              "      </button>\n",
              "      \n",
              "  <style>\n",
              "    .colab-df-container {\n",
              "      display:flex;\n",
              "      flex-wrap:wrap;\n",
              "      gap: 12px;\n",
              "    }\n",
              "\n",
              "    .colab-df-convert {\n",
              "      background-color: #E8F0FE;\n",
              "      border: none;\n",
              "      border-radius: 50%;\n",
              "      cursor: pointer;\n",
              "      display: none;\n",
              "      fill: #1967D2;\n",
              "      height: 32px;\n",
              "      padding: 0 0 0 0;\n",
              "      width: 32px;\n",
              "    }\n",
              "\n",
              "    .colab-df-convert:hover {\n",
              "      background-color: #E2EBFA;\n",
              "      box-shadow: 0px 1px 2px rgba(60, 64, 67, 0.3), 0px 1px 3px 1px rgba(60, 64, 67, 0.15);\n",
              "      fill: #174EA6;\n",
              "    }\n",
              "\n",
              "    [theme=dark] .colab-df-convert {\n",
              "      background-color: #3B4455;\n",
              "      fill: #D2E3FC;\n",
              "    }\n",
              "\n",
              "    [theme=dark] .colab-df-convert:hover {\n",
              "      background-color: #434B5C;\n",
              "      box-shadow: 0px 1px 3px 1px rgba(0, 0, 0, 0.15);\n",
              "      filter: drop-shadow(0px 1px 2px rgba(0, 0, 0, 0.3));\n",
              "      fill: #FFFFFF;\n",
              "    }\n",
              "  </style>\n",
              "\n",
              "      <script>\n",
              "        const buttonEl =\n",
              "          document.querySelector('#df-595c1d2d-4d9f-4297-b7db-72cba0e6286f button.colab-df-convert');\n",
              "        buttonEl.style.display =\n",
              "          google.colab.kernel.accessAllowed ? 'block' : 'none';\n",
              "\n",
              "        async function convertToInteractive(key) {\n",
              "          const element = document.querySelector('#df-595c1d2d-4d9f-4297-b7db-72cba0e6286f');\n",
              "          const dataTable =\n",
              "            await google.colab.kernel.invokeFunction('convertToInteractive',\n",
              "                                                     [key], {});\n",
              "          if (!dataTable) return;\n",
              "\n",
              "          const docLinkHtml = 'Like what you see? Visit the ' +\n",
              "            '<a target=\"_blank\" href=https://colab.research.google.com/notebooks/data_table.ipynb>data table notebook</a>'\n",
              "            + ' to learn more about interactive tables.';\n",
              "          element.innerHTML = '';\n",
              "          dataTable['output_type'] = 'display_data';\n",
              "          await google.colab.output.renderOutput(dataTable, element);\n",
              "          const docLink = document.createElement('div');\n",
              "          docLink.innerHTML = docLinkHtml;\n",
              "          element.appendChild(docLink);\n",
              "        }\n",
              "      </script>\n",
              "    </div>\n",
              "  </div>\n",
              "  "
            ]
          },
          "metadata": {},
          "execution_count": 59
        }
      ]
    },
    {
      "cell_type": "code",
      "source": [
        "X.drop('num_of_available_lang',axis=1,inplace=True)"
      ],
      "metadata": {
        "id": "6J11yEU0V0ez"
      },
      "execution_count": null,
      "outputs": []
    },
    {
      "cell_type": "code",
      "source": [
        "vif_calc(X)"
      ],
      "metadata": {
        "colab": {
          "base_uri": "https://localhost:8080/",
          "height": 300
        },
        "id": "1KmTexiEbzm_",
        "outputId": "68f53601-af8b-4598-cdd4-c68648c75ca5"
      },
      "execution_count": null,
      "outputs": [
        {
          "output_type": "execute_result",
          "data": {
            "text/plain": [
              "                          variables       VIF\n",
              "0                          duration  4.236098\n",
              "1                          comments  3.491131\n",
              "2               speaker_1_avg_views  6.244480\n",
              "3                   event_avg_views  6.477145\n",
              "4              occupation_avg_views  8.059491\n",
              "5        published_date_month_March  1.114383\n",
              "6  published_date_day_name_Saturday  1.019134\n",
              "7    published_date_day_name_Sunday  1.029632"
            ],
            "text/html": [
              "\n",
              "  <div id=\"df-9d6c9413-dffd-49a5-baea-86a4cf247888\">\n",
              "    <div class=\"colab-df-container\">\n",
              "      <div>\n",
              "<style scoped>\n",
              "    .dataframe tbody tr th:only-of-type {\n",
              "        vertical-align: middle;\n",
              "    }\n",
              "\n",
              "    .dataframe tbody tr th {\n",
              "        vertical-align: top;\n",
              "    }\n",
              "\n",
              "    .dataframe thead th {\n",
              "        text-align: right;\n",
              "    }\n",
              "</style>\n",
              "<table border=\"1\" class=\"dataframe\">\n",
              "  <thead>\n",
              "    <tr style=\"text-align: right;\">\n",
              "      <th></th>\n",
              "      <th>variables</th>\n",
              "      <th>VIF</th>\n",
              "    </tr>\n",
              "  </thead>\n",
              "  <tbody>\n",
              "    <tr>\n",
              "      <th>0</th>\n",
              "      <td>duration</td>\n",
              "      <td>4.236098</td>\n",
              "    </tr>\n",
              "    <tr>\n",
              "      <th>1</th>\n",
              "      <td>comments</td>\n",
              "      <td>3.491131</td>\n",
              "    </tr>\n",
              "    <tr>\n",
              "      <th>2</th>\n",
              "      <td>speaker_1_avg_views</td>\n",
              "      <td>6.244480</td>\n",
              "    </tr>\n",
              "    <tr>\n",
              "      <th>3</th>\n",
              "      <td>event_avg_views</td>\n",
              "      <td>6.477145</td>\n",
              "    </tr>\n",
              "    <tr>\n",
              "      <th>4</th>\n",
              "      <td>occupation_avg_views</td>\n",
              "      <td>8.059491</td>\n",
              "    </tr>\n",
              "    <tr>\n",
              "      <th>5</th>\n",
              "      <td>published_date_month_March</td>\n",
              "      <td>1.114383</td>\n",
              "    </tr>\n",
              "    <tr>\n",
              "      <th>6</th>\n",
              "      <td>published_date_day_name_Saturday</td>\n",
              "      <td>1.019134</td>\n",
              "    </tr>\n",
              "    <tr>\n",
              "      <th>7</th>\n",
              "      <td>published_date_day_name_Sunday</td>\n",
              "      <td>1.029632</td>\n",
              "    </tr>\n",
              "  </tbody>\n",
              "</table>\n",
              "</div>\n",
              "      <button class=\"colab-df-convert\" onclick=\"convertToInteractive('df-9d6c9413-dffd-49a5-baea-86a4cf247888')\"\n",
              "              title=\"Convert this dataframe to an interactive table.\"\n",
              "              style=\"display:none;\">\n",
              "        \n",
              "  <svg xmlns=\"http://www.w3.org/2000/svg\" height=\"24px\"viewBox=\"0 0 24 24\"\n",
              "       width=\"24px\">\n",
              "    <path d=\"M0 0h24v24H0V0z\" fill=\"none\"/>\n",
              "    <path d=\"M18.56 5.44l.94 2.06.94-2.06 2.06-.94-2.06-.94-.94-2.06-.94 2.06-2.06.94zm-11 1L8.5 8.5l.94-2.06 2.06-.94-2.06-.94L8.5 2.5l-.94 2.06-2.06.94zm10 10l.94 2.06.94-2.06 2.06-.94-2.06-.94-.94-2.06-.94 2.06-2.06.94z\"/><path d=\"M17.41 7.96l-1.37-1.37c-.4-.4-.92-.59-1.43-.59-.52 0-1.04.2-1.43.59L10.3 9.45l-7.72 7.72c-.78.78-.78 2.05 0 2.83L4 21.41c.39.39.9.59 1.41.59.51 0 1.02-.2 1.41-.59l7.78-7.78 2.81-2.81c.8-.78.8-2.07 0-2.86zM5.41 20L4 18.59l7.72-7.72 1.47 1.35L5.41 20z\"/>\n",
              "  </svg>\n",
              "      </button>\n",
              "      \n",
              "  <style>\n",
              "    .colab-df-container {\n",
              "      display:flex;\n",
              "      flex-wrap:wrap;\n",
              "      gap: 12px;\n",
              "    }\n",
              "\n",
              "    .colab-df-convert {\n",
              "      background-color: #E8F0FE;\n",
              "      border: none;\n",
              "      border-radius: 50%;\n",
              "      cursor: pointer;\n",
              "      display: none;\n",
              "      fill: #1967D2;\n",
              "      height: 32px;\n",
              "      padding: 0 0 0 0;\n",
              "      width: 32px;\n",
              "    }\n",
              "\n",
              "    .colab-df-convert:hover {\n",
              "      background-color: #E2EBFA;\n",
              "      box-shadow: 0px 1px 2px rgba(60, 64, 67, 0.3), 0px 1px 3px 1px rgba(60, 64, 67, 0.15);\n",
              "      fill: #174EA6;\n",
              "    }\n",
              "\n",
              "    [theme=dark] .colab-df-convert {\n",
              "      background-color: #3B4455;\n",
              "      fill: #D2E3FC;\n",
              "    }\n",
              "\n",
              "    [theme=dark] .colab-df-convert:hover {\n",
              "      background-color: #434B5C;\n",
              "      box-shadow: 0px 1px 3px 1px rgba(0, 0, 0, 0.15);\n",
              "      filter: drop-shadow(0px 1px 2px rgba(0, 0, 0, 0.3));\n",
              "      fill: #FFFFFF;\n",
              "    }\n",
              "  </style>\n",
              "\n",
              "      <script>\n",
              "        const buttonEl =\n",
              "          document.querySelector('#df-9d6c9413-dffd-49a5-baea-86a4cf247888 button.colab-df-convert');\n",
              "        buttonEl.style.display =\n",
              "          google.colab.kernel.accessAllowed ? 'block' : 'none';\n",
              "\n",
              "        async function convertToInteractive(key) {\n",
              "          const element = document.querySelector('#df-9d6c9413-dffd-49a5-baea-86a4cf247888');\n",
              "          const dataTable =\n",
              "            await google.colab.kernel.invokeFunction('convertToInteractive',\n",
              "                                                     [key], {});\n",
              "          if (!dataTable) return;\n",
              "\n",
              "          const docLinkHtml = 'Like what you see? Visit the ' +\n",
              "            '<a target=\"_blank\" href=https://colab.research.google.com/notebooks/data_table.ipynb>data table notebook</a>'\n",
              "            + ' to learn more about interactive tables.';\n",
              "          element.innerHTML = '';\n",
              "          dataTable['output_type'] = 'display_data';\n",
              "          await google.colab.output.renderOutput(dataTable, element);\n",
              "          const docLink = document.createElement('div');\n",
              "          docLink.innerHTML = docLinkHtml;\n",
              "          element.appendChild(docLink);\n",
              "        }\n",
              "      </script>\n",
              "    </div>\n",
              "  </div>\n",
              "  "
            ]
          },
          "metadata": {},
          "execution_count": 61
        }
      ]
    },
    {
      "cell_type": "code",
      "source": [
        "X.drop('occupation_avg_views',axis=1,inplace=True)"
      ],
      "metadata": {
        "id": "dceFc4AXV0c0"
      },
      "execution_count": null,
      "outputs": []
    },
    {
      "cell_type": "code",
      "source": [
        "vif_calc(X)"
      ],
      "metadata": {
        "colab": {
          "base_uri": "https://localhost:8080/",
          "height": 269
        },
        "id": "2dxUwFW8V0a_",
        "outputId": "abee0a61-9b43-4674-ad7c-2ccfaff92880"
      },
      "execution_count": null,
      "outputs": [
        {
          "output_type": "execute_result",
          "data": {
            "text/plain": [
              "                          variables       VIF\n",
              "0                          duration  4.007279\n",
              "1                          comments  3.433229\n",
              "2               speaker_1_avg_views  4.303910\n",
              "3                   event_avg_views  5.980209\n",
              "4        published_date_month_March  1.113024\n",
              "5  published_date_day_name_Saturday  1.019085\n",
              "6    published_date_day_name_Sunday  1.029380"
            ],
            "text/html": [
              "\n",
              "  <div id=\"df-205bd983-962a-46af-b57f-e3778111ffe6\">\n",
              "    <div class=\"colab-df-container\">\n",
              "      <div>\n",
              "<style scoped>\n",
              "    .dataframe tbody tr th:only-of-type {\n",
              "        vertical-align: middle;\n",
              "    }\n",
              "\n",
              "    .dataframe tbody tr th {\n",
              "        vertical-align: top;\n",
              "    }\n",
              "\n",
              "    .dataframe thead th {\n",
              "        text-align: right;\n",
              "    }\n",
              "</style>\n",
              "<table border=\"1\" class=\"dataframe\">\n",
              "  <thead>\n",
              "    <tr style=\"text-align: right;\">\n",
              "      <th></th>\n",
              "      <th>variables</th>\n",
              "      <th>VIF</th>\n",
              "    </tr>\n",
              "  </thead>\n",
              "  <tbody>\n",
              "    <tr>\n",
              "      <th>0</th>\n",
              "      <td>duration</td>\n",
              "      <td>4.007279</td>\n",
              "    </tr>\n",
              "    <tr>\n",
              "      <th>1</th>\n",
              "      <td>comments</td>\n",
              "      <td>3.433229</td>\n",
              "    </tr>\n",
              "    <tr>\n",
              "      <th>2</th>\n",
              "      <td>speaker_1_avg_views</td>\n",
              "      <td>4.303910</td>\n",
              "    </tr>\n",
              "    <tr>\n",
              "      <th>3</th>\n",
              "      <td>event_avg_views</td>\n",
              "      <td>5.980209</td>\n",
              "    </tr>\n",
              "    <tr>\n",
              "      <th>4</th>\n",
              "      <td>published_date_month_March</td>\n",
              "      <td>1.113024</td>\n",
              "    </tr>\n",
              "    <tr>\n",
              "      <th>5</th>\n",
              "      <td>published_date_day_name_Saturday</td>\n",
              "      <td>1.019085</td>\n",
              "    </tr>\n",
              "    <tr>\n",
              "      <th>6</th>\n",
              "      <td>published_date_day_name_Sunday</td>\n",
              "      <td>1.029380</td>\n",
              "    </tr>\n",
              "  </tbody>\n",
              "</table>\n",
              "</div>\n",
              "      <button class=\"colab-df-convert\" onclick=\"convertToInteractive('df-205bd983-962a-46af-b57f-e3778111ffe6')\"\n",
              "              title=\"Convert this dataframe to an interactive table.\"\n",
              "              style=\"display:none;\">\n",
              "        \n",
              "  <svg xmlns=\"http://www.w3.org/2000/svg\" height=\"24px\"viewBox=\"0 0 24 24\"\n",
              "       width=\"24px\">\n",
              "    <path d=\"M0 0h24v24H0V0z\" fill=\"none\"/>\n",
              "    <path d=\"M18.56 5.44l.94 2.06.94-2.06 2.06-.94-2.06-.94-.94-2.06-.94 2.06-2.06.94zm-11 1L8.5 8.5l.94-2.06 2.06-.94-2.06-.94L8.5 2.5l-.94 2.06-2.06.94zm10 10l.94 2.06.94-2.06 2.06-.94-2.06-.94-.94-2.06-.94 2.06-2.06.94z\"/><path d=\"M17.41 7.96l-1.37-1.37c-.4-.4-.92-.59-1.43-.59-.52 0-1.04.2-1.43.59L10.3 9.45l-7.72 7.72c-.78.78-.78 2.05 0 2.83L4 21.41c.39.39.9.59 1.41.59.51 0 1.02-.2 1.41-.59l7.78-7.78 2.81-2.81c.8-.78.8-2.07 0-2.86zM5.41 20L4 18.59l7.72-7.72 1.47 1.35L5.41 20z\"/>\n",
              "  </svg>\n",
              "      </button>\n",
              "      \n",
              "  <style>\n",
              "    .colab-df-container {\n",
              "      display:flex;\n",
              "      flex-wrap:wrap;\n",
              "      gap: 12px;\n",
              "    }\n",
              "\n",
              "    .colab-df-convert {\n",
              "      background-color: #E8F0FE;\n",
              "      border: none;\n",
              "      border-radius: 50%;\n",
              "      cursor: pointer;\n",
              "      display: none;\n",
              "      fill: #1967D2;\n",
              "      height: 32px;\n",
              "      padding: 0 0 0 0;\n",
              "      width: 32px;\n",
              "    }\n",
              "\n",
              "    .colab-df-convert:hover {\n",
              "      background-color: #E2EBFA;\n",
              "      box-shadow: 0px 1px 2px rgba(60, 64, 67, 0.3), 0px 1px 3px 1px rgba(60, 64, 67, 0.15);\n",
              "      fill: #174EA6;\n",
              "    }\n",
              "\n",
              "    [theme=dark] .colab-df-convert {\n",
              "      background-color: #3B4455;\n",
              "      fill: #D2E3FC;\n",
              "    }\n",
              "\n",
              "    [theme=dark] .colab-df-convert:hover {\n",
              "      background-color: #434B5C;\n",
              "      box-shadow: 0px 1px 3px 1px rgba(0, 0, 0, 0.15);\n",
              "      filter: drop-shadow(0px 1px 2px rgba(0, 0, 0, 0.3));\n",
              "      fill: #FFFFFF;\n",
              "    }\n",
              "  </style>\n",
              "\n",
              "      <script>\n",
              "        const buttonEl =\n",
              "          document.querySelector('#df-205bd983-962a-46af-b57f-e3778111ffe6 button.colab-df-convert');\n",
              "        buttonEl.style.display =\n",
              "          google.colab.kernel.accessAllowed ? 'block' : 'none';\n",
              "\n",
              "        async function convertToInteractive(key) {\n",
              "          const element = document.querySelector('#df-205bd983-962a-46af-b57f-e3778111ffe6');\n",
              "          const dataTable =\n",
              "            await google.colab.kernel.invokeFunction('convertToInteractive',\n",
              "                                                     [key], {});\n",
              "          if (!dataTable) return;\n",
              "\n",
              "          const docLinkHtml = 'Like what you see? Visit the ' +\n",
              "            '<a target=\"_blank\" href=https://colab.research.google.com/notebooks/data_table.ipynb>data table notebook</a>'\n",
              "            + ' to learn more about interactive tables.';\n",
              "          element.innerHTML = '';\n",
              "          dataTable['output_type'] = 'display_data';\n",
              "          await google.colab.output.renderOutput(dataTable, element);\n",
              "          const docLink = document.createElement('div');\n",
              "          docLink.innerHTML = docLinkHtml;\n",
              "          element.appendChild(docLink);\n",
              "        }\n",
              "      </script>\n",
              "    </div>\n",
              "  </div>\n",
              "  "
            ]
          },
          "metadata": {},
          "execution_count": 63
        }
      ]
    },
    {
      "cell_type": "markdown",
      "source": [
        "# MODELS IMPLEMENTATION"
      ],
      "metadata": {
        "id": "BOTQSUpq5Fbg"
      }
    },
    {
      "cell_type": "markdown",
      "source": [
        "---\n",
        "# Linear Regression\n",
        "---"
      ],
      "metadata": {
        "id": "ftxnVIpXb-vx"
      }
    },
    {
      "cell_type": "code",
      "source": [
        "from sklearn.model_selection import train_test_split, KFold\n",
        "from sklearn.linear_model import LinearRegression\n",
        "from sklearn.metrics import r2_score\n",
        "from sklearn.metrics import mean_squared_error\n",
        "from sklearn.metrics import mean_absolute_error\n",
        "from sklearn.model_selection import cross_val_score"
      ],
      "metadata": {
        "id": "VqD6XDHmV0ZK"
      },
      "execution_count": null,
      "outputs": []
    },
    {
      "cell_type": "code",
      "source": [
        "X_train, X_test, y_train, y_test = train_test_split(X,y,test_size = 0.3, random_state=42)"
      ],
      "metadata": {
        "id": "8_eDT4C8V0XD"
      },
      "execution_count": null,
      "outputs": []
    },
    {
      "cell_type": "code",
      "source": [
        "# Fitting the model.\n",
        "\n",
        "reg = LinearRegression().fit(X_train, y_train)\n",
        "\n",
        "# Predicting the values for train and test data.\n",
        "y_train_pred = reg.predict(X_train)\n",
        "y_test_pred = reg.predict(X_test)\n",
        "\n",
        "# Mean Absolute Error of Training and Testing Data.\n",
        "LR_Train_MAE = mean_absolute_error(y_train, y_train_pred)\n",
        "print(\"Train Data MAE :\" , LR_Train_MAE)\n",
        "LR_Test_MAE = mean_absolute_error(y_test, y_test_pred)\n",
        "print(\"Test Data MAE :\" , LR_Test_MAE)\n",
        "\n",
        "# Mean Squared Error of Training and Testing Data.\n",
        "LR_Train_MSE = mean_squared_error((y_train), (y_train_pred))\n",
        "print(\"Train Data MSE :\" , LR_Train_MSE)\n",
        "LR_Test_MSE = mean_squared_error((y_test), (y_test_pred))\n",
        "print(\"Test Data MSE :\" , LR_Test_MSE)\n",
        "\n",
        "# Root Mean Squared error of Training and Testing Data.\n",
        "LR_Train_RMSE = np.sqrt(mean_squared_error((y_train), (y_train_pred)))\n",
        "print(\"Train Data RMSE:\" , LR_Train_RMSE)\n",
        "LR_Test_RMSE = np.sqrt(mean_squared_error((y_test), (y_test_pred)))\n",
        "print(\"Test Data RMSE:\" , LR_Test_RMSE)\n",
        "\n",
        "# Coefficient of determination of Training and Testing Data.\n",
        "LR_Train_R2 = r2_score((y_train), (y_train_pred))\n",
        "print(\"R2 :\" , LR_Train_R2)\n",
        "LR_Test_R2 = r2_score((y_test), (y_test_pred))\n",
        "print(\"R2 :\" , LR_Test_R2)\n",
        "\n",
        "# Adjusted R2 of Training and Testing Data.\n",
        "LR_Adjusted_R2 = 1-(1-r2_score((y_test), (y_test_pred)))*((X_test.shape[0]-1)/(X_test.shape[0]-X_test.shape[1]-1))\n",
        "print(\"Adjusted R2 : \", LR_Adjusted_R2)\n"
      ],
      "metadata": {
        "id": "xBGlXKs2V0UG",
        "colab": {
          "base_uri": "https://localhost:8080/"
        },
        "outputId": "f23b7333-1b17-43e8-d4d1-347182ee9e37"
      },
      "execution_count": null,
      "outputs": [
        {
          "output_type": "stream",
          "name": "stdout",
          "text": [
            "Train Data MAE : 269752.95104541804\n",
            "Test Data MAE : 253960.9399046614\n",
            "Train Data MSE : 241727287163.64017\n",
            "Test Data MSE : 204723896792.73013\n",
            "Train Data RMSE: 491657.6930788739\n",
            "Test Data RMSE: 452464.24918741384\n",
            "R2 : 0.8019581669038164\n",
            "R2 : 0.8301124981970256\n",
            "Adjusted R2 :  0.8291165078179462\n"
          ]
        }
      ]
    },
    {
      "cell_type": "markdown",
      "source": [
        "---\n",
        "# Lasso Regularization\n",
        "---"
      ],
      "metadata": {
        "id": "v3k5R_aScJdg"
      }
    },
    {
      "cell_type": "code",
      "source": [
        "\n",
        "from sklearn.linear_model import Lasso\n",
        "from sklearn.model_selection import GridSearchCV\n",
        "parameters = {'alpha': [ 1e-24, 1e-21, 1e-18, 1e-15,1e-13,1e-10,1e-8,1e-5,1e-4,1e-3,1e-2,1e-1,1,5,10,20,30,40,45,50,55,60,100,110,120,150,160,170,200]}\n",
        "lasso = Lasso()\n",
        "lasso_regressor = GridSearchCV(lasso, parameters, scoring='neg_mean_squared_error', cv=5)\n",
        "lasso_regressor.fit(X_train, y_train)\n"
      ],
      "metadata": {
        "colab": {
          "base_uri": "https://localhost:8080/"
        },
        "id": "1iiyRTRqCA40",
        "outputId": "7d8d9970-0d94-41ef-cf05-5964cfea509e"
      },
      "execution_count": null,
      "outputs": [
        {
          "output_type": "execute_result",
          "data": {
            "text/plain": [
              "GridSearchCV(cv=5, estimator=Lasso(),\n",
              "             param_grid={'alpha': [1e-24, 1e-21, 1e-18, 1e-15, 1e-13, 1e-10,\n",
              "                                   1e-08, 1e-05, 0.0001, 0.001, 0.01, 0.1, 1, 5,\n",
              "                                   10, 20, 30, 40, 45, 50, 55, 60, 100, 110,\n",
              "                                   120, 150, 160, 170, 200]},\n",
              "             scoring='neg_mean_squared_error')"
            ]
          },
          "metadata": {},
          "execution_count": 112
        }
      ]
    },
    {
      "cell_type": "code",
      "source": [
        "\n",
        "print(\"The best fit alpha value is found out to be :\" ,lasso_regressor.best_params_)\n",
        "print(\"\\nUsing \",lasso_regressor.best_params_, \" the negative mean squared error is: \", lasso_regressor.best_score_)\n",
        "     "
      ],
      "metadata": {
        "colab": {
          "base_uri": "https://localhost:8080/"
        },
        "id": "jOOZUihJCA0s",
        "outputId": "8027d0b4-f71e-4c95-ba5b-71593c9fdf82"
      },
      "execution_count": null,
      "outputs": [
        {
          "output_type": "stream",
          "name": "stdout",
          "text": [
            "The best fit alpha value is found out to be : {'alpha': 1e-13}\n",
            "\n",
            "Using  {'alpha': 1e-13}  the negative mean squared error is:  -243681084237.1347\n"
          ]
        }
      ]
    },
    {
      "cell_type": "code",
      "source": [
        "# Fitting the model.\n",
        "\n",
        "lasso  = Lasso(alpha=1e-13 , max_iter= 3000)\n",
        "lasso.fit(X_train, y_train)\n",
        "\n",
        "# Predicting the values for train and test data.\n",
        "y_train_pred = reg.predict(X_train)\n",
        "y_test_pred = reg.predict(X_test)\n",
        "\n",
        "# Mean Absolute Error of Training and Testing Data.\n",
        "LA_Train_MAE = mean_absolute_error(y_train, y_train_pred)\n",
        "print(\"Train Data MAE :\" , LA_Train_MAE)\n",
        "LA_Test_MAE = mean_absolute_error(y_test, y_test_pred)\n",
        "print(\"Test Data MAE :\" , LA_Test_MAE)\n",
        "\n",
        "# Mean Squared Error of Training and Testing Data.\n",
        "LA_Train_MSE = mean_squared_error((y_train), (y_train_pred))\n",
        "print(\"Train Data MSE :\" , LA_Train_MSE)\n",
        "LA_Test_MSE = mean_squared_error((y_test), (y_test_pred))\n",
        "print(\"Test Data MSE :\" , LA_Test_MSE)\n",
        "\n",
        "# Root Mean Squared error of Training and Testing Data.\n",
        "LA_Train_RMSE = np.sqrt(mean_squared_error((y_train), (y_train_pred)))\n",
        "print(\"Train Data RMSE:\" , LA_Train_RMSE)\n",
        "LA_Test_RMSE = np.sqrt(mean_squared_error((y_test), (y_test_pred)))\n",
        "print(\"Test Data RMSE:\" , LA_Test_RMSE)\n",
        "\n",
        "# Coefficient of determination of Training and Testing Data.\n",
        "LA_Train_R2 = r2_score((y_train), (y_train_pred))\n",
        "print(\"R2 :\" , LA_Train_R2)\n",
        "LA_Test_R2 = r2_score((y_test), (y_test_pred))\n",
        "print(\"R2 :\" , LA_Test_R2)\n",
        "\n",
        "# Adjusted R2 of Training and Testing Data.\n",
        "LA_Adjusted_R2 = 1-(1-r2_score((y_test), (y_test_pred)))*((X_test.shape[0]-1)/(X_test.shape[0]-X_test.shape[1]-1))\n",
        "print(\"Adjusted R2 : \", LA_Adjusted_R2)\n"
      ],
      "metadata": {
        "colab": {
          "base_uri": "https://localhost:8080/"
        },
        "id": "UEcH1gXXCV88",
        "outputId": "f67a768b-f339-4dfd-e67d-b6c62eb66d0b"
      },
      "execution_count": null,
      "outputs": [
        {
          "output_type": "stream",
          "name": "stdout",
          "text": [
            "Train Data MAE : 269752.95104541804\n",
            "Test Data MAE : 253960.9399046614\n",
            "Train Data MSE : 241727287163.64017\n",
            "Test Data MSE : 204723896792.73013\n",
            "Train Data RMSE: 491657.6930788739\n",
            "Test Data RMSE: 452464.24918741384\n",
            "R2 : 0.8019581669038164\n",
            "R2 : 0.8301124981970256\n",
            "Adjusted R2 :  0.8291165078179462\n"
          ]
        }
      ]
    },
    {
      "cell_type": "markdown",
      "source": [
        "---\n",
        "# Ridge Regularization\n",
        "---"
      ],
      "metadata": {
        "id": "mv6RjbMXC-6E"
      }
    },
    {
      "cell_type": "code",
      "source": [
        "from sklearn.linear_model import Ridge\n",
        "RI = Ridge()\n",
        "parameters = {'alpha': [1e-15,1e-10,1e-8,1e-5,1e-4,1e-3,1e-2,1,5,10,20,30,40,45,50,55,60,100, 5000]}\n",
        "R_R = GridSearchCV(RI, parameters, cv=5)\n",
        "R_R.fit(X_train,y_train)"
      ],
      "metadata": {
        "colab": {
          "base_uri": "https://localhost:8080/"
        },
        "id": "ek-TQ80cCVtq",
        "outputId": "e0766132-37fc-4567-c643-aa02775d3d83"
      },
      "execution_count": null,
      "outputs": [
        {
          "output_type": "execute_result",
          "data": {
            "text/plain": [
              "GridSearchCV(cv=5, estimator=Ridge(),\n",
              "             param_grid={'alpha': [1e-15, 1e-10, 1e-08, 1e-05, 0.0001, 0.001,\n",
              "                                   0.01, 1, 5, 10, 20, 30, 40, 45, 50, 55, 60,\n",
              "                                   100, 5000]})"
            ]
          },
          "metadata": {},
          "execution_count": 115
        }
      ]
    },
    {
      "cell_type": "code",
      "source": [
        "print(R_R.best_params_)"
      ],
      "metadata": {
        "colab": {
          "base_uri": "https://localhost:8080/"
        },
        "id": "M6exH4t0CVqF",
        "outputId": "b9607a1a-f62a-4c66-ec3f-2d579dcc43d4"
      },
      "execution_count": null,
      "outputs": [
        {
          "output_type": "stream",
          "name": "stdout",
          "text": [
            "{'alpha': 5000}\n"
          ]
        }
      ]
    },
    {
      "cell_type": "code",
      "source": [
        "# Predicting the values for train and test data.\n",
        "y_train_pred = R_R.predict(X_train)\n",
        "y_test_pred = R_R.predict(X_test)\n",
        "\n",
        "# Mean Absolute Error of Training and Testing Data.\n",
        "RR_Train_MAE = mean_absolute_error(y_train, y_train_pred)\n",
        "print(\"Train Data MAE :\" , RR_Train_MAE)\n",
        "RR_Test_MAE = mean_absolute_error(y_test, y_test_pred)\n",
        "print(\"Test Data MAE :\" , RR_Test_MAE)\n",
        "\n",
        "# Mean Squared Error of Training and Testing Data.\n",
        "RR_Train_MSE = mean_squared_error((y_train), (y_train_pred))\n",
        "print(\"Train Data MSE :\" , RR_Train_MSE)\n",
        "RR_Test_MSE = mean_squared_error((y_test), (y_test_pred))\n",
        "print(\"Test Data MSE :\" , RR_Test_MSE)\n",
        "\n",
        "# Root Mean Squared error of Training and Testing Data.\n",
        "RR_Train_RMSE = np.sqrt(mean_squared_error((y_train), (y_train_pred)))\n",
        "print(\"Train Data RMSE:\" , RR_Train_RMSE)\n",
        "RR_Test_RMSE = np.sqrt(mean_squared_error((y_test), (y_test_pred)))\n",
        "print(\"Test Data RMSE:\" , RR_Test_RMSE)\n",
        "\n",
        "# Coefficient of determination of Training and Testing Data.\n",
        "RR_Train_R2 = r2_score((y_train), (y_train_pred))\n",
        "print(\"R2 :\" , RR_Train_R2)\n",
        "RR_Test_R2 = r2_score((y_test), (y_test_pred))\n",
        "print(\"R2 :\" , RR_Test_R2)\n",
        "\n",
        "# Adjusted R2 of Training and Testing Data.\n",
        "RR_Adjusted_R2 = 1-(1-r2_score((y_test), (y_test_pred)))*((X_test.shape[0]-1)/(X_test.shape[0]-X_test.shape[1]-1))\n",
        "print(\"Adjusted R2 : \", RR_Adjusted_R2)\n"
      ],
      "metadata": {
        "colab": {
          "base_uri": "https://localhost:8080/"
        },
        "id": "SZnd0ufNCAm_",
        "outputId": "40b892b8-c983-4a52-9f08-b1aca79ae1dd"
      },
      "execution_count": null,
      "outputs": [
        {
          "output_type": "stream",
          "name": "stdout",
          "text": [
            "Train Data MAE : 269299.57801755075\n",
            "Test Data MAE : 253951.5150508975\n",
            "Train Data MSE : 242101043315.0592\n",
            "Test Data MSE : 205743961532.166\n",
            "Train Data RMSE: 492037.6442052571\n",
            "Test Data RMSE: 453590.0809455229\n",
            "R2 : 0.8016519567352147\n",
            "R2 : 0.8292660105471958\n",
            "Adjusted R2 :  0.8282650575102029\n"
          ]
        }
      ]
    },
    {
      "cell_type": "markdown",
      "source": [
        "---\n",
        "# Elastic Net Regularization\n",
        "---"
      ],
      "metadata": {
        "id": "QFJNGDBbDyQV"
      }
    },
    {
      "cell_type": "code",
      "source": [
        "\n",
        "from sklearn.linear_model import ElasticNet\n",
        "elastic = ElasticNet()\n",
        "parameters = {'alpha': [1e-15,1e-13,1e-10,1e-8,1e-5,1e-4,1e-3,1e-2,1e-1,1,5,10,20,30,40,45,50,55,60,100,110,120,150],'l1_ratio':[0.3,0.4,0.5,0.6,0.7,0.8,0.9,1.0]}\n",
        "elastic_regressor = GridSearchCV(elastic, parameters, scoring='neg_mean_squared_error',cv=5)\n",
        "elastic_regressor.fit(X_train, y_train)\n"
      ],
      "metadata": {
        "colab": {
          "base_uri": "https://localhost:8080/"
        },
        "id": "BdFJr2CfDzp0",
        "outputId": "c990471a-fa9e-4fb5-f05f-30d76ba82ec4"
      },
      "execution_count": null,
      "outputs": [
        {
          "output_type": "execute_result",
          "data": {
            "text/plain": [
              "GridSearchCV(cv=5, estimator=ElasticNet(),\n",
              "             param_grid={'alpha': [1e-15, 1e-13, 1e-10, 1e-08, 1e-05, 0.0001,\n",
              "                                   0.001, 0.01, 0.1, 1, 5, 10, 20, 30, 40, 45,\n",
              "                                   50, 55, 60, 100, 110, 120, 150],\n",
              "                         'l1_ratio': [0.3, 0.4, 0.5, 0.6, 0.7, 0.8, 0.9, 1.0]},\n",
              "             scoring='neg_mean_squared_error')"
            ]
          },
          "metadata": {},
          "execution_count": 118
        }
      ]
    },
    {
      "cell_type": "code",
      "source": [
        "\n",
        "print(\"The best fit alpha value is found out to be :\" ,elastic_regressor.best_params_)\n",
        "print(\"\\nUsing \",elastic_regressor.best_params_, \" the negative mean squared error is: \", elastic_regressor.best_score_)\n"
      ],
      "metadata": {
        "colab": {
          "base_uri": "https://localhost:8080/"
        },
        "id": "ABy9VT-JDznG",
        "outputId": "67b92875-4a30-4603-bf24-af67e9c59e61"
      },
      "execution_count": null,
      "outputs": [
        {
          "output_type": "stream",
          "name": "stdout",
          "text": [
            "The best fit alpha value is found out to be : {'alpha': 100, 'l1_ratio': 0.3}\n",
            "\n",
            "Using  {'alpha': 100, 'l1_ratio': 0.3}  the negative mean squared error is:  -243334399227.13428\n"
          ]
        }
      ]
    },
    {
      "cell_type": "code",
      "source": [
        "# Predicting the values for train and test data.\n",
        "y_train_pred = elastic_regressor.predict(X_train)\n",
        "y_test_pred = elastic_regressor.predict(X_test)\n",
        "\n",
        "# Mean Absolute Error of Training and Testing Data.\n",
        "ER_Train_MAE = mean_absolute_error(y_train, y_train_pred)\n",
        "print(\"Train Data MAE :\" , ER_Train_MAE)\n",
        "ER_Test_MAE = mean_absolute_error(y_test, y_test_pred)\n",
        "print(\"Test Data MAE :\" , ER_Test_MAE)\n",
        "\n",
        "# Mean Squared Error of Training and Testing Data.\n",
        "ER_Train_MSE = mean_squared_error((y_train), (y_train_pred))\n",
        "print(\"Train Data MSE :\" , ER_Train_MSE)\n",
        "ER_Test_MSE = mean_squared_error((y_test), (y_test_pred))\n",
        "print(\"Test Data MSE :\" , ER_Test_MSE)\n",
        "\n",
        "# Root Mean Squared error of Training and Testing Data.\n",
        "ER_Train_RMSE = np.sqrt(mean_squared_error((y_train), (y_train_pred)))\n",
        "print(\"Train Data RMSE:\" , ER_Train_RMSE)\n",
        "ER_Test_RMSE = np.sqrt(mean_squared_error((y_test), (y_test_pred)))\n",
        "print(\"Test Data RMSE:\" , ER_Test_RMSE)\n",
        "\n",
        "# Coefficient of determination of Training and Testing Data.\n",
        "ER_Train_R2 = r2_score((y_train), (y_train_pred))\n",
        "print(\"R2 :\" , ER_Train_R2)\n",
        "ER_Test_R2 = r2_score((y_test), (y_test_pred))\n",
        "print(\"R2 :\" , ER_Test_R2)\n",
        "\n",
        "# Adjusted R2 of Training and Testing Data.\n",
        "ER_Adjusted_R2 = 1-(1-r2_score((y_test), (y_test_pred)))*((X_test.shape[0]-1)/(X_test.shape[0]-X_test.shape[1]-1))\n",
        "print(\"Adjusted R2 : \", ER_Adjusted_R2)\n"
      ],
      "metadata": {
        "colab": {
          "base_uri": "https://localhost:8080/"
        },
        "id": "24r7GG3IDzh4",
        "outputId": "bd0bb742-2c76-4a9d-a427-a2c4af2969f8"
      },
      "execution_count": null,
      "outputs": [
        {
          "output_type": "stream",
          "name": "stdout",
          "text": [
            "Train Data MAE : 269231.9476119404\n",
            "Test Data MAE : 253899.85529762367\n",
            "Train Data MSE : 242113183686.40677\n",
            "Test Data MSE : 205778301309.6862\n",
            "Train Data RMSE: 492049.98088243714\n",
            "Test Data RMSE: 453627.93268237595\n",
            "R2 : 0.8016420103968251\n",
            "R2 : 0.8292375141229544\n",
            "Adjusted R2 :  0.8282363940214977\n"
          ]
        }
      ]
    },
    {
      "cell_type": "markdown",
      "source": [
        "---\n",
        "# Decision Tree Regression \n",
        "---"
      ],
      "metadata": {
        "id": "2a1hG8Wm6wwi"
      }
    },
    {
      "cell_type": "code",
      "source": [
        "from sklearn.tree import DecisionTreeRegressor\n",
        "from sklearn import metrics\n",
        "from sklearn.model_selection import GridSearchCV"
      ],
      "metadata": {
        "id": "IUOFLEK-dz1F"
      },
      "execution_count": null,
      "outputs": []
    },
    {
      "cell_type": "code",
      "source": [
        "param_grid = {'max_depth':[1, 2, 3, 4, 5, 6, 7, 8, 9, 10, 11, 12, 13, 14, 15],'criterion':['mse','mae']}\n",
        "CV = GridSearchCV(DecisionTreeRegressor(),param_grid=param_grid, cv=5)\n",
        "CV.fit(X_train,y_train)\n",
        "CV.best_params_"
      ],
      "metadata": {
        "id": "B52rm7aCdzyP",
        "colab": {
          "base_uri": "https://localhost:8080/"
        },
        "outputId": "59a29e14-06ab-4437-9e23-590cc1db17ca"
      },
      "execution_count": null,
      "outputs": [
        {
          "output_type": "execute_result",
          "data": {
            "text/plain": [
              "{'criterion': 'mse', 'max_depth': 5}"
            ]
          },
          "metadata": {},
          "execution_count": 122
        }
      ]
    },
    {
      "cell_type": "code",
      "source": [
        "# Fitting the model.\n",
        "\n",
        "DTR = DecisionTreeRegressor(criterion = 'mse', max_depth=4)\n",
        "DTR.fit(X_train,y_train)\n",
        "\n",
        "# Predicting the values for train and test data.\n",
        "y_train_pred = DTR.predict(X_train)\n",
        "y_test_pred = DTR.predict(X_test)\n",
        "\n",
        "# Mean Absolute Error of Training and Testing Data.\n",
        "DTR_Train_MAE = mean_absolute_error(y_train, y_train_pred)\n",
        "print(\"Train Data MAE :\" , DTR_Train_MAE)\n",
        "DTR_Test_MAE = mean_absolute_error(y_test, y_test_pred)\n",
        "print(\"Test Data MAE :\" , DTR_Test_MAE)\n",
        "\n",
        "# Mean Squared Error of Training and Testing Data.\n",
        "DTR_Train_MSE = mean_squared_error((y_train), (y_train_pred))\n",
        "print(\"Train Data MSE :\" , DTR_Train_MSE)\n",
        "DTR_Test_MSE = mean_squared_error((y_test), (y_test_pred))\n",
        "print(\"Test Data MSE :\" , DTR_Test_MSE)\n",
        "\n",
        "# Root Mean Squared error of test data.\n",
        "DTR_Train_RMSE = np.sqrt(mean_squared_error((y_train), (y_train_pred)))\n",
        "print(\"Train Data RMSE:\" , DTR_Train_RMSE)\n",
        "DTR_Test_RMSE = np.sqrt(mean_squared_error((y_test), (y_test_pred)))\n",
        "print(\"Test Data RMSE :\" , DTR_Test_RMSE)\n",
        "\n",
        "# Coefficient of determination of test data.\n",
        "DTR_Train_R2 = r2_score((y_train), (y_train_pred))\n",
        "print(\"R2 :\" , DTR_Train_R2)\n",
        "DTR_Test_R2 = r2_score((y_test), (y_test_pred))\n",
        "print(\"R2 :\" , DTR_Test_R2)\n",
        "\n",
        "# Adjusted R2 of test data.\n",
        "DTR_Adjusted_R2 = 1-(1-r2_score((y_test), (y_test_pred)))*((X_test.shape[0]-1)/(X_test.shape[0]-X_test.shape[1]-1))\n",
        "print(\"Adjusted R2 : \", DTR_Adjusted_R2)\n"
      ],
      "metadata": {
        "id": "ZY--QVW4dzwR",
        "colab": {
          "base_uri": "https://localhost:8080/"
        },
        "outputId": "705cf5a3-69c5-4317-f85f-2f45316b9d61"
      },
      "execution_count": null,
      "outputs": [
        {
          "output_type": "stream",
          "name": "stdout",
          "text": [
            "Train Data MAE : 250880.5491515649\n",
            "Test Data MAE : 250674.39799746612\n",
            "Train Data MSE : 211519337118.7256\n",
            "Test Data MSE : 219410679445.0487\n",
            "Train Data RMSE: 459912.31459782156\n",
            "Test Data RMSE : 468412.93688907515\n",
            "R2 : 0.8267068738916334\n",
            "R2 : 0.8179248598537998\n",
            "Adjusted R2 :  0.8168574176586378\n"
          ]
        }
      ]
    },
    {
      "cell_type": "markdown",
      "source": [
        "---\n",
        "# Random Forest Regressor \n",
        "---"
      ],
      "metadata": {
        "id": "U832CQh77OHV"
      }
    },
    {
      "cell_type": "code",
      "source": [
        "from sklearn.ensemble import RandomForestRegressor"
      ],
      "metadata": {
        "id": "VLTHqUoVdztj"
      },
      "execution_count": null,
      "outputs": []
    },
    {
      "cell_type": "code",
      "source": [
        "RFR = RandomForestRegressor(n_estimators = 10, random_state = 0)"
      ],
      "metadata": {
        "id": "xIZC_rXxdzqw"
      },
      "execution_count": null,
      "outputs": []
    },
    {
      "cell_type": "code",
      "source": [
        "RFR.fit(X_train, y_train)\n",
        "y_train_pred = RFR.predict(X_train)\n",
        "y_test_pred = RFR.predict(X_test)"
      ],
      "metadata": {
        "id": "eJsdk2G6dzn7"
      },
      "execution_count": null,
      "outputs": []
    },
    {
      "cell_type": "code",
      "source": [
        "# Mean Absolute Error of Training and Testing Data.\n",
        "RFR_Train_MAE = mean_absolute_error(y_train, y_train_pred)\n",
        "print(\"Train Data MAE :\" , RFR_Train_MAE)\n",
        "RFR_Test_MAE = mean_absolute_error(y_test, y_test_pred)\n",
        "print(\"Test Data MAE :\" , RFR_Test_MAE)\n",
        "\n",
        "# Mean Squared Error of Training and Testing Data.\n",
        "RFR_Train_MSE = mean_squared_error((y_train), (y_train_pred))\n",
        "print(\"Train Data MSE :\" , RFR_Train_MSE)\n",
        "RFR_Test_MSE = mean_squared_error((y_test), (y_test_pred))\n",
        "print(\"Test Data MSE :\" , RFR_Test_MSE)\n",
        "\n",
        "# Root Mean Squared error of test data.\n",
        "RFR_Train_RMSE = np.sqrt(mean_squared_error((y_train), (y_train_pred)))\n",
        "print(\"Train Data RMSE:\" , RFR_Train_RMSE)\n",
        "RFR_Test_RMSE = np.sqrt(mean_squared_error((y_test), (y_test_pred)))\n",
        "print(\"Test Data RMSE :\" , RFR_Test_RMSE)\n",
        "\n",
        "# Coefficient of determination of test data.\n",
        "RFR_Train_R2 = r2_score((y_train), (y_train_pred))\n",
        "print(\"R2 :\" , RFR_Train_R2)\n",
        "RFR_Test_R2 = r2_score((y_test), (y_test_pred))\n",
        "print(\"R2 :\" , RFR_Test_R2)\n",
        "\n",
        "# Adjusted R2 of test data.\n",
        "RFR_Adjusted_R2 = 1-(1-r2_score((y_test), (y_test_pred)))*((X_test.shape[0]-1)/(X_test.shape[0]-X_test.shape[1]-1))\n",
        "print(\"Adjusted R2 : \", RFR_Adjusted_R2)\n"
      ],
      "metadata": {
        "id": "t34mJz84dzlz",
        "colab": {
          "base_uri": "https://localhost:8080/"
        },
        "outputId": "d939af36-364c-49f6-f732-65bb9ecbc0c1"
      },
      "execution_count": null,
      "outputs": [
        {
          "output_type": "stream",
          "name": "stdout",
          "text": [
            "Train Data MAE : 102541.84528907923\n",
            "Test Data MAE : 223349.83035773708\n",
            "Train Data MSE : 51253127220.25843\n",
            "Test Data MSE : 214789355616.22217\n",
            "Train Data RMSE: 226391.53522218633\n",
            "Test Data RMSE : 463453.725431377\n",
            "R2 : 0.9580094436763338\n",
            "R2 : 0.8217598062015472\n",
            "Adjusted R2 :  0.8207148469414223\n"
          ]
        }
      ]
    },
    {
      "cell_type": "markdown",
      "source": [
        "* Hyperparametric Tuning"
      ],
      "metadata": {
        "id": "e0VhT9o-7dgL"
      }
    },
    {
      "cell_type": "code",
      "source": [
        "RFR_H = RandomForestRegressor(criterion='mae')\n",
        "grid_values = {'n_estimators':[50, 60, 70, 80, 90, 100 ], 'max_depth':[ 3, 4, 5, 6, 7, ]}\n",
        "RFR_H_grid = GridSearchCV(RFR_H, param_grid = grid_values, cv=3, n_jobs=-1)\n",
        "\n",
        "# Fit the object to train dataset\n",
        "RFR_H_grid.fit(X_train, y_train)"
      ],
      "metadata": {
        "id": "SD7yU0jqdziX",
        "colab": {
          "base_uri": "https://localhost:8080/"
        },
        "outputId": "37ec2b8c-aef0-44dc-e5da-074434a8d671"
      },
      "execution_count": null,
      "outputs": [
        {
          "output_type": "execute_result",
          "data": {
            "text/plain": [
              "GridSearchCV(cv=3, estimator=RandomForestRegressor(criterion='mae'), n_jobs=-1,\n",
              "             param_grid={'max_depth': [3, 4, 5, 6, 7],\n",
              "                         'n_estimators': [50, 60, 70, 80, 90, 100]})"
            ]
          },
          "metadata": {},
          "execution_count": 128
        }
      ]
    },
    {
      "cell_type": "code",
      "source": [
        "RFR_H_grid_optimal_model = RFR_H_grid.best_estimator_"
      ],
      "metadata": {
        "id": "L7teFl0Sdzf8"
      },
      "execution_count": null,
      "outputs": []
    },
    {
      "cell_type": "code",
      "source": [
        "y_train_pred =  RFR_H_grid_optimal_model.predict(X_train)\n",
        "y_test_pred  = RFR_H_grid_optimal_model.predict(X_test)"
      ],
      "metadata": {
        "id": "fJT9cONWdzcs"
      },
      "execution_count": null,
      "outputs": []
    },
    {
      "cell_type": "code",
      "source": [
        "# Mean Absolute Error of Training and Testing Data.\n",
        "RFR_Train_MAE = mean_absolute_error(y_train, y_train_pred)\n",
        "print(\"Train Data MAE :\" , RFR_Train_MAE)\n",
        "RFR_Test_MAE = mean_absolute_error(y_test, y_test_pred)\n",
        "print(\"Test Data MAE :\" , RFR_Test_MAE)\n",
        "\n",
        "# Mean Squared Error of Training and Testing Data.\n",
        "RFR_Train_MSE = mean_squared_error((y_train), (y_train_pred))\n",
        "print(\"Train Data MSE :\" , RFR_Train_MSE)\n",
        "RFR_Test_MSE = mean_squared_error((y_test), (y_test_pred))\n",
        "print(\"Test Data MSE :\" , RFR_Test_MSE)\n",
        "\n",
        "# Root Mean Squared error of test data.\n",
        "RFR_Train_RMSE = np.sqrt(mean_squared_error((y_train), (y_train_pred)))\n",
        "print(\"Train Data RMSE:\" , RFR_Train_RMSE)\n",
        "RFR_Test_RMSE = np.sqrt(mean_squared_error((y_test), (y_test_pred)))\n",
        "print(\"Test Data RMSE :\" , RFR_Test_RMSE)\n",
        "\n",
        "# Coefficient of determination of test data.\n",
        "RFR_Train_R2 = r2_score((y_train), (y_train_pred))\n",
        "print(\"R2 :\" , RFR_Train_R2)\n",
        "RFR_Test_R2 = r2_score((y_test), (y_test_pred))\n",
        "print(\"R2 :\" , RFR_Test_R2)\n",
        "\n",
        "# Adjusted R2 of test data.\n",
        "RFR_Adjusted_R2 = 1-(1-r2_score((y_test), (y_test_pred)))*((X_test.shape[0]-1)/(X_test.shape[0]-X_test.shape[1]-1))\n",
        "print(\"Adjusted R2 : \", RFR_Adjusted_R2)\n"
      ],
      "metadata": {
        "id": "Giz5i72Kdzak",
        "colab": {
          "base_uri": "https://localhost:8080/"
        },
        "outputId": "cb69ba74-4f8e-413b-b3cb-f454f96a0d13"
      },
      "execution_count": null,
      "outputs": [
        {
          "output_type": "stream",
          "name": "stdout",
          "text": [
            "Train Data MAE : 168247.9703030998\n",
            "Test Data MAE : 176522.68071963397\n",
            "Train Data MSE : 176470442048.45337\n",
            "Test Data MSE : 196908064174.25073\n",
            "Train Data RMSE: 420083.8512112235\n",
            "Test Data RMSE : 443743.24127162853\n",
            "R2 : 0.8554216603319975\n",
            "R2 : 0.8365983667197804\n",
            "Adjusted R2 :  0.8356404006955245\n"
          ]
        }
      ]
    },
    {
      "cell_type": "code",
      "source": [
        "# getting features according to their importance in prediction\n",
        "\n",
        "features = X_train.columns\n",
        "importances = RFR_H_grid.best_estimator_.feature_importances_\n",
        "indices = np.argsort(importances)\n",
        "\n",
        "plt.figure(figsize=(10,6))\n",
        "plt.bar(x=features, height=importances, color='aqua')\n",
        "plt.title('Feature Importances for RF Model', size=20)\n",
        "plt.xticks(rotation='vertical')\n",
        "plt.show()"
      ],
      "metadata": {
        "id": "1XSR27RrdzXt",
        "colab": {
          "base_uri": "https://localhost:8080/",
          "height": 590
        },
        "outputId": "22ecaf2d-421e-432d-9957-b820cd4e884a"
      },
      "execution_count": null,
      "outputs": [
        {
          "output_type": "display_data",
          "data": {
            "text/plain": [
              "<Figure size 720x432 with 1 Axes>"
            ],
            "image/png": "[encoded data removed]"
          },
          "metadata": {}
        }
      ]
    },
    {
      "cell_type": "markdown",
      "source": [
        "---\n",
        "# Ada Boost Regressor \n",
        "---"
      ],
      "metadata": {
        "id": "bH17DJCp2WnI"
      }
    },
    {
      "cell_type": "code",
      "source": [
        "\n",
        "from sklearn.ensemble import AdaBoostRegressor\n",
        "\n",
        "grid = dict()\n",
        "grid['n_estimators'] = [1, 5, 10, 50, 100, 500]\n",
        "grid['learning_rate'] = [0.0001, 0.001, 0.01, 0.1, 1.0]\n",
        "# grid['algorithm'] = ['SAMME', 'SAMME.R']\n",
        "\n",
        "\n",
        "grid_search = GridSearchCV(estimator=AdaBoostRegressor(), param_grid=grid, n_jobs=-1, cv=5)\n",
        "grid_result = grid_search.fit(X_train , y_train)\n",
        "print(grid_result.best_params_)\n"
      ],
      "metadata": {
        "id": "N7Lv-mbzdzSM",
        "colab": {
          "base_uri": "https://localhost:8080/"
        },
        "outputId": "52ddf484-5e32-4985-d34c-3cde80c3713c"
      },
      "execution_count": null,
      "outputs": [
        {
          "output_type": "stream",
          "name": "stdout",
          "text": [
            "{'learning_rate': 0.1, 'n_estimators': 5}\n"
          ]
        }
      ]
    },
    {
      "cell_type": "code",
      "source": [
        "\n",
        "# Predicting the values for train and test data.\n",
        "y_train_pred = grid_result.predict(X_train)\n",
        "y_test_pred = grid_result.predict(X_test)\n",
        "\n",
        "# Mean Absolute Error of Training and Testing Data.\n",
        "AB_Train_MAE = mean_absolute_error(y_train, y_train_pred)\n",
        "print(\"Train Data MAE :\" , AB_Train_MAE)\n",
        "AB_Test_MAE = mean_absolute_error(y_test, y_test_pred)\n",
        "print(\"Test Data MAE :\" , AB_Test_MAE)\n",
        "\n",
        "# Mean Squared Error of Training and Testing Data.\n",
        "AB_Train_MSE = mean_squared_error((y_train), (y_train_pred))\n",
        "print(\"Train Data MSE :\" , AB_Train_MSE)\n",
        "AB_Test_MSE = mean_squared_error((y_test), (y_test_pred))\n",
        "print(\"Test Data MSE :\" , AB_Test_MSE)\n",
        "\n",
        "# Root Mean Squared error of Training and Testing Data.\n",
        "AB_Train_RMSE = np.sqrt(mean_squared_error((y_train), (y_train_pred)))\n",
        "print(\"Train Data RMSE:\" , AB_Train_RMSE)\n",
        "AB_Test_RMSE = np.sqrt(mean_squared_error((y_test), (y_test_pred)))\n",
        "print(\"Test Data RMSE:\" , AB_Test_RMSE)\n",
        "\n",
        "# Coefficient of determination of Training and Testing Data.\n",
        "AB_Train_R2 = r2_score((y_train), (y_train_pred))\n",
        "print(\"R2 :\" , AB_Train_R2)\n",
        "AB_Test_R2 = r2_score((y_test), (y_test_pred))\n",
        "print(\"R2 :\" , AB_Test_R2)\n",
        "\n",
        "# Adjusted R2 of Training and Testing Data.\n",
        "AB_Adjusted_R2 = 1-(1-r2_score((y_test), (y_test_pred)))*((X_test.shape[0]-1)/(X_test.shape[0]-X_test.shape[1]-1))\n",
        "print(\"Adjusted R2 : \", AB_Adjusted_R2)\n"
      ],
      "metadata": {
        "id": "GDiKXP0-dzPv",
        "colab": {
          "base_uri": "https://localhost:8080/"
        },
        "outputId": "87af6fbd-4304-4dd2-f8ef-388bca00ebac"
      },
      "execution_count": null,
      "outputs": [
        {
          "output_type": "stream",
          "name": "stdout",
          "text": [
            "Train Data MAE : 284877.95449717256\n",
            "Test Data MAE : 284347.94631075184\n",
            "Train Data MSE : 234258786339.78043\n",
            "Test Data MSE : 240002826281.12064\n",
            "Train Data RMSE: 484002.8784416271\n",
            "Test Data RMSE: 489900.83310923306\n",
            "R2 : 0.8080769448497926\n",
            "R2 : 0.8008367307318629\n",
            "Adjusted R2 :  0.799669106875182\n"
          ]
        }
      ]
    },
    {
      "cell_type": "markdown",
      "source": [
        "---\n",
        "# Gradient Boost Regressor \n",
        "---"
      ],
      "metadata": {
        "id": "jexivedx5Q44"
      }
    },
    {
      "cell_type": "code",
      "source": [
        "from sklearn.ensemble import GradientBoostingRegressor\n",
        "\n",
        "grid = dict()\n",
        "grid['n_estimators'] = [1, 3, 5, 10, 50, 100, 500]\n",
        "grid['learning_rate'] = [0.0001, 0.001, 0.01, 0.1, 1.0, 100]\n",
        "grid['max_depth'] = [1, 2, 3, 4, 5, 6, 7, 8, 9, 10]\n",
        "\n",
        "\n",
        "grid_search_gb = GridSearchCV(estimator = GradientBoostingRegressor(), param_grid=grid, n_jobs=-1, cv=5)\n",
        "grid_result = grid_search_gb.fit(X_train , y_train)\n",
        "print(grid_result.best_params_)"
      ],
      "metadata": {
        "colab": {
          "base_uri": "https://localhost:8080/"
        },
        "id": "VDJnqHfo5P-1",
        "outputId": "63a90f6a-66df-47c7-8c43-ff917de5d1ef"
      },
      "execution_count": null,
      "outputs": [
        {
          "output_type": "stream",
          "name": "stdout",
          "text": [
            "{'learning_rate': 0.01, 'max_depth': 3, 'n_estimators': 500}\n"
          ]
        }
      ]
    },
    {
      "cell_type": "code",
      "source": [
        "\n",
        "# Predicting the values for train and test data.\n",
        "y_train_pred = grid_result.predict(X_train)\n",
        "y_test_pred = grid_result.predict(X_test)\n",
        "\n",
        "# Mean Absolute Error of Training and Testing Data.\n",
        "GB_Train_MAE = mean_absolute_error(y_train, y_train_pred)\n",
        "print(\"Train Data MAE :\" , GB_Train_MAE)\n",
        "GB_Test_MAE = mean_absolute_error(y_test, y_test_pred)\n",
        "print(\"Test Data MAE :\" , GB_Test_MAE)\n",
        "\n",
        "# Mean Squared Error of Training and Testing Data.\n",
        "GB_Train_MSE = mean_squared_error((y_train), (y_train_pred))\n",
        "print(\"Train Data MSE :\" , GB_Train_MSE)\n",
        "GB_Test_MSE = mean_squared_error((y_test), (y_test_pred))\n",
        "print(\"Test Data MSE :\" , GB_Test_MSE)\n",
        "\n",
        "# Root Mean Squared error of Training and Testing Data.\n",
        "GB_Train_RMSE = np.sqrt(mean_squared_error((y_train), (y_train_pred)))\n",
        "print(\"Train Data RMSE:\" , GB_Train_RMSE)\n",
        "GB_Test_RMSE = np.sqrt(mean_squared_error((y_test), (y_test_pred)))\n",
        "print(\"Test Data RMSE:\" , GB_Test_RMSE)\n",
        "\n",
        "# Coefficient of determination of Training and Testing Data.\n",
        "GB_Train_R2 = r2_score((y_train), (y_train_pred))\n",
        "print(\"R2 :\" , GB_Train_R2)\n",
        "GB_Test_R2 = r2_score((y_test), (y_test_pred))\n",
        "print(\"R2 :\" , GB_Test_R2)\n",
        "\n",
        "# Adjusted R2 of Training and Testing Data.\n",
        "GB_Adjusted_R2 = 1-(1-r2_score((y_test), (y_test_pred)))*((X_test.shape[0]-1)/(X_test.shape[0]-X_test.shape[1]-1))\n",
        "print(\"Adjusted R2 : \", GB_Adjusted_R2)\n"
      ],
      "metadata": {
        "colab": {
          "base_uri": "https://localhost:8080/"
        },
        "id": "eV3U1Xz75P38",
        "outputId": "999cfbdf-3c0a-45af-bedc-83f9833959c9"
      },
      "execution_count": null,
      "outputs": [
        {
          "output_type": "stream",
          "name": "stdout",
          "text": [
            "Train Data MAE : 206282.5133957873\n",
            "Test Data MAE : 210095.72249565815\n",
            "Train Data MSE : 171943672346.92993\n",
            "Test Data MSE : 183169969369.09143\n",
            "Train Data RMSE: 414660.91248986794\n",
            "Test Data RMSE: 427983.60876217147\n",
            "R2 : 0.8591303428734397\n",
            "R2 : 0.847998748612393\n",
            "Adjusted R2 :  0.8471076189978928\n"
          ]
        }
      ]
    },
    {
      "cell_type": "markdown",
      "source": [
        "---\n",
        "# XG Boost Regressor \n",
        "---"
      ],
      "metadata": {
        "id": "GkjucDeD2kiq"
      }
    },
    {
      "cell_type": "code",
      "source": [
        "\n",
        "from xgboost import XGBRegressor\n",
        "xgb = XGBRegressor(learning_rate=0.1)\n",
        "grid_values = {'n_estimators':[10, 30, 50, 80, 100], 'max_depth':[1, 3, 5, 7, 9]}\n",
        "xgb_random = RandomizedSearchCV(xgb, param_distributions = grid_values, cv=3)\n",
        "\n",
        "# Fit the object to train dataset\n",
        "xgb_random.fit(X_train, y_train)\n"
      ],
      "metadata": {
        "id": "60f96pGedzNG",
        "colab": {
          "base_uri": "https://localhost:8080/"
        },
        "outputId": "d6c0b900-d68c-40f9-f2a7-88b46a0248c1"
      },
      "execution_count": null,
      "outputs": [
        {
          "output_type": "stream",
          "name": "stdout",
          "text": [
            "[10:33:21] WARNING: /workspace/src/objective/regression_obj.cu:152: reg:linear is now deprecated in favor of reg:squarederror.\n",
            "[10:33:21] WARNING: /workspace/src/objective/regression_obj.cu:152: reg:linear is now deprecated in favor of reg:squarederror.\n",
            "[10:33:22] WARNING: /workspace/src/objective/regression_obj.cu:152: reg:linear is now deprecated in favor of reg:squarederror.\n",
            "[10:33:22] WARNING: /workspace/src/objective/regression_obj.cu:152: reg:linear is now deprecated in favor of reg:squarederror.\n",
            "[10:33:22] WARNING: /workspace/src/objective/regression_obj.cu:152: reg:linear is now deprecated in favor of reg:squarederror.\n",
            "[10:33:22] WARNING: /workspace/src/objective/regression_obj.cu:152: reg:linear is now deprecated in favor of reg:squarederror.\n",
            "[10:33:22] WARNING: /workspace/src/objective/regression_obj.cu:152: reg:linear is now deprecated in favor of reg:squarederror.\n",
            "[10:33:22] WARNING: /workspace/src/objective/regression_obj.cu:152: reg:linear is now deprecated in favor of reg:squarederror.\n",
            "[10:33:22] WARNING: /workspace/src/objective/regression_obj.cu:152: reg:linear is now deprecated in favor of reg:squarederror.\n",
            "[10:33:22] WARNING: /workspace/src/objective/regression_obj.cu:152: reg:linear is now deprecated in favor of reg:squarederror.\n",
            "[10:33:22] WARNING: /workspace/src/objective/regression_obj.cu:152: reg:linear is now deprecated in favor of reg:squarederror.\n",
            "[10:33:22] WARNING: /workspace/src/objective/regression_obj.cu:152: reg:linear is now deprecated in favor of reg:squarederror.\n",
            "[10:33:23] WARNING: /workspace/src/objective/regression_obj.cu:152: reg:linear is now deprecated in favor of reg:squarederror.\n",
            "[10:33:23] WARNING: /workspace/src/objective/regression_obj.cu:152: reg:linear is now deprecated in favor of reg:squarederror.\n",
            "[10:33:23] WARNING: /workspace/src/objective/regression_obj.cu:152: reg:linear is now deprecated in favor of reg:squarederror.\n",
            "[10:33:23] WARNING: /workspace/src/objective/regression_obj.cu:152: reg:linear is now deprecated in favor of reg:squarederror.\n",
            "[10:33:23] WARNING: /workspace/src/objective/regression_obj.cu:152: reg:linear is now deprecated in favor of reg:squarederror.\n",
            "[10:33:23] WARNING: /workspace/src/objective/regression_obj.cu:152: reg:linear is now deprecated in favor of reg:squarederror.\n",
            "[10:33:23] WARNING: /workspace/src/objective/regression_obj.cu:152: reg:linear is now deprecated in favor of reg:squarederror.\n",
            "[10:33:23] WARNING: /workspace/src/objective/regression_obj.cu:152: reg:linear is now deprecated in favor of reg:squarederror.\n",
            "[10:33:23] WARNING: /workspace/src/objective/regression_obj.cu:152: reg:linear is now deprecated in favor of reg:squarederror.\n",
            "[10:33:24] WARNING: /workspace/src/objective/regression_obj.cu:152: reg:linear is now deprecated in favor of reg:squarederror.\n",
            "[10:33:24] WARNING: /workspace/src/objective/regression_obj.cu:152: reg:linear is now deprecated in favor of reg:squarederror.\n",
            "[10:33:24] WARNING: /workspace/src/objective/regression_obj.cu:152: reg:linear is now deprecated in favor of reg:squarederror.\n",
            "[10:33:24] WARNING: /workspace/src/objective/regression_obj.cu:152: reg:linear is now deprecated in favor of reg:squarederror.\n",
            "[10:33:24] WARNING: /workspace/src/objective/regression_obj.cu:152: reg:linear is now deprecated in favor of reg:squarederror.\n",
            "[10:33:24] WARNING: /workspace/src/objective/regression_obj.cu:152: reg:linear is now deprecated in favor of reg:squarederror.\n",
            "[10:33:24] WARNING: /workspace/src/objective/regression_obj.cu:152: reg:linear is now deprecated in favor of reg:squarederror.\n",
            "[10:33:24] WARNING: /workspace/src/objective/regression_obj.cu:152: reg:linear is now deprecated in favor of reg:squarederror.\n",
            "[10:33:24] WARNING: /workspace/src/objective/regression_obj.cu:152: reg:linear is now deprecated in favor of reg:squarederror.\n",
            "[10:33:24] WARNING: /workspace/src/objective/regression_obj.cu:152: reg:linear is now deprecated in favor of reg:squarederror.\n"
          ]
        },
        {
          "output_type": "execute_result",
          "data": {
            "text/plain": [
              "RandomizedSearchCV(cv=3, estimator=XGBRegressor(),\n",
              "                   param_distributions={'max_depth': [1, 3, 5, 7, 9],\n",
              "                                        'n_estimators': [10, 30, 50, 80, 100]})"
            ]
          },
          "metadata": {},
          "execution_count": 137
        }
      ]
    },
    {
      "cell_type": "code",
      "source": [
        "\n",
        "# finding the optimal model w.r.t. best_estimator_\n",
        "xgb_optimal_model = xgb_random.best_estimator_\n",
        "xgb_optimal_model\n"
      ],
      "metadata": {
        "id": "e5pReTu9dzKK",
        "colab": {
          "base_uri": "https://localhost:8080/"
        },
        "outputId": "c7bf82b3-f90d-40a4-f054-623416885d94"
      },
      "execution_count": null,
      "outputs": [
        {
          "output_type": "execute_result",
          "data": {
            "text/plain": [
              "XGBRegressor()"
            ]
          },
          "metadata": {},
          "execution_count": 138
        }
      ]
    },
    {
      "cell_type": "code",
      "source": [
        "# Predicting the values for train and test data.\n",
        "\n",
        "y_train_pred =  xgb_optimal_model.predict(X_train)\n",
        "y_test_pred  = xgb_optimal_model.predict(X_test)\n",
        "\n",
        "# Mean Absolute Error of Training and Testing Data.\n",
        "XG_Train_MAE = mean_absolute_error(y_train, y_train_pred)\n",
        "print(\"Train Data MAE :\" , XG_Train_MAE)\n",
        "XG_Test_MAE = mean_absolute_error(y_test, y_test_pred)\n",
        "print(\"Test Data MAE :\" , XG_Test_MAE)\n",
        "\n",
        "# Mean Squared Error of Training and Testing Data.\n",
        "XG_Train_MSE = mean_squared_error((y_train), (y_train_pred))\n",
        "print(\"Train Data MSE :\" , XG_Train_MSE)\n",
        "XG_Test_MSE = mean_squared_error((y_test), (y_test_pred))\n",
        "print(\"Test Data MSE :\" , XG_Test_MSE)\n",
        "\n",
        "# Root Mean Squared error of Training and Testing Data.\n",
        "XG_Train_RMSE = np.sqrt(mean_squared_error((y_train), (y_train_pred)))\n",
        "print(\"Train Data RMSE:\" , XG_Train_RMSE)\n",
        "XG_Test_RMSE = np.sqrt(mean_squared_error((y_test), (y_test_pred)))\n",
        "print(\"Test Data RMSE:\" , XG_Test_RMSE)\n",
        "\n",
        "# Coefficient of determination of Training and Testing Data.\n",
        "XG_Train_R2 = r2_score((y_train), (y_train_pred))\n",
        "print(\"R2 :\" , XG_Train_R2)\n",
        "XG_Test_R2 = r2_score((y_test), (y_test_pred))\n",
        "print(\"R2 :\" , XG_Test_R2)\n",
        "\n",
        "# Adjusted R2 of Training and Testing Data.\n",
        "XG_Adjusted_R2 = 1-(1-r2_score((y_test), (y_test_pred)))*((X_test.shape[0]-1)/(X_test.shape[0]-X_test.shape[1]-1))\n",
        "print(\"Adjusted R2 : \", XG_Adjusted_R2)\n"
      ],
      "metadata": {
        "id": "cB0JrYx-dzCr",
        "colab": {
          "base_uri": "https://localhost:8080/"
        },
        "outputId": "bbda5654-4815-43e7-b8d2-ad381784e43d"
      },
      "execution_count": null,
      "outputs": [
        {
          "output_type": "stream",
          "name": "stdout",
          "text": [
            "Train Data MAE : 196696.66039742818\n",
            "Test Data MAE : 210059.153406432\n",
            "Train Data MSE : 156930302338.62024\n",
            "Test Data MSE : 183293033801.44815\n",
            "Train Data RMSE: 396144.29484547704\n",
            "Test Data RMSE: 428127.35698790394\n",
            "R2 : 0.8714304656782934\n",
            "R2 : 0.8478966251705211\n",
            "Adjusted R2 :  0.8470048968423751\n"
          ]
        }
      ]
    },
    {
      "cell_type": "code",
      "source": [
        "# getting features according to their importance in prediction\n",
        "xgb_features = X_train.columns\n",
        "xgb_importances = xgb_random.best_estimator_.feature_importances_\n",
        "xgb_indices = np.argsort(xgb_importances)"
      ],
      "metadata": {
        "id": "OhZZK34KdzA3"
      },
      "execution_count": null,
      "outputs": []
    },
    {
      "cell_type": "code",
      "source": [
        "plt.figure(figsize=(10,6))\n",
        "plt.bar(x=xgb_features, height=xgb_importances, color='aqua')\n",
        "plt.title('Feature importances for XGBoost Model', size=20)\n",
        "plt.xticks(rotation='vertical')\n",
        "plt.show()"
      ],
      "metadata": {
        "id": "MJVLLrfedy94",
        "colab": {
          "base_uri": "https://localhost:8080/",
          "height": 590
        },
        "outputId": "f4a9a30c-f693-490f-cde4-5df82367b400"
      },
      "execution_count": null,
      "outputs": [
        {
          "output_type": "display_data",
          "data": {
            "text/plain": [
              "<Figure size 720x432 with 1 Axes>"
            ],
            "image/png": "[encoded data removed]"
          },
          "metadata": {}
        }
      ]
    },
    {
      "cell_type": "code",
      "source": [
        "ml_models = [{'Model Name': 'Linear Regression',\n",
        "                 'Train MAE': LR_Train_MAE, 'Test MAE': LR_Test_MAE,\n",
        "                 'Train MSE': LR_Train_MSE, 'Test MSE ': LR_Test_MSE,\n",
        "                 'Train RMSE': LR_Train_RMSE, 'Test RMSE': LR_Test_MSE, \n",
        "                 'Train R2': LR_Train_R2, 'Test R2': LR_Test_R2,\n",
        "                 'Adjusted R2': LR_Adjusted_R2},\n",
        "            {'Model Name': 'Lasso Regularization',\n",
        "                 'Train MAE': LA_Train_MAE, 'Test MAE': LA_Test_MAE,\n",
        "                 'Train MSE': LA_Train_MSE, 'Test MSE ': LA_Test_MSE,\n",
        "                 'Train RMSE': LA_Train_RMSE, 'Test RMSE': LA_Test_MSE, \n",
        "                 'Train R2': LA_Train_R2, 'Test R2': LA_Test_R2,\n",
        "                 'Adjusted R2': LA_Adjusted_R2},\n",
        "            {'Model Name': 'Ridge Regularization',\n",
        "                 'Train MAE': RR_Train_MAE, 'Test MAE': RR_Test_MAE,\n",
        "                 'Train MSE': RR_Train_MSE, 'Test MSE ': RR_Test_MSE,\n",
        "                 'Train RMSE': RR_Train_RMSE, 'Test RMSE': RR_Test_MSE, \n",
        "                 'Train R2': RR_Train_R2, 'Test R2': RR_Test_R2,\n",
        "                 'Adjusted R2': RR_Adjusted_R2},\n",
        "            {'Model Name': 'Elastic Net Regularization',\n",
        "                 'Train MAE': ER_Train_MAE, 'Test MAE': ER_Test_MAE,\n",
        "                 'Train MSE': ER_Train_MSE, 'Test MSE ': ER_Test_MSE,\n",
        "                 'Train RMSE': ER_Train_RMSE, 'Test RMSE': ER_Test_MSE, \n",
        "                 'Train R2': ER_Train_R2, 'Test R2': ER_Test_R2,\n",
        "                 'Adjusted R2': ER_Adjusted_R2},\n",
        "            {'Model Name': 'Decision Tree Regression',\n",
        "                 'Train MAE': DTR_Train_MAE, 'Test MAE': DTR_Test_MAE,\n",
        "                 'Train MSE': DTR_Train_MSE, 'Test MSE ': DTR_Test_MSE,\n",
        "                 'Train RMSE': DTR_Train_RMSE, 'Test RMSE': DTR_Test_MSE, \n",
        "                 'Train R2': DTR_Train_R2, 'Test R2': DTR_Test_R2,\n",
        "                 'Adjusted R2': DTR_Adjusted_R2},\n",
        "            {'Model Name': 'Random Forest Regression',\n",
        "                 'Train MAE': RFR_Train_MAE, 'Test MAE': RFR_Test_MAE,\n",
        "                 'Train MSE': RFR_Train_MSE, 'Test MSE ': RFR_Test_MSE,\n",
        "                 'Train RMSE': RFR_Train_RMSE, 'Test RMSE': RFR_Test_MSE, \n",
        "                 'Train R2': RFR_Train_R2, 'Test R2': RFR_Test_R2,\n",
        "                 'Adjusted R2': RFR_Adjusted_R2},\n",
        "            {'Model Name': 'Ada Boost Regression',\n",
        "                 'Train MAE': AB_Train_MAE, 'Test MAE': AB_Test_MAE,\n",
        "                 'Train MSE': AB_Train_MSE, 'Test MSE ': AB_Test_MSE,\n",
        "                 'Train RMSE': AB_Train_RMSE, 'Test RMSE': AB_Test_MSE, \n",
        "                 'Train R2': AB_Train_R2, 'Test R2': AB_Test_R2,\n",
        "                 'Adjusted R2': AB_Adjusted_R2},\n",
        "            {'Model Name': 'Gradient Boost Regression',\n",
        "                 'Train MAE': GB_Train_MAE, 'Test MAE': GB_Test_MAE,\n",
        "                 'Train MSE': GB_Train_MSE, 'Test MSE ': GB_Test_MSE,\n",
        "                 'Train RMSE': GB_Train_RMSE, 'Test RMSE': GB_Test_MSE, \n",
        "                 'Train R2': GB_Train_R2, 'Test R2': GB_Test_R2,\n",
        "                 'Adjusted R2': GB_Adjusted_R2},\n",
        "            {'Model Name': 'XG Boost Regression',\n",
        "                 'Train MAE': XG_Train_MAE, 'Test MAE': XG_Test_MAE,\n",
        "                 'Train MSE': XG_Train_MSE, 'Test MSE ': XG_Test_MSE,\n",
        "                 'Train RMSE': XG_Train_RMSE, 'Test RMSE': XG_Test_MSE, \n",
        "                 'Train R2': XG_Train_R2, 'Test R2': XG_Test_R2,\n",
        "                 'Adjusted R2': XG_Adjusted_R2}]"
      ],
      "metadata": {
        "id": "_liTbBj-dy7I"
      },
      "execution_count": null,
      "outputs": []
    },
    {
      "cell_type": "code",
      "source": [
        "final_df = pd.DataFrame(ml_models)"
      ],
      "metadata": {
        "id": "GGKROP_1dy19"
      },
      "execution_count": null,
      "outputs": []
    },
    {
      "cell_type": "code",
      "source": [
        "final_df"
      ],
      "metadata": {
        "id": "-MEgC36idyyF",
        "colab": {
          "base_uri": "https://localhost:8080/",
          "height": 332
        },
        "outputId": "a7949ac8-29ce-47b1-d61d-9c7be5bffe7b"
      },
      "execution_count": null,
      "outputs": [
        {
          "output_type": "execute_result",
          "data": {
            "text/plain": [
              "                   Model Name      Train MAE       Test MAE     Train MSE  \\\n",
              "0           Linear Regression  269752.951045  253960.939905  2.417273e+11   \n",
              "1        Lasso Regularization  269752.951045  253960.939905  2.417273e+11   \n",
              "2        Ridge Regularization  269299.578018  253951.515051  2.421010e+11   \n",
              "3  Elastic Net Regularization  269231.947612  253899.855298  2.421132e+11   \n",
              "4    Decision Tree Regression  250880.549152  250674.397997  2.115193e+11   \n",
              "5    Random Forest Regression  168247.970303  176522.680720  1.764704e+11   \n",
              "6        Ada Boost Regression  284877.954497  284347.946311  2.342588e+11   \n",
              "7   Gradient Boost Regression  206282.513396  210095.722496  1.719437e+11   \n",
              "8         XG Boost Regression  196696.660397  210059.153406  1.569303e+11   \n",
              "\n",
              "      Test MSE      Train RMSE     Test RMSE  Train R2   Test R2  Adjusted R2  \n",
              "0  2.047239e+11  491657.693079  2.047239e+11  0.801958  0.830112     0.829117  \n",
              "1  2.047239e+11  491657.693079  2.047239e+11  0.801958  0.830112     0.829117  \n",
              "2  2.057440e+11  492037.644205  2.057440e+11  0.801652  0.829266     0.828265  \n",
              "3  2.057783e+11  492049.980882  2.057783e+11  0.801642  0.829238     0.828236  \n",
              "4  2.194107e+11  459912.314598  2.194107e+11  0.826707  0.817925     0.816857  \n",
              "5  1.969081e+11  420083.851211  1.969081e+11  0.855422  0.836598     0.835640  \n",
              "6  2.400028e+11  484002.878442  2.400028e+11  0.808077  0.800837     0.799669  \n",
              "7  1.831700e+11  414660.912490  1.831700e+11  0.859130  0.847999     0.847108  \n",
              "8  1.832930e+11  396144.294845  1.832930e+11  0.871430  0.847897     0.847005  "
            ],
            "text/html": [
              "\n",
              "  <div id=\"df-c7c4acf3-18eb-475d-b0cd-2203ff8f3c91\">\n",
              "    <div class=\"colab-df-container\">\n",
              "      <div>\n",
              "<style scoped>\n",
              "    .dataframe tbody tr th:only-of-type {\n",
              "        vertical-align: middle;\n",
              "    }\n",
              "\n",
              "    .dataframe tbody tr th {\n",
              "        vertical-align: top;\n",
              "    }\n",
              "\n",
              "    .dataframe thead th {\n",
              "        text-align: right;\n",
              "    }\n",
              "</style>\n",
              "<table border=\"1\" class=\"dataframe\">\n",
              "  <thead>\n",
              "    <tr style=\"text-align: right;\">\n",
              "      <th></th>\n",
              "      <th>Model Name</th>\n",
              "      <th>Train MAE</th>\n",
              "      <th>Test MAE</th>\n",
              "      <th>Train MSE</th>\n",
              "      <th>Test MSE</th>\n",
              "      <th>Train RMSE</th>\n",
              "      <th>Test RMSE</th>\n",
              "      <th>Train R2</th>\n",
              "      <th>Test R2</th>\n",
              "      <th>Adjusted R2</th>\n",
              "    </tr>\n",
              "  </thead>\n",
              "  <tbody>\n",
              "    <tr>\n",
              "      <th>0</th>\n",
              "      <td>Linear Regression</td>\n",
              "      <td>269752.951045</td>\n",
              "      <td>253960.939905</td>\n",
              "      <td>2.417273e+11</td>\n",
              "      <td>2.047239e+11</td>\n",
              "      <td>491657.693079</td>\n",
              "      <td>2.047239e+11</td>\n",
              "      <td>0.801958</td>\n",
              "      <td>0.830112</td>\n",
              "      <td>0.829117</td>\n",
              "    </tr>\n",
              "    <tr>\n",
              "      <th>1</th>\n",
              "      <td>Lasso Regularization</td>\n",
              "      <td>269752.951045</td>\n",
              "      <td>253960.939905</td>\n",
              "      <td>2.417273e+11</td>\n",
              "      <td>2.047239e+11</td>\n",
              "      <td>491657.693079</td>\n",
              "      <td>2.047239e+11</td>\n",
              "      <td>0.801958</td>\n",
              "      <td>0.830112</td>\n",
              "      <td>0.829117</td>\n",
              "    </tr>\n",
              "    <tr>\n",
              "      <th>2</th>\n",
              "      <td>Ridge Regularization</td>\n",
              "      <td>269299.578018</td>\n",
              "      <td>253951.515051</td>\n",
              "      <td>2.421010e+11</td>\n",
              "      <td>2.057440e+11</td>\n",
              "      <td>492037.644205</td>\n",
              "      <td>2.057440e+11</td>\n",
              "      <td>0.801652</td>\n",
              "      <td>0.829266</td>\n",
              "      <td>0.828265</td>\n",
              "    </tr>\n",
              "    <tr>\n",
              "      <th>3</th>\n",
              "      <td>Elastic Net Regularization</td>\n",
              "      <td>269231.947612</td>\n",
              "      <td>253899.855298</td>\n",
              "      <td>2.421132e+11</td>\n",
              "      <td>2.057783e+11</td>\n",
              "      <td>492049.980882</td>\n",
              "      <td>2.057783e+11</td>\n",
              "      <td>0.801642</td>\n",
              "      <td>0.829238</td>\n",
              "      <td>0.828236</td>\n",
              "    </tr>\n",
              "    <tr>\n",
              "      <th>4</th>\n",
              "      <td>Decision Tree Regression</td>\n",
              "      <td>250880.549152</td>\n",
              "      <td>250674.397997</td>\n",
              "      <td>2.115193e+11</td>\n",
              "      <td>2.194107e+11</td>\n",
              "      <td>459912.314598</td>\n",
              "      <td>2.194107e+11</td>\n",
              "      <td>0.826707</td>\n",
              "      <td>0.817925</td>\n",
              "      <td>0.816857</td>\n",
              "    </tr>\n",
              "    <tr>\n",
              "      <th>5</th>\n",
              "      <td>Random Forest Regression</td>\n",
              "      <td>168247.970303</td>\n",
              "      <td>176522.680720</td>\n",
              "      <td>1.764704e+11</td>\n",
              "      <td>1.969081e+11</td>\n",
              "      <td>420083.851211</td>\n",
              "      <td>1.969081e+11</td>\n",
              "      <td>0.855422</td>\n",
              "      <td>0.836598</td>\n",
              "      <td>0.835640</td>\n",
              "    </tr>\n",
              "    <tr>\n",
              "      <th>6</th>\n",
              "      <td>Ada Boost Regression</td>\n",
              "      <td>284877.954497</td>\n",
              "      <td>284347.946311</td>\n",
              "      <td>2.342588e+11</td>\n",
              "      <td>2.400028e+11</td>\n",
              "      <td>484002.878442</td>\n",
              "      <td>2.400028e+11</td>\n",
              "      <td>0.808077</td>\n",
              "      <td>0.800837</td>\n",
              "      <td>0.799669</td>\n",
              "    </tr>\n",
              "    <tr>\n",
              "      <th>7</th>\n",
              "      <td>Gradient Boost Regression</td>\n",
              "      <td>206282.513396</td>\n",
              "      <td>210095.722496</td>\n",
              "      <td>1.719437e+11</td>\n",
              "      <td>1.831700e+11</td>\n",
              "      <td>414660.912490</td>\n",
              "      <td>1.831700e+11</td>\n",
              "      <td>0.859130</td>\n",
              "      <td>0.847999</td>\n",
              "      <td>0.847108</td>\n",
              "    </tr>\n",
              "    <tr>\n",
              "      <th>8</th>\n",
              "      <td>XG Boost Regression</td>\n",
              "      <td>196696.660397</td>\n",
              "      <td>210059.153406</td>\n",
              "      <td>1.569303e+11</td>\n",
              "      <td>1.832930e+11</td>\n",
              "      <td>396144.294845</td>\n",
              "      <td>1.832930e+11</td>\n",
              "      <td>0.871430</td>\n",
              "      <td>0.847897</td>\n",
              "      <td>0.847005</td>\n",
              "    </tr>\n",
              "  </tbody>\n",
              "</table>\n",
              "</div>\n",
              "      <button class=\"colab-df-convert\" onclick=\"convertToInteractive('df-c7c4acf3-18eb-475d-b0cd-2203ff8f3c91')\"\n",
              "              title=\"Convert this dataframe to an interactive table.\"\n",
              "              style=\"display:none;\">\n",
              "        \n",
              "  <svg xmlns=\"http://www.w3.org/2000/svg\" height=\"24px\"viewBox=\"0 0 24 24\"\n",
              "       width=\"24px\">\n",
              "    <path d=\"M0 0h24v24H0V0z\" fill=\"none\"/>\n",
              "    <path d=\"M18.56 5.44l.94 2.06.94-2.06 2.06-.94-2.06-.94-.94-2.06-.94 2.06-2.06.94zm-11 1L8.5 8.5l.94-2.06 2.06-.94-2.06-.94L8.5 2.5l-.94 2.06-2.06.94zm10 10l.94 2.06.94-2.06 2.06-.94-2.06-.94-.94-2.06-.94 2.06-2.06.94z\"/><path d=\"M17.41 7.96l-1.37-1.37c-.4-.4-.92-.59-1.43-.59-.52 0-1.04.2-1.43.59L10.3 9.45l-7.72 7.72c-.78.78-.78 2.05 0 2.83L4 21.41c.39.39.9.59 1.41.59.51 0 1.02-.2 1.41-.59l7.78-7.78 2.81-2.81c.8-.78.8-2.07 0-2.86zM5.41 20L4 18.59l7.72-7.72 1.47 1.35L5.41 20z\"/>\n",
              "  </svg>\n",
              "      </button>\n",
              "      \n",
              "  <style>\n",
              "    .colab-df-container {\n",
              "      display:flex;\n",
              "      flex-wrap:wrap;\n",
              "      gap: 12px;\n",
              "    }\n",
              "\n",
              "    .colab-df-convert {\n",
              "      background-color: #E8F0FE;\n",
              "      border: none;\n",
              "      border-radius: 50%;\n",
              "      cursor: pointer;\n",
              "      display: none;\n",
              "      fill: #1967D2;\n",
              "      height: 32px;\n",
              "      padding: 0 0 0 0;\n",
              "      width: 32px;\n",
              "    }\n",
              "\n",
              "    .colab-df-convert:hover {\n",
              "      background-color: #E2EBFA;\n",
              "      box-shadow: 0px 1px 2px rgba(60, 64, 67, 0.3), 0px 1px 3px 1px rgba(60, 64, 67, 0.15);\n",
              "      fill: #174EA6;\n",
              "    }\n",
              "\n",
              "    [theme=dark] .colab-df-convert {\n",
              "      background-color: #3B4455;\n",
              "      fill: #D2E3FC;\n",
              "    }\n",
              "\n",
              "    [theme=dark] .colab-df-convert:hover {\n",
              "      background-color: #434B5C;\n",
              "      box-shadow: 0px 1px 3px 1px rgba(0, 0, 0, 0.15);\n",
              "      filter: drop-shadow(0px 1px 2px rgba(0, 0, 0, 0.3));\n",
              "      fill: #FFFFFF;\n",
              "    }\n",
              "  </style>\n",
              "\n",
              "      <script>\n",
              "        const buttonEl =\n",
              "          document.querySelector('#df-c7c4acf3-18eb-475d-b0cd-2203ff8f3c91 button.colab-df-convert');\n",
              "        buttonEl.style.display =\n",
              "          google.colab.kernel.accessAllowed ? 'block' : 'none';\n",
              "\n",
              "        async function convertToInteractive(key) {\n",
              "          const element = document.querySelector('#df-c7c4acf3-18eb-475d-b0cd-2203ff8f3c91');\n",
              "          const dataTable =\n",
              "            await google.colab.kernel.invokeFunction('convertToInteractive',\n",
              "                                                     [key], {});\n",
              "          if (!dataTable) return;\n",
              "\n",
              "          const docLinkHtml = 'Like what you see? Visit the ' +\n",
              "            '<a target=\"_blank\" href=https://colab.research.google.com/notebooks/data_table.ipynb>data table notebook</a>'\n",
              "            + ' to learn more about interactive tables.';\n",
              "          element.innerHTML = '';\n",
              "          dataTable['output_type'] = 'display_data';\n",
              "          await google.colab.output.renderOutput(dataTable, element);\n",
              "          const docLink = document.createElement('div');\n",
              "          docLink.innerHTML = docLinkHtml;\n",
              "          element.appendChild(docLink);\n",
              "        }\n",
              "      </script>\n",
              "    </div>\n",
              "  </div>\n",
              "  "
            ]
          },
          "metadata": {},
          "execution_count": 146
        }
      ]
    },
    {
      "cell_type": "markdown",
      "source": [
        "### From all of the models we can clearly see that Gradient Boost and XG Boost are performing better than other. In these two Gradient Boost has a bit lesser RMSE, MSE and higher R2 and Adjusted R2 values. So, Gradient Boost is the best model for this problem statement."
      ],
      "metadata": {
        "id": "cYALJ3FJLLq0"
      }
    }
  ]
}
